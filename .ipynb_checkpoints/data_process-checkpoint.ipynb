{
 "cells": [
  {
   "cell_type": "markdown",
   "id": "57ac8fa0-c940-435c-8c2a-5477ff435d19",
   "metadata": {},
   "source": [
    "\n",
    "\n",
    "\n",
    "\n",
    "### CCPD2020新能源车牌数据集\n",
    "CPPD的图片文件名具有特殊规则，详细可查看：https://github.com/detectRecog/CCPD\n",
    "\n",
    "具体规则如下：\n",
    "\n",
    "例如: 025-95_113-154&383_386&473-386&473_177&454_154&383_363&402-0_0_22_27_27_33_16-37-15.jpg\n",
    "\n",
    "每个名称可以分为七个字段，以-符号作为分割。这些字段解释如下。\n",
    "009144965277777778-90_263-326&515_498&569-493&569_332&569_326&515_498&515-0_0_3_26_26_31_30_31-138-8.jpg\n",
    "- 025：车牌面积与整个图片区域的面积比。025 (25%)\n",
    "\n",
    "- 95_113：水平倾斜程度和垂直倾斜度。水平 95度 垂直 113度\n",
    "\n",
    "- 154&383_386&473：左上和右下顶点的坐标。左上(154,383) 右下(386,473)\n",
    "\n",
    "- 386&473_177&454_154&383_363&402：整个图像中车牌的四个顶点的精确（x，y）坐标。这些坐标从右下角顶点开始。(386,473) (177,454) (154,383) (363,402)\n",
    "\n",
    "- 0_0_22_27_27_33_16：CCPD中的每个图像只有一个车牌。每个车牌号码由一个汉字，一个字母和五个字母或数字组成。有效的中文车牌由七个字符组成：省（1个字符），字母（1个字符），字母+数字（5个字符）。“ 0_0_22_27_27_33_16”是每个字符的索引。这三个数组定义如下。每个数组的最后一个字符是字母O，而不是数字0。我们将O用作“无字符”的符号，因为中文车牌字符中没有O。因此以上车牌拼起来即为 皖AY339S\n",
    "\n",
    "- 37：牌照区域的亮度。 37 (37%)\n",
    "\n",
    "- 15：车牌区域的模糊度。15 (15%)\n",
    "\n",
    "```python\n",
    "provinces = [\"皖\", \"沪\", \"津\", \"渝\", \"冀\", \"晋\", \"蒙\", \"辽\", \"吉\", \"黑\", \"苏\", \"浙\", \"京\", \"闽\", \"赣\", \"鲁\", \"豫\", \"鄂\", \"湘\", \"粤\", \"桂\", \"琼\", \"川\", \"贵\", \"云\", \"藏\", \"陕\", \"甘\", \"青\", \"宁\", \"新\", \"警\", \"学\", \"O\"]\n",
    "alphabets = ['A', 'B', 'C', 'D', 'E', 'F', 'G', 'H', 'J', 'K', 'L', 'M', 'N', 'P', 'Q', 'R', 'S', 'T', 'U', 'V', 'W','X', 'Y', 'Z', 'O']\n",
    "ads = ['A', 'B', 'C', 'D', 'E', 'F', 'G', 'H', 'J', 'K', 'L', 'M', 'N', 'P', 'Q', 'R', 'S', 'T', 'U', 'V', 'W', 'X','Y', 'Z', '0', '1', '2', '3', '4', '5', '6', '7', '8', '9', 'O']\n",
    "```\n"
   ]
  },
  {
   "cell_type": "markdown",
   "id": "3d53958b-b5e4-45bc-a6fc-7b6dfb6a929e",
   "metadata": {},
   "source": [
    "## CCPD2020 模型数据准备"
   ]
  },
  {
   "cell_type": "markdown",
   "id": "c1f08347-56b8-42ae-8a6b-e73c6ea3f1c5",
   "metadata": {},
   "source": [
    "### 一 、划分训练集、测试集"
   ]
  },
  {
   "cell_type": "code",
   "execution_count": 13,
   "id": "43ffffcc-099f-41af-a455-0039a667f07d",
   "metadata": {},
   "outputs": [],
   "source": [
    "import os\n",
    "import shutil\n",
    "\n",
    "def clean_dir(path):\n",
    "    shutil.rmtree(path) ###删除文件夹\n",
    "    os.mkdir(path)## 创建文件夹\n",
    "\n",
    "clean_dir(\"/root/autodl-tmp/ultralytics/apply/plate_ocr/images/train\")\n",
    "clean_dir(\"/root/autodl-tmp/ultralytics/apply/plate_ocr/images/val/\")\n",
    "\n",
    "clean_dir(\"/root/autodl-tmp/ultralytics/apply/plate_ocr/labels/train/\")\n",
    "clean_dir(\"/root/autodl-tmp/ultralytics/apply/plate_ocr/labels/val/\")\n",
    "\n",
    "image_list_train=os_get_files(\"/root/autodl-tmp/ultralytics/apply/plate_ocr/CCPD2020/ccpd_green/train/\")\n",
    "image_list_val=os_get_files(\"/root/autodl-tmp/ultralytics/apply/plate_ocr/CCPD2020/ccpd_green/val/\")\n",
    "\n",
    "\n",
    "\n",
    "\n",
    "\n",
    "## 随机取list\n",
    "import random\n",
    "train_list=random.sample(image_list_train,1000)\n",
    "val_list=random.sample(image_list_val,1000)\n",
    "\n",
    "## 移动图像list：\n",
    "## 将图片移到目标文件夹\n",
    "import re\n",
    "def move_files(listpath,trapath):\n",
    "    for img in listpath:\n",
    "        #print(\"/root/autodl-tmp/ultralytics/apply/cpc_yolo/images/train/\"+img.split('/')[-1])\n",
    "        shutil.copy(img,trapath+img.split('/')[-1])\n",
    "\n",
    "\n",
    "move_files(train_list,\"/root/autodl-tmp/ultralytics/apply/plate_ocr/images/train/\")\n",
    "move_files(val_list,\"/root/autodl-tmp/ultralytics/apply/plate_ocr/images/val/\")"
   ]
  },
  {
   "cell_type": "code",
   "execution_count": null,
   "id": "1f8ff71a-f481-4ba6-9f6e-bcf85d03c173",
   "metadata": {},
   "outputs": [],
   "source": []
  },
  {
   "cell_type": "code",
   "execution_count": null,
   "id": "9887ff7a-16a5-442c-9e58-238071c51901",
   "metadata": {},
   "outputs": [],
   "source": []
  },
  {
   "cell_type": "markdown",
   "id": "656f5e08-669e-4a78-a651-12517cf3f4e0",
   "metadata": {},
   "source": [
    "### 二  处理坐标信息"
   ]
  },
  {
   "cell_type": "code",
   "execution_count": null,
   "id": "ce1052e5-beaf-424f-984a-039a6e1ca7fa",
   "metadata": {},
   "outputs": [],
   "source": [
    "import cv2\n",
    "import matplotlib.pyplot as plt\n",
    "\n",
    "#以下为花瓶对应坐标\n",
    "## 处理获取想要的目标格式：\n",
    "image=cv2.imread(\"/root/autodl-tmp/ultralytics/apply/plate_ocr/images/train/0157986111111-90_265-283&404_491&481-491&479_288&481_283&404_490&408-0_0_5_24_24_25_30_30-194-104.jpg\")\n",
    "#得到每一个横坐标\n",
    "bb_w=[491,288,283,490]\n",
    "#得到每一纵坐标\n",
    "bb_h=[479,481,404,408]\n",
    "print(bb_w,bb_h)\n",
    "\n",
    "import cv2\n",
    "plt.imshow(cv2.cvtColor(image, cv2.COLOR_BGR2RGB))\n",
    "\n",
    "for i in range(len(bb_w)):\n",
    "    #绘制圆点\n",
    "    plt.scatter(bb_w[i],bb_h[i],marker='o', c='r')\n",
    "plt.show()"
   ]
  },
  {
   "cell_type": "code",
   "execution_count": 81,
   "id": "bf2c477f-9d19-4052-b86f-fb618ec1ad09",
   "metadata": {},
   "outputs": [
    {
     "data": {
      "text/plain": [
       "['0157986111111',\n",
       " '90_265',\n",
       " '283&404_491&481',\n",
       " '491&479_288&481_283&404_490&408',\n",
       " '0_0_5_24_24_25_30_30',\n",
       " '194',\n",
       " '104']"
      ]
     },
     "execution_count": 81,
     "metadata": {},
     "output_type": "execute_result"
    }
   ],
   "source": [
    "(train_list[0].split('/')[-1]).split('.')[0].split(\"-\")"
   ]
  },
  {
   "cell_type": "code",
   "execution_count": null,
   "id": "10d64124-b105-4ab4-bc4b-3d90fed3e545",
   "metadata": {},
   "outputs": [],
   "source": []
  },
  {
   "cell_type": "code",
   "execution_count": 15,
   "id": "457b2ee2-ebad-41e7-8aec-72c6f23258c9",
   "metadata": {},
   "outputs": [],
   "source": [
    "from PIL import Image\n",
    "\n",
    "def labels_get(list_image):\n",
    "    for  trainlist_sin in list_image:\n",
    "        img_sin=Image.open(trainlist_sin)\n",
    "        weight,height=img_sin.size\n",
    "        \n",
    "        size_pt,angle,coordinate,coordinate_all,plate,light,ambiguity=tuple((trainlist_sin.split('/')[-1]).split('.')[0].split(\"-\"))\n",
    "        \n",
    "        ### 将坐标信息写入txt\n",
    "        xcoor=[round(int(x.split(\"&\")[0])/weight,4) for x in coordinate_all.split(\"_\")]\n",
    "        ycoor=[round(int(x.split(\"&\")[1])/height,4) for x in coordinate_all.split(\"_\")]\n",
    "        \n",
    "        with open(\"/root/autodl-tmp/ultralytics/apply/plate_ocr/labels/\"+trainlist_sin.split(\"/\")[-2]+\"/\"+trainlist_sin.split(\"/\")[-1].split(\".\")[-2]+\".txt\",mode=\"w\") as f:\n",
    "            f.writelines(\"0\"+\" \")\n",
    "            for i,xcor in enumerate(xcoor):\n",
    "                f.writelines(str(xcor)+\" \")\n",
    "                f.writelines(str(ycoor[i])+\" \")\n",
    "            f.writelines(\"\\n\")\n",
    "    print(\"done\")"
   ]
  },
  {
   "cell_type": "code",
   "execution_count": 16,
   "id": "3f8863ce-2359-4f25-8c53-82eec13c8507",
   "metadata": {},
   "outputs": [
    {
     "name": "stdout",
     "output_type": "stream",
     "text": [
      "done\n"
     ]
    }
   ],
   "source": [
    "labels_get(train_list)"
   ]
  },
  {
   "cell_type": "code",
   "execution_count": 17,
   "id": "d570b856-2aa7-4d45-ade6-48224e9e6782",
   "metadata": {},
   "outputs": [
    {
     "name": "stdout",
     "output_type": "stream",
     "text": [
      "done\n"
     ]
    }
   ],
   "source": [
    "labels_get(val_list)"
   ]
  },
  {
   "cell_type": "code",
   "execution_count": null,
   "id": "0481465c-061b-427b-87ca-de7f085a9874",
   "metadata": {},
   "outputs": [],
   "source": []
  }
 ],
 "metadata": {
  "kernelspec": {
   "display_name": "Python [conda env:ultra]",
   "language": "python",
   "name": "conda-env-ultra-py"
  },
  "language_info": {
   "codemirror_mode": {
    "name": "ipython",
    "version": 3
   },
   "file_extension": ".py",
   "mimetype": "text/x-python",
   "name": "python",
   "nbconvert_exporter": "python",
   "pygments_lexer": "ipython3",
   "version": "3.9.19"
  }
 },
 "nbformat": 4,
 "nbformat_minor": 5
}
