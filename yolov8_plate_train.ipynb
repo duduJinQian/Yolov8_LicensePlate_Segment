{
 "cells": [
  {
   "cell_type": "code",
   "execution_count": null,
   "id": "11f4a142-fd57-4527-8c91-f864dac49b74",
   "metadata": {},
   "outputs": [],
   "source": []
  },
  {
   "cell_type": "markdown",
   "id": "8b52f2cc-35fb-470c-b672-644aec6e15a2",
   "metadata": {},
   "source": [
    "##  train"
   ]
  },
  {
   "cell_type": "code",
   "execution_count": 49,
   "id": "9163bb17-648d-4194-afea-aa3aef05ca9b",
   "metadata": {},
   "outputs": [
    {
     "name": "stdout",
     "output_type": "stream",
     "text": [
      "Ultralytics YOLOv8.2.70 🚀 Python-3.9.19 torch-2.2.2+cu121 CUDA:0 (NVIDIA GeForce RTX 4090 D, 24210MiB)\n",
      "\u001b[34m\u001b[1mengine/trainer: \u001b[0mtask=segment, mode=train, model=/root/autodl-tmp/ultralytics/apply/yolov8n-seg.pt, data=plate_seg.yaml, epochs=100, time=None, patience=100, batch=16, imgsz=640, save=True, save_period=-1, cache=False, device=None, workers=8, project=None, name=train3, exist_ok=False, pretrained=True, optimizer=auto, verbose=True, seed=0, deterministic=True, single_cls=False, rect=False, cos_lr=False, close_mosaic=10, resume=False, amp=True, fraction=1.0, profile=False, freeze=None, multi_scale=False, overlap_mask=True, mask_ratio=4, dropout=0.0, val=True, split=val, save_json=False, save_hybrid=False, conf=None, iou=0.7, max_det=300, half=False, dnn=False, plots=True, source=None, vid_stride=1, stream_buffer=False, visualize=False, augment=False, agnostic_nms=False, classes=None, retina_masks=False, embed=None, show=False, save_frames=False, save_txt=False, save_conf=False, save_crop=False, show_labels=True, show_conf=True, show_boxes=True, line_width=None, format=torchscript, keras=False, optimize=False, int8=False, dynamic=False, simplify=False, opset=None, workspace=4, nms=False, lr0=0.01, lrf=0.01, momentum=0.937, weight_decay=0.0005, warmup_epochs=3.0, warmup_momentum=0.8, warmup_bias_lr=0.1, box=7.5, cls=0.5, dfl=1.5, pose=12.0, kobj=1.0, label_smoothing=0.0, nbs=64, hsv_h=0.015, hsv_s=0.7, hsv_v=0.4, degrees=0.0, translate=0.1, scale=0.5, shear=0.0, perspective=0.0, flipud=0.0, fliplr=0.5, bgr=0.0, mosaic=1.0, mixup=0.0, copy_paste=0.0, auto_augment=randaugment, erasing=0.4, crop_fraction=1.0, cfg=None, tracker=botsort.yaml, save_dir=runs/segment/train3\n",
      "Overriding model.yaml nc=80 with nc=1\n",
      "\n",
      "                   from  n    params  module                                       arguments                     \n",
      "  0                  -1  1       464  ultralytics.nn.modules.conv.Conv             [3, 16, 3, 2]                 \n",
      "  1                  -1  1      4672  ultralytics.nn.modules.conv.Conv             [16, 32, 3, 2]                \n",
      "  2                  -1  1      7360  ultralytics.nn.modules.block.C2f             [32, 32, 1, True]             \n",
      "  3                  -1  1     18560  ultralytics.nn.modules.conv.Conv             [32, 64, 3, 2]                \n",
      "  4                  -1  2     49664  ultralytics.nn.modules.block.C2f             [64, 64, 2, True]             \n",
      "  5                  -1  1     73984  ultralytics.nn.modules.conv.Conv             [64, 128, 3, 2]               \n",
      "  6                  -1  2    197632  ultralytics.nn.modules.block.C2f             [128, 128, 2, True]           \n",
      "  7                  -1  1    295424  ultralytics.nn.modules.conv.Conv             [128, 256, 3, 2]              \n",
      "  8                  -1  1    460288  ultralytics.nn.modules.block.C2f             [256, 256, 1, True]           \n",
      "  9                  -1  1    164608  ultralytics.nn.modules.block.SPPF            [256, 256, 5]                 \n",
      " 10                  -1  1         0  torch.nn.modules.upsampling.Upsample         [None, 2, 'nearest']          \n",
      " 11             [-1, 6]  1         0  ultralytics.nn.modules.conv.Concat           [1]                           \n",
      " 12                  -1  1    148224  ultralytics.nn.modules.block.C2f             [384, 128, 1]                 \n",
      " 13                  -1  1         0  torch.nn.modules.upsampling.Upsample         [None, 2, 'nearest']          \n",
      " 14             [-1, 4]  1         0  ultralytics.nn.modules.conv.Concat           [1]                           \n",
      " 15                  -1  1     37248  ultralytics.nn.modules.block.C2f             [192, 64, 1]                  \n",
      " 16                  -1  1     36992  ultralytics.nn.modules.conv.Conv             [64, 64, 3, 2]                \n",
      " 17            [-1, 12]  1         0  ultralytics.nn.modules.conv.Concat           [1]                           \n",
      " 18                  -1  1    123648  ultralytics.nn.modules.block.C2f             [192, 128, 1]                 \n",
      " 19                  -1  1    147712  ultralytics.nn.modules.conv.Conv             [128, 128, 3, 2]              \n",
      " 20             [-1, 9]  1         0  ultralytics.nn.modules.conv.Concat           [1]                           \n",
      " 21                  -1  1    493056  ultralytics.nn.modules.block.C2f             [384, 256, 1]                 \n",
      " 22        [15, 18, 21]  1   1004275  ultralytics.nn.modules.head.Segment          [1, 32, 64, [64, 128, 256]]   \n",
      "YOLOv8n-seg summary: 261 layers, 3,263,811 parameters, 3,263,795 gradients, 12.1 GFLOPs\n",
      "\n",
      "Transferred 381/417 items from pretrained weights\n",
      "\u001b[34m\u001b[1mTensorBoard: \u001b[0mStart with 'tensorboard --logdir runs/segment/train3', view at http://localhost:6006/\n",
      "Freezing layer 'model.22.dfl.conv.weight'\n",
      "\u001b[34m\u001b[1mAMP: \u001b[0mrunning Automatic Mixed Precision (AMP) checks with YOLOv8n...\n",
      "\u001b[34m\u001b[1mAMP: \u001b[0mchecks passed ✅\n"
     ]
    },
    {
     "name": "stderr",
     "output_type": "stream",
     "text": [
      "\u001b[34m\u001b[1mtrain: \u001b[0mScanning /root/autodl-tmp/ultralytics/apply/plate_ocr/labels/train... 1000 images, 0 backgrounds, 0 corrupt: 100%|██████████| 1000/1000 [00:01<00:00, 779.81it/s]"
     ]
    },
    {
     "name": "stdout",
     "output_type": "stream",
     "text": [
      "\u001b[34m\u001b[1mtrain: \u001b[0mNew cache created: /root/autodl-tmp/ultralytics/apply/plate_ocr/labels/train.cache\n"
     ]
    },
    {
     "name": "stderr",
     "output_type": "stream",
     "text": [
      "\n",
      "\u001b[34m\u001b[1mval: \u001b[0mScanning /root/autodl-tmp/ultralytics/apply/plate_ocr/labels/val... 1000 images, 0 backgrounds, 0 corrupt: 100%|██████████| 1000/1000 [00:01<00:00, 560.15it/s]\n"
     ]
    },
    {
     "name": "stdout",
     "output_type": "stream",
     "text": [
      "\u001b[34m\u001b[1mval: \u001b[0mNew cache created: /root/autodl-tmp/ultralytics/apply/plate_ocr/labels/val.cache\n",
      "Plotting labels to runs/segment/train3/labels.jpg... \n",
      "\u001b[34m\u001b[1moptimizer:\u001b[0m 'optimizer=auto' found, ignoring 'lr0=0.01' and 'momentum=0.937' and determining best 'optimizer', 'lr0' and 'momentum' automatically... \n",
      "\u001b[34m\u001b[1moptimizer:\u001b[0m AdamW(lr=0.002, momentum=0.9) with parameter groups 66 weight(decay=0.0), 77 weight(decay=0.0005), 76 bias(decay=0.0)\n",
      "\u001b[34m\u001b[1mTensorBoard: \u001b[0mmodel graph visualization added ✅\n",
      "Image sizes 640 train, 640 val\n",
      "Using 8 dataloader workers\n",
      "Logging results to \u001b[1mruns/segment/train3\u001b[0m\n",
      "Starting training for 100 epochs...\n",
      "\n",
      "      Epoch    GPU_mem   box_loss   seg_loss   cls_loss   dfl_loss  Instances       Size\n"
     ]
    },
    {
     "name": "stderr",
     "output_type": "stream",
     "text": [
      "      1/100      2.75G       0.88     0.8743      1.773     0.9474         19        640: 100%|██████████| 63/63 [00:11<00:00,  5.36it/s]\n",
      "                 Class     Images  Instances      Box(P          R      mAP50  mAP50-95)     Mask(P          R      mAP50  mAP50-95): 100%|██████████| 32/32 [00:05<00:00,  5.40it/s]\n"
     ]
    },
    {
     "name": "stdout",
     "output_type": "stream",
     "text": [
      "                   all       1000       1000          1      0.162      0.865      0.606          1      0.162      0.866      0.674\n",
      "\n",
      "      Epoch    GPU_mem   box_loss   seg_loss   cls_loss   dfl_loss  Instances       Size\n"
     ]
    },
    {
     "name": "stderr",
     "output_type": "stream",
     "text": [
      "      2/100       2.8G     0.7721     0.6985     0.9602     0.9062         14        640: 100%|██████████| 63/63 [00:09<00:00,  6.96it/s]\n",
      "                 Class     Images  Instances      Box(P          R      mAP50  mAP50-95)     Mask(P          R      mAP50  mAP50-95): 100%|██████████| 32/32 [00:04<00:00,  6.50it/s]\n"
     ]
    },
    {
     "name": "stdout",
     "output_type": "stream",
     "text": [
      "                   all       1000       1000      0.975      0.935      0.981      0.673      0.973      0.936      0.981      0.781\n",
      "\n",
      "      Epoch    GPU_mem   box_loss   seg_loss   cls_loss   dfl_loss  Instances       Size\n"
     ]
    },
    {
     "name": "stderr",
     "output_type": "stream",
     "text": [
      "      3/100       2.8G     0.7624     0.7202     0.7786     0.9187         16        640: 100%|██████████| 63/63 [00:09<00:00,  6.80it/s]\n",
      "                 Class     Images  Instances      Box(P          R      mAP50  mAP50-95)     Mask(P          R      mAP50  mAP50-95): 100%|██████████| 32/32 [00:05<00:00,  5.97it/s]\n"
     ]
    },
    {
     "name": "stdout",
     "output_type": "stream",
     "text": [
      "                   all       1000       1000      0.957       0.92      0.965       0.65      0.957      0.918       0.95      0.747\n",
      "\n",
      "      Epoch    GPU_mem   box_loss   seg_loss   cls_loss   dfl_loss  Instances       Size\n"
     ]
    },
    {
     "name": "stderr",
     "output_type": "stream",
     "text": [
      "      4/100      2.79G     0.7727     0.7042     0.6717     0.9116         17        640: 100%|██████████| 63/63 [00:09<00:00,  6.67it/s]\n",
      "                 Class     Images  Instances      Box(P          R      mAP50  mAP50-95)     Mask(P          R      mAP50  mAP50-95): 100%|██████████| 32/32 [00:05<00:00,  5.82it/s]\n"
     ]
    },
    {
     "name": "stdout",
     "output_type": "stream",
     "text": [
      "                   all       1000       1000      0.942      0.839      0.918      0.616      0.943       0.84      0.916      0.696\n",
      "\n",
      "      Epoch    GPU_mem   box_loss   seg_loss   cls_loss   dfl_loss  Instances       Size\n"
     ]
    },
    {
     "name": "stderr",
     "output_type": "stream",
     "text": [
      "      5/100       2.8G     0.7204     0.6912     0.5711     0.9013         16        640: 100%|██████████| 63/63 [00:09<00:00,  6.90it/s]\n",
      "                 Class     Images  Instances      Box(P          R      mAP50  mAP50-95)     Mask(P          R      mAP50  mAP50-95): 100%|██████████| 32/32 [00:05<00:00,  5.56it/s]\n"
     ]
    },
    {
     "name": "stdout",
     "output_type": "stream",
     "text": [
      "                   all       1000       1000      0.982      0.961      0.991      0.731      0.982      0.961      0.985      0.789\n",
      "\n",
      "      Epoch    GPU_mem   box_loss   seg_loss   cls_loss   dfl_loss  Instances       Size\n"
     ]
    },
    {
     "name": "stderr",
     "output_type": "stream",
     "text": [
      "      6/100      2.77G     0.7181      0.662      0.537     0.8988         15        640: 100%|██████████| 63/63 [00:09<00:00,  6.81it/s]\n",
      "                 Class     Images  Instances      Box(P          R      mAP50  mAP50-95)     Mask(P          R      mAP50  mAP50-95): 100%|██████████| 32/32 [00:05<00:00,  5.82it/s]"
     ]
    },
    {
     "name": "stdout",
     "output_type": "stream",
     "text": [
      "                   all       1000       1000      0.984      0.977      0.992      0.664      0.984      0.978      0.992       0.78\n"
     ]
    },
    {
     "name": "stderr",
     "output_type": "stream",
     "text": [
      "\n"
     ]
    },
    {
     "name": "stdout",
     "output_type": "stream",
     "text": [
      "\n",
      "      Epoch    GPU_mem   box_loss   seg_loss   cls_loss   dfl_loss  Instances       Size\n"
     ]
    },
    {
     "name": "stderr",
     "output_type": "stream",
     "text": [
      "      7/100      2.76G     0.6967     0.6657     0.4956     0.8867         16        640: 100%|██████████| 63/63 [00:09<00:00,  6.51it/s]\n",
      "                 Class     Images  Instances      Box(P          R      mAP50  mAP50-95)     Mask(P          R      mAP50  mAP50-95): 100%|██████████| 32/32 [00:05<00:00,  5.87it/s]"
     ]
    },
    {
     "name": "stdout",
     "output_type": "stream",
     "text": [
      "                   all       1000       1000      0.945      0.971      0.985      0.696      0.947      0.973      0.986      0.776\n"
     ]
    },
    {
     "name": "stderr",
     "output_type": "stream",
     "text": [
      "\n"
     ]
    },
    {
     "name": "stdout",
     "output_type": "stream",
     "text": [
      "\n",
      "      Epoch    GPU_mem   box_loss   seg_loss   cls_loss   dfl_loss  Instances       Size\n"
     ]
    },
    {
     "name": "stderr",
     "output_type": "stream",
     "text": [
      "      8/100      2.75G     0.6929     0.6739     0.4761     0.8891         11        640: 100%|██████████| 63/63 [00:09<00:00,  6.66it/s]\n",
      "                 Class     Images  Instances      Box(P          R      mAP50  mAP50-95)     Mask(P          R      mAP50  mAP50-95): 100%|██████████| 32/32 [00:05<00:00,  5.97it/s]"
     ]
    },
    {
     "name": "stdout",
     "output_type": "stream",
     "text": [
      "                   all       1000       1000      0.955      0.961      0.987      0.715      0.955      0.961      0.987      0.799\n"
     ]
    },
    {
     "name": "stderr",
     "output_type": "stream",
     "text": [
      "\n"
     ]
    },
    {
     "name": "stdout",
     "output_type": "stream",
     "text": [
      "\n",
      "      Epoch    GPU_mem   box_loss   seg_loss   cls_loss   dfl_loss  Instances       Size\n"
     ]
    },
    {
     "name": "stderr",
     "output_type": "stream",
     "text": [
      "      9/100      2.75G      0.686     0.6641     0.4674     0.8837         17        640: 100%|██████████| 63/63 [00:09<00:00,  6.75it/s]\n",
      "                 Class     Images  Instances      Box(P          R      mAP50  mAP50-95)     Mask(P          R      mAP50  mAP50-95): 100%|██████████| 32/32 [00:05<00:00,  6.16it/s]"
     ]
    },
    {
     "name": "stdout",
     "output_type": "stream",
     "text": [
      "                   all       1000       1000      0.984      0.981      0.993      0.716      0.985      0.982      0.993      0.802\n"
     ]
    },
    {
     "name": "stderr",
     "output_type": "stream",
     "text": [
      "\n"
     ]
    },
    {
     "name": "stdout",
     "output_type": "stream",
     "text": [
      "\n",
      "      Epoch    GPU_mem   box_loss   seg_loss   cls_loss   dfl_loss  Instances       Size\n"
     ]
    },
    {
     "name": "stderr",
     "output_type": "stream",
     "text": [
      "     10/100      2.76G     0.6741     0.6337     0.4479      0.889         15        640: 100%|██████████| 63/63 [00:09<00:00,  6.86it/s]\n",
      "                 Class     Images  Instances      Box(P          R      mAP50  mAP50-95)     Mask(P          R      mAP50  mAP50-95): 100%|██████████| 32/32 [00:05<00:00,  6.31it/s]"
     ]
    },
    {
     "name": "stdout",
     "output_type": "stream",
     "text": [
      "                   all       1000       1000      0.987       0.98      0.992      0.742      0.987       0.98      0.992      0.808\n"
     ]
    },
    {
     "name": "stderr",
     "output_type": "stream",
     "text": [
      "\n"
     ]
    },
    {
     "name": "stdout",
     "output_type": "stream",
     "text": [
      "\n",
      "      Epoch    GPU_mem   box_loss   seg_loss   cls_loss   dfl_loss  Instances       Size\n"
     ]
    },
    {
     "name": "stderr",
     "output_type": "stream",
     "text": [
      "     11/100      2.75G     0.6575     0.6615     0.4288     0.8812         22        640: 100%|██████████| 63/63 [00:08<00:00,  7.57it/s]\n",
      "                 Class     Images  Instances      Box(P          R      mAP50  mAP50-95)     Mask(P          R      mAP50  mAP50-95): 100%|██████████| 32/32 [00:05<00:00,  6.34it/s]"
     ]
    },
    {
     "name": "stdout",
     "output_type": "stream",
     "text": [
      "                   all       1000       1000      0.987      0.981      0.994      0.766      0.987      0.981      0.994      0.821\n"
     ]
    },
    {
     "name": "stderr",
     "output_type": "stream",
     "text": [
      "\n"
     ]
    },
    {
     "name": "stdout",
     "output_type": "stream",
     "text": [
      "\n",
      "      Epoch    GPU_mem   box_loss   seg_loss   cls_loss   dfl_loss  Instances       Size\n"
     ]
    },
    {
     "name": "stderr",
     "output_type": "stream",
     "text": [
      "     12/100      2.75G     0.6644     0.6653     0.4211     0.8732         20        640: 100%|██████████| 63/63 [00:09<00:00,  6.76it/s]\n",
      "                 Class     Images  Instances      Box(P          R      mAP50  mAP50-95)     Mask(P          R      mAP50  mAP50-95): 100%|██████████| 32/32 [00:04<00:00,  6.41it/s]"
     ]
    },
    {
     "name": "stdout",
     "output_type": "stream",
     "text": [
      "                   all       1000       1000       0.97      0.953      0.986      0.767       0.97      0.953      0.986      0.812\n"
     ]
    },
    {
     "name": "stderr",
     "output_type": "stream",
     "text": [
      "\n"
     ]
    },
    {
     "name": "stdout",
     "output_type": "stream",
     "text": [
      "\n",
      "      Epoch    GPU_mem   box_loss   seg_loss   cls_loss   dfl_loss  Instances       Size\n"
     ]
    },
    {
     "name": "stderr",
     "output_type": "stream",
     "text": [
      "     13/100      2.76G     0.6497     0.6233     0.4179     0.8828         12        640: 100%|██████████| 63/63 [00:09<00:00,  6.78it/s]\n",
      "                 Class     Images  Instances      Box(P          R      mAP50  mAP50-95)     Mask(P          R      mAP50  mAP50-95): 100%|██████████| 32/32 [00:05<00:00,  6.24it/s]"
     ]
    },
    {
     "name": "stdout",
     "output_type": "stream",
     "text": [
      "                   all       1000       1000      0.987      0.988      0.994      0.745      0.987      0.988      0.994      0.818\n"
     ]
    },
    {
     "name": "stderr",
     "output_type": "stream",
     "text": [
      "\n"
     ]
    },
    {
     "name": "stdout",
     "output_type": "stream",
     "text": [
      "\n",
      "      Epoch    GPU_mem   box_loss   seg_loss   cls_loss   dfl_loss  Instances       Size\n"
     ]
    },
    {
     "name": "stderr",
     "output_type": "stream",
     "text": [
      "     14/100      2.75G     0.6422     0.6293     0.4033     0.8771         11        640: 100%|██████████| 63/63 [00:09<00:00,  6.71it/s]\n",
      "                 Class     Images  Instances      Box(P          R      mAP50  mAP50-95)     Mask(P          R      mAP50  mAP50-95): 100%|██████████| 32/32 [00:04<00:00,  7.65it/s]"
     ]
    },
    {
     "name": "stdout",
     "output_type": "stream",
     "text": [
      "                   all       1000       1000      0.985      0.972      0.993      0.752      0.985      0.972      0.993        0.8\n"
     ]
    },
    {
     "name": "stderr",
     "output_type": "stream",
     "text": [
      "\n"
     ]
    },
    {
     "name": "stdout",
     "output_type": "stream",
     "text": [
      "\n",
      "      Epoch    GPU_mem   box_loss   seg_loss   cls_loss   dfl_loss  Instances       Size\n"
     ]
    },
    {
     "name": "stderr",
     "output_type": "stream",
     "text": [
      "     15/100      2.75G     0.6292     0.6356     0.3939     0.8735         18        640: 100%|██████████| 63/63 [00:08<00:00,  7.05it/s]\n",
      "                 Class     Images  Instances      Box(P          R      mAP50  mAP50-95)     Mask(P          R      mAP50  mAP50-95): 100%|██████████| 32/32 [00:05<00:00,  6.37it/s]"
     ]
    },
    {
     "name": "stdout",
     "output_type": "stream",
     "text": [
      "                   all       1000       1000      0.986      0.989      0.994      0.752      0.987       0.99      0.994      0.836\n"
     ]
    },
    {
     "name": "stderr",
     "output_type": "stream",
     "text": [
      "\n"
     ]
    },
    {
     "name": "stdout",
     "output_type": "stream",
     "text": [
      "\n",
      "      Epoch    GPU_mem   box_loss   seg_loss   cls_loss   dfl_loss  Instances       Size\n"
     ]
    },
    {
     "name": "stderr",
     "output_type": "stream",
     "text": [
      "     16/100      2.75G     0.6254     0.6337     0.3903     0.8701         20        640: 100%|██████████| 63/63 [00:09<00:00,  6.91it/s]\n",
      "                 Class     Images  Instances      Box(P          R      mAP50  mAP50-95)     Mask(P          R      mAP50  mAP50-95): 100%|██████████| 32/32 [00:05<00:00,  6.19it/s]"
     ]
    },
    {
     "name": "stdout",
     "output_type": "stream",
     "text": [
      "                   all       1000       1000      0.994       0.98      0.994      0.802      0.993      0.983      0.994      0.835\n"
     ]
    },
    {
     "name": "stderr",
     "output_type": "stream",
     "text": [
      "\n"
     ]
    },
    {
     "name": "stdout",
     "output_type": "stream",
     "text": [
      "\n",
      "      Epoch    GPU_mem   box_loss   seg_loss   cls_loss   dfl_loss  Instances       Size\n"
     ]
    },
    {
     "name": "stderr",
     "output_type": "stream",
     "text": [
      "     17/100      2.76G     0.6161      0.607     0.3845     0.8687         10        640: 100%|██████████| 63/63 [00:09<00:00,  6.93it/s]\n",
      "                 Class     Images  Instances      Box(P          R      mAP50  mAP50-95)     Mask(P          R      mAP50  mAP50-95): 100%|██████████| 32/32 [00:04<00:00,  6.85it/s]"
     ]
    },
    {
     "name": "stdout",
     "output_type": "stream",
     "text": [
      "                   all       1000       1000      0.993      0.981      0.993      0.791      0.994      0.982      0.993      0.848\n"
     ]
    },
    {
     "name": "stderr",
     "output_type": "stream",
     "text": [
      "\n"
     ]
    },
    {
     "name": "stdout",
     "output_type": "stream",
     "text": [
      "\n",
      "      Epoch    GPU_mem   box_loss   seg_loss   cls_loss   dfl_loss  Instances       Size\n"
     ]
    },
    {
     "name": "stderr",
     "output_type": "stream",
     "text": [
      "     18/100      2.75G     0.6023     0.6085     0.3777     0.8743         16        640: 100%|██████████| 63/63 [00:08<00:00,  7.13it/s]\n",
      "                 Class     Images  Instances      Box(P          R      mAP50  mAP50-95)     Mask(P          R      mAP50  mAP50-95): 100%|██████████| 32/32 [00:05<00:00,  6.36it/s]"
     ]
    },
    {
     "name": "stdout",
     "output_type": "stream",
     "text": [
      "                   all       1000       1000      0.995      0.982      0.994      0.814      0.993      0.988      0.994      0.823\n"
     ]
    },
    {
     "name": "stderr",
     "output_type": "stream",
     "text": [
      "\n"
     ]
    },
    {
     "name": "stdout",
     "output_type": "stream",
     "text": [
      "\n",
      "      Epoch    GPU_mem   box_loss   seg_loss   cls_loss   dfl_loss  Instances       Size\n"
     ]
    },
    {
     "name": "stderr",
     "output_type": "stream",
     "text": [
      "     19/100      2.75G     0.6368     0.6334      0.387     0.8717         11        640: 100%|██████████| 63/63 [00:09<00:00,  6.93it/s]\n",
      "                 Class     Images  Instances      Box(P          R      mAP50  mAP50-95)     Mask(P          R      mAP50  mAP50-95): 100%|██████████| 32/32 [00:05<00:00,  6.14it/s]"
     ]
    },
    {
     "name": "stdout",
     "output_type": "stream",
     "text": [
      "                   all       1000       1000      0.954       0.97      0.988      0.753      0.954       0.97      0.988      0.817\n"
     ]
    },
    {
     "name": "stderr",
     "output_type": "stream",
     "text": [
      "\n"
     ]
    },
    {
     "name": "stdout",
     "output_type": "stream",
     "text": [
      "\n",
      "      Epoch    GPU_mem   box_loss   seg_loss   cls_loss   dfl_loss  Instances       Size\n"
     ]
    },
    {
     "name": "stderr",
     "output_type": "stream",
     "text": [
      "     20/100      2.75G     0.6307     0.6296     0.3845     0.8698         20        640: 100%|██████████| 63/63 [00:09<00:00,  6.78it/s]\n",
      "                 Class     Images  Instances      Box(P          R      mAP50  mAP50-95)     Mask(P          R      mAP50  mAP50-95): 100%|██████████| 32/32 [00:05<00:00,  6.13it/s]"
     ]
    },
    {
     "name": "stdout",
     "output_type": "stream",
     "text": [
      "                   all       1000       1000      0.955      0.972      0.989      0.747      0.955      0.977      0.989      0.801\n"
     ]
    },
    {
     "name": "stderr",
     "output_type": "stream",
     "text": [
      "\n"
     ]
    },
    {
     "name": "stdout",
     "output_type": "stream",
     "text": [
      "\n",
      "      Epoch    GPU_mem   box_loss   seg_loss   cls_loss   dfl_loss  Instances       Size\n"
     ]
    },
    {
     "name": "stderr",
     "output_type": "stream",
     "text": [
      "     21/100      2.75G     0.5985     0.5876     0.3776     0.8656          7        640: 100%|██████████| 63/63 [00:09<00:00,  6.66it/s]\n",
      "                 Class     Images  Instances      Box(P          R      mAP50  mAP50-95)     Mask(P          R      mAP50  mAP50-95): 100%|██████████| 32/32 [00:05<00:00,  6.14it/s]"
     ]
    },
    {
     "name": "stdout",
     "output_type": "stream",
     "text": [
      "                   all       1000       1000      0.987      0.981      0.993      0.786      0.987      0.981      0.993      0.831\n"
     ]
    },
    {
     "name": "stderr",
     "output_type": "stream",
     "text": [
      "\n"
     ]
    },
    {
     "name": "stdout",
     "output_type": "stream",
     "text": [
      "\n",
      "      Epoch    GPU_mem   box_loss   seg_loss   cls_loss   dfl_loss  Instances       Size\n"
     ]
    },
    {
     "name": "stderr",
     "output_type": "stream",
     "text": [
      "     22/100      2.75G     0.6083     0.6456     0.3798     0.8627         10        640: 100%|██████████| 63/63 [00:08<00:00,  7.18it/s]\n",
      "                 Class     Images  Instances      Box(P          R      mAP50  mAP50-95)     Mask(P          R      mAP50  mAP50-95): 100%|██████████| 32/32 [00:05<00:00,  6.32it/s]"
     ]
    },
    {
     "name": "stdout",
     "output_type": "stream",
     "text": [
      "                   all       1000       1000      0.961      0.948      0.988      0.808      0.961      0.948      0.988      0.835\n"
     ]
    },
    {
     "name": "stderr",
     "output_type": "stream",
     "text": [
      "\n"
     ]
    },
    {
     "name": "stdout",
     "output_type": "stream",
     "text": [
      "\n",
      "      Epoch    GPU_mem   box_loss   seg_loss   cls_loss   dfl_loss  Instances       Size\n"
     ]
    },
    {
     "name": "stderr",
     "output_type": "stream",
     "text": [
      "     23/100      2.75G     0.5841     0.6016     0.3613     0.8611         21        640: 100%|██████████| 63/63 [00:09<00:00,  6.65it/s]\n",
      "                 Class     Images  Instances      Box(P          R      mAP50  mAP50-95)     Mask(P          R      mAP50  mAP50-95): 100%|██████████| 32/32 [00:05<00:00,  5.99it/s]"
     ]
    },
    {
     "name": "stdout",
     "output_type": "stream",
     "text": [
      "                   all       1000       1000      0.993      0.991      0.994      0.812      0.993      0.991      0.994      0.844\n"
     ]
    },
    {
     "name": "stderr",
     "output_type": "stream",
     "text": [
      "\n"
     ]
    },
    {
     "name": "stdout",
     "output_type": "stream",
     "text": [
      "\n",
      "      Epoch    GPU_mem   box_loss   seg_loss   cls_loss   dfl_loss  Instances       Size\n"
     ]
    },
    {
     "name": "stderr",
     "output_type": "stream",
     "text": [
      "     24/100      2.75G     0.5998     0.6198     0.3572     0.8654         13        640: 100%|██████████| 63/63 [00:09<00:00,  6.89it/s]\n",
      "                 Class     Images  Instances      Box(P          R      mAP50  mAP50-95)     Mask(P          R      mAP50  mAP50-95): 100%|██████████| 32/32 [00:04<00:00,  6.67it/s]"
     ]
    },
    {
     "name": "stdout",
     "output_type": "stream",
     "text": [
      "                   all       1000       1000      0.985      0.987      0.993      0.787      0.985      0.987      0.993       0.84\n"
     ]
    },
    {
     "name": "stderr",
     "output_type": "stream",
     "text": [
      "\n"
     ]
    },
    {
     "name": "stdout",
     "output_type": "stream",
     "text": [
      "\n",
      "      Epoch    GPU_mem   box_loss   seg_loss   cls_loss   dfl_loss  Instances       Size\n"
     ]
    },
    {
     "name": "stderr",
     "output_type": "stream",
     "text": [
      "     25/100      2.76G     0.5909     0.6214     0.3561     0.8588         12        640: 100%|██████████| 63/63 [00:08<00:00,  7.52it/s]\n",
      "                 Class     Images  Instances      Box(P          R      mAP50  mAP50-95)     Mask(P          R      mAP50  mAP50-95): 100%|██████████| 32/32 [00:04<00:00,  6.95it/s]\n"
     ]
    },
    {
     "name": "stdout",
     "output_type": "stream",
     "text": [
      "                   all       1000       1000      0.991      0.988      0.994      0.811      0.991      0.988      0.994       0.85\n",
      "\n",
      "      Epoch    GPU_mem   box_loss   seg_loss   cls_loss   dfl_loss  Instances       Size\n"
     ]
    },
    {
     "name": "stderr",
     "output_type": "stream",
     "text": [
      "     26/100      2.75G     0.5792     0.6183     0.3475     0.8582         18        640: 100%|██████████| 63/63 [00:08<00:00,  7.57it/s]\n",
      "                 Class     Images  Instances      Box(P          R      mAP50  mAP50-95)     Mask(P          R      mAP50  mAP50-95): 100%|██████████| 32/32 [00:04<00:00,  7.43it/s]"
     ]
    },
    {
     "name": "stdout",
     "output_type": "stream",
     "text": [
      "                   all       1000       1000       0.99       0.97      0.992      0.806       0.99      0.969      0.992      0.849\n"
     ]
    },
    {
     "name": "stderr",
     "output_type": "stream",
     "text": [
      "\n"
     ]
    },
    {
     "name": "stdout",
     "output_type": "stream",
     "text": [
      "\n",
      "      Epoch    GPU_mem   box_loss   seg_loss   cls_loss   dfl_loss  Instances       Size\n"
     ]
    },
    {
     "name": "stderr",
     "output_type": "stream",
     "text": [
      "     27/100      2.75G     0.5845     0.6185     0.3463     0.8644         12        640: 100%|██████████| 63/63 [00:08<00:00,  7.52it/s]\n",
      "                 Class     Images  Instances      Box(P          R      mAP50  mAP50-95)     Mask(P          R      mAP50  mAP50-95): 100%|██████████| 32/32 [00:04<00:00,  7.58it/s]"
     ]
    },
    {
     "name": "stdout",
     "output_type": "stream",
     "text": [
      "                   all       1000       1000      0.973      0.979      0.993      0.803      0.982      0.979      0.993       0.84\n"
     ]
    },
    {
     "name": "stderr",
     "output_type": "stream",
     "text": [
      "\n"
     ]
    },
    {
     "name": "stdout",
     "output_type": "stream",
     "text": [
      "\n",
      "      Epoch    GPU_mem   box_loss   seg_loss   cls_loss   dfl_loss  Instances       Size\n"
     ]
    },
    {
     "name": "stderr",
     "output_type": "stream",
     "text": [
      "     28/100      2.75G     0.5851     0.5998     0.3488     0.8618         19        640: 100%|██████████| 63/63 [00:08<00:00,  7.30it/s]\n",
      "                 Class     Images  Instances      Box(P          R      mAP50  mAP50-95)     Mask(P          R      mAP50  mAP50-95): 100%|██████████| 32/32 [00:04<00:00,  6.61it/s]"
     ]
    },
    {
     "name": "stdout",
     "output_type": "stream",
     "text": [
      "                   all       1000       1000      0.987      0.968      0.992      0.849      0.987      0.968      0.992      0.839\n"
     ]
    },
    {
     "name": "stderr",
     "output_type": "stream",
     "text": [
      "\n"
     ]
    },
    {
     "name": "stdout",
     "output_type": "stream",
     "text": [
      "\n",
      "      Epoch    GPU_mem   box_loss   seg_loss   cls_loss   dfl_loss  Instances       Size\n"
     ]
    },
    {
     "name": "stderr",
     "output_type": "stream",
     "text": [
      "     29/100      2.75G     0.5886     0.6071     0.3514     0.8597         17        640: 100%|██████████| 63/63 [00:08<00:00,  7.10it/s]\n",
      "                 Class     Images  Instances      Box(P          R      mAP50  mAP50-95)     Mask(P          R      mAP50  mAP50-95): 100%|██████████| 32/32 [00:05<00:00,  6.37it/s]"
     ]
    },
    {
     "name": "stdout",
     "output_type": "stream",
     "text": [
      "                   all       1000       1000       0.99      0.967      0.992      0.838       0.99      0.968      0.992      0.852\n"
     ]
    },
    {
     "name": "stderr",
     "output_type": "stream",
     "text": [
      "\n"
     ]
    },
    {
     "name": "stdout",
     "output_type": "stream",
     "text": [
      "\n",
      "      Epoch    GPU_mem   box_loss   seg_loss   cls_loss   dfl_loss  Instances       Size\n"
     ]
    },
    {
     "name": "stderr",
     "output_type": "stream",
     "text": [
      "     30/100      2.75G     0.5846     0.6135     0.3444     0.8632         13        640: 100%|██████████| 63/63 [00:09<00:00,  6.69it/s]\n",
      "                 Class     Images  Instances      Box(P          R      mAP50  mAP50-95)     Mask(P          R      mAP50  mAP50-95): 100%|██████████| 32/32 [00:04<00:00,  6.91it/s]\n"
     ]
    },
    {
     "name": "stdout",
     "output_type": "stream",
     "text": [
      "                   all       1000       1000      0.987      0.961      0.989      0.795      0.987      0.961      0.988      0.833\n",
      "\n",
      "      Epoch    GPU_mem   box_loss   seg_loss   cls_loss   dfl_loss  Instances       Size\n"
     ]
    },
    {
     "name": "stderr",
     "output_type": "stream",
     "text": [
      "     31/100      2.75G     0.5715     0.6222     0.3418     0.8563         18        640: 100%|██████████| 63/63 [00:09<00:00,  6.74it/s]\n",
      "                 Class     Images  Instances      Box(P          R      mAP50  mAP50-95)     Mask(P          R      mAP50  mAP50-95): 100%|██████████| 32/32 [00:04<00:00,  6.63it/s]"
     ]
    },
    {
     "name": "stdout",
     "output_type": "stream",
     "text": [
      "                   all       1000       1000      0.997      0.988      0.994      0.834      0.997      0.988      0.994       0.85\n"
     ]
    },
    {
     "name": "stderr",
     "output_type": "stream",
     "text": [
      "\n"
     ]
    },
    {
     "name": "stdout",
     "output_type": "stream",
     "text": [
      "\n",
      "      Epoch    GPU_mem   box_loss   seg_loss   cls_loss   dfl_loss  Instances       Size\n"
     ]
    },
    {
     "name": "stderr",
     "output_type": "stream",
     "text": [
      "     32/100      2.75G     0.5682     0.6289     0.3333     0.8537         16        640: 100%|██████████| 63/63 [00:09<00:00,  6.74it/s]\n",
      "                 Class     Images  Instances      Box(P          R      mAP50  mAP50-95)     Mask(P          R      mAP50  mAP50-95): 100%|██████████| 32/32 [00:05<00:00,  6.17it/s]"
     ]
    },
    {
     "name": "stdout",
     "output_type": "stream",
     "text": [
      "                   all       1000       1000      0.987       0.98      0.992      0.815      0.987       0.98      0.992      0.854\n"
     ]
    },
    {
     "name": "stderr",
     "output_type": "stream",
     "text": [
      "\n"
     ]
    },
    {
     "name": "stdout",
     "output_type": "stream",
     "text": [
      "\n",
      "      Epoch    GPU_mem   box_loss   seg_loss   cls_loss   dfl_loss  Instances       Size\n"
     ]
    },
    {
     "name": "stderr",
     "output_type": "stream",
     "text": [
      "     33/100      2.75G     0.5758     0.5927     0.3371     0.8569         15        640: 100%|██████████| 63/63 [00:09<00:00,  6.80it/s]\n",
      "                 Class     Images  Instances      Box(P          R      mAP50  mAP50-95)     Mask(P          R      mAP50  mAP50-95): 100%|██████████| 32/32 [00:05<00:00,  6.26it/s]"
     ]
    },
    {
     "name": "stdout",
     "output_type": "stream",
     "text": [
      "                   all       1000       1000      0.996      0.982      0.994      0.807      0.996      0.982      0.994      0.847\n"
     ]
    },
    {
     "name": "stderr",
     "output_type": "stream",
     "text": [
      "\n"
     ]
    },
    {
     "name": "stdout",
     "output_type": "stream",
     "text": [
      "\n",
      "      Epoch    GPU_mem   box_loss   seg_loss   cls_loss   dfl_loss  Instances       Size\n"
     ]
    },
    {
     "name": "stderr",
     "output_type": "stream",
     "text": [
      "     34/100      2.75G     0.5493     0.5871     0.3298     0.8505         20        640: 100%|██████████| 63/63 [00:08<00:00,  7.49it/s]\n",
      "                 Class     Images  Instances      Box(P          R      mAP50  mAP50-95)     Mask(P          R      mAP50  mAP50-95): 100%|██████████| 32/32 [00:04<00:00,  6.76it/s]\n"
     ]
    },
    {
     "name": "stdout",
     "output_type": "stream",
     "text": [
      "                   all       1000       1000      0.994      0.989      0.993      0.798      0.993      0.989      0.993      0.837\n",
      "\n",
      "      Epoch    GPU_mem   box_loss   seg_loss   cls_loss   dfl_loss  Instances       Size\n"
     ]
    },
    {
     "name": "stderr",
     "output_type": "stream",
     "text": [
      "     35/100      2.75G     0.5682     0.5846     0.3258     0.8534         19        640: 100%|██████████| 63/63 [00:09<00:00,  6.86it/s]\n",
      "                 Class     Images  Instances      Box(P          R      mAP50  mAP50-95)     Mask(P          R      mAP50  mAP50-95): 100%|██████████| 32/32 [00:05<00:00,  6.38it/s]"
     ]
    },
    {
     "name": "stdout",
     "output_type": "stream",
     "text": [
      "                   all       1000       1000      0.989      0.988      0.994      0.829      0.989      0.988      0.994      0.837\n"
     ]
    },
    {
     "name": "stderr",
     "output_type": "stream",
     "text": [
      "\n"
     ]
    },
    {
     "name": "stdout",
     "output_type": "stream",
     "text": [
      "\n",
      "      Epoch    GPU_mem   box_loss   seg_loss   cls_loss   dfl_loss  Instances       Size\n"
     ]
    },
    {
     "name": "stderr",
     "output_type": "stream",
     "text": [
      "     36/100      2.75G     0.5557     0.5992     0.3305     0.8559         12        640: 100%|██████████| 63/63 [00:09<00:00,  6.78it/s]\n",
      "                 Class     Images  Instances      Box(P          R      mAP50  mAP50-95)     Mask(P          R      mAP50  mAP50-95): 100%|██████████| 32/32 [00:04<00:00,  6.74it/s]"
     ]
    },
    {
     "name": "stdout",
     "output_type": "stream",
     "text": [
      "                   all       1000       1000      0.979      0.974      0.991      0.798       0.98      0.974      0.992      0.841\n"
     ]
    },
    {
     "name": "stderr",
     "output_type": "stream",
     "text": [
      "\n"
     ]
    },
    {
     "name": "stdout",
     "output_type": "stream",
     "text": [
      "\n",
      "      Epoch    GPU_mem   box_loss   seg_loss   cls_loss   dfl_loss  Instances       Size\n"
     ]
    },
    {
     "name": "stderr",
     "output_type": "stream",
     "text": [
      "     37/100      2.75G     0.5521     0.5929     0.3161     0.8513         17        640: 100%|██████████| 63/63 [00:08<00:00,  7.85it/s]\n",
      "                 Class     Images  Instances      Box(P          R      mAP50  mAP50-95)     Mask(P          R      mAP50  mAP50-95): 100%|██████████| 32/32 [00:03<00:00, 10.55it/s]"
     ]
    },
    {
     "name": "stdout",
     "output_type": "stream",
     "text": [
      "                   all       1000       1000      0.992      0.978      0.992      0.831      0.992      0.978      0.992      0.854\n"
     ]
    },
    {
     "name": "stderr",
     "output_type": "stream",
     "text": [
      "\n"
     ]
    },
    {
     "name": "stdout",
     "output_type": "stream",
     "text": [
      "\n",
      "      Epoch    GPU_mem   box_loss   seg_loss   cls_loss   dfl_loss  Instances       Size\n"
     ]
    },
    {
     "name": "stderr",
     "output_type": "stream",
     "text": [
      "     38/100      2.75G     0.5776     0.6172     0.3274     0.8531          9        640: 100%|██████████| 63/63 [00:08<00:00,  7.74it/s]\n",
      "                 Class     Images  Instances      Box(P          R      mAP50  mAP50-95)     Mask(P          R      mAP50  mAP50-95): 100%|██████████| 32/32 [00:04<00:00,  7.91it/s]"
     ]
    },
    {
     "name": "stdout",
     "output_type": "stream",
     "text": [
      "                   all       1000       1000       0.99      0.986      0.994      0.799       0.99      0.986      0.994      0.859\n"
     ]
    },
    {
     "name": "stderr",
     "output_type": "stream",
     "text": [
      "\n"
     ]
    },
    {
     "name": "stdout",
     "output_type": "stream",
     "text": [
      "\n",
      "      Epoch    GPU_mem   box_loss   seg_loss   cls_loss   dfl_loss  Instances       Size\n"
     ]
    },
    {
     "name": "stderr",
     "output_type": "stream",
     "text": [
      "     39/100      2.75G     0.5478     0.6032     0.3134     0.8494         13        640: 100%|██████████| 63/63 [00:08<00:00,  7.18it/s]\n",
      "                 Class     Images  Instances      Box(P          R      mAP50  mAP50-95)     Mask(P          R      mAP50  mAP50-95): 100%|██████████| 32/32 [00:04<00:00,  7.27it/s]"
     ]
    },
    {
     "name": "stdout",
     "output_type": "stream",
     "text": [
      "                   all       1000       1000      0.994      0.987      0.994      0.844      0.994      0.987      0.994      0.854\n"
     ]
    },
    {
     "name": "stderr",
     "output_type": "stream",
     "text": [
      "\n"
     ]
    },
    {
     "name": "stdout",
     "output_type": "stream",
     "text": [
      "\n",
      "      Epoch    GPU_mem   box_loss   seg_loss   cls_loss   dfl_loss  Instances       Size\n"
     ]
    },
    {
     "name": "stderr",
     "output_type": "stream",
     "text": [
      "     40/100      2.75G     0.5578     0.6019     0.3184     0.8503         15        640: 100%|██████████| 63/63 [00:08<00:00,  7.54it/s]\n",
      "                 Class     Images  Instances      Box(P          R      mAP50  mAP50-95)     Mask(P          R      mAP50  mAP50-95): 100%|██████████| 32/32 [00:04<00:00,  6.72it/s]"
     ]
    },
    {
     "name": "stdout",
     "output_type": "stream",
     "text": [
      "                   all       1000       1000      0.991      0.985      0.994      0.841      0.991      0.985      0.994      0.861\n"
     ]
    },
    {
     "name": "stderr",
     "output_type": "stream",
     "text": [
      "\n"
     ]
    },
    {
     "name": "stdout",
     "output_type": "stream",
     "text": [
      "\n",
      "      Epoch    GPU_mem   box_loss   seg_loss   cls_loss   dfl_loss  Instances       Size\n"
     ]
    },
    {
     "name": "stderr",
     "output_type": "stream",
     "text": [
      "     41/100      2.75G     0.5522     0.6025     0.3178     0.8519         14        640: 100%|██████████| 63/63 [00:08<00:00,  7.62it/s]\n",
      "                 Class     Images  Instances      Box(P          R      mAP50  mAP50-95)     Mask(P          R      mAP50  mAP50-95): 100%|██████████| 32/32 [00:04<00:00,  7.25it/s]"
     ]
    },
    {
     "name": "stdout",
     "output_type": "stream",
     "text": [
      "                   all       1000       1000       0.99      0.962      0.989      0.838      0.989      0.963       0.99      0.856\n"
     ]
    },
    {
     "name": "stderr",
     "output_type": "stream",
     "text": [
      "\n"
     ]
    },
    {
     "name": "stdout",
     "output_type": "stream",
     "text": [
      "\n",
      "      Epoch    GPU_mem   box_loss   seg_loss   cls_loss   dfl_loss  Instances       Size\n"
     ]
    },
    {
     "name": "stderr",
     "output_type": "stream",
     "text": [
      "     42/100      2.75G     0.5374     0.5786     0.3089     0.8488         16        640: 100%|██████████| 63/63 [00:08<00:00,  7.68it/s]\n",
      "                 Class     Images  Instances      Box(P          R      mAP50  mAP50-95)     Mask(P          R      mAP50  mAP50-95): 100%|██████████| 32/32 [00:04<00:00,  6.70it/s]"
     ]
    },
    {
     "name": "stdout",
     "output_type": "stream",
     "text": [
      "                   all       1000       1000      0.994      0.971      0.992      0.817      0.994      0.971       0.99      0.848\n"
     ]
    },
    {
     "name": "stderr",
     "output_type": "stream",
     "text": [
      "\n"
     ]
    },
    {
     "name": "stdout",
     "output_type": "stream",
     "text": [
      "\n",
      "      Epoch    GPU_mem   box_loss   seg_loss   cls_loss   dfl_loss  Instances       Size\n"
     ]
    },
    {
     "name": "stderr",
     "output_type": "stream",
     "text": [
      "     43/100      2.76G     0.5659     0.6043     0.3233     0.8536         18        640: 100%|██████████| 63/63 [00:08<00:00,  7.44it/s]\n",
      "                 Class     Images  Instances      Box(P          R      mAP50  mAP50-95)     Mask(P          R      mAP50  mAP50-95): 100%|██████████| 32/32 [00:05<00:00,  6.36it/s]"
     ]
    },
    {
     "name": "stdout",
     "output_type": "stream",
     "text": [
      "                   all       1000       1000      0.993      0.985      0.994      0.849      0.993      0.985      0.994      0.857\n"
     ]
    },
    {
     "name": "stderr",
     "output_type": "stream",
     "text": [
      "\n"
     ]
    },
    {
     "name": "stdout",
     "output_type": "stream",
     "text": [
      "\n",
      "      Epoch    GPU_mem   box_loss   seg_loss   cls_loss   dfl_loss  Instances       Size\n"
     ]
    },
    {
     "name": "stderr",
     "output_type": "stream",
     "text": [
      "     44/100      2.75G     0.5485     0.5596     0.3163     0.8463         22        640: 100%|██████████| 63/63 [00:08<00:00,  7.47it/s]\n",
      "                 Class     Images  Instances      Box(P          R      mAP50  mAP50-95)     Mask(P          R      mAP50  mAP50-95): 100%|██████████| 32/32 [00:04<00:00,  6.59it/s]"
     ]
    },
    {
     "name": "stdout",
     "output_type": "stream",
     "text": [
      "                   all       1000       1000      0.991      0.986      0.994      0.826      0.991      0.986      0.994      0.855\n"
     ]
    },
    {
     "name": "stderr",
     "output_type": "stream",
     "text": [
      "\n"
     ]
    },
    {
     "name": "stdout",
     "output_type": "stream",
     "text": [
      "\n",
      "      Epoch    GPU_mem   box_loss   seg_loss   cls_loss   dfl_loss  Instances       Size\n"
     ]
    },
    {
     "name": "stderr",
     "output_type": "stream",
     "text": [
      "     45/100      2.75G     0.5458     0.5873     0.3154     0.8523         17        640: 100%|██████████| 63/63 [00:08<00:00,  7.71it/s]\n",
      "                 Class     Images  Instances      Box(P          R      mAP50  mAP50-95)     Mask(P          R      mAP50  mAP50-95): 100%|██████████| 32/32 [00:04<00:00,  6.62it/s]"
     ]
    },
    {
     "name": "stdout",
     "output_type": "stream",
     "text": [
      "                   all       1000       1000      0.992      0.977      0.993      0.848      0.992      0.977      0.993      0.853\n"
     ]
    },
    {
     "name": "stderr",
     "output_type": "stream",
     "text": [
      "\n"
     ]
    },
    {
     "name": "stdout",
     "output_type": "stream",
     "text": [
      "\n",
      "      Epoch    GPU_mem   box_loss   seg_loss   cls_loss   dfl_loss  Instances       Size\n"
     ]
    },
    {
     "name": "stderr",
     "output_type": "stream",
     "text": [
      "     46/100      2.89G     0.5353     0.5895     0.3064     0.8439         14        640: 100%|██████████| 63/63 [00:08<00:00,  7.64it/s]\n",
      "                 Class     Images  Instances      Box(P          R      mAP50  mAP50-95)     Mask(P          R      mAP50  mAP50-95): 100%|██████████| 32/32 [00:04<00:00,  7.65it/s]"
     ]
    },
    {
     "name": "stdout",
     "output_type": "stream",
     "text": [
      "                   all       1000       1000      0.987      0.981      0.993      0.853      0.987      0.981      0.993      0.852\n"
     ]
    },
    {
     "name": "stderr",
     "output_type": "stream",
     "text": [
      "\n"
     ]
    },
    {
     "name": "stdout",
     "output_type": "stream",
     "text": [
      "\n",
      "      Epoch    GPU_mem   box_loss   seg_loss   cls_loss   dfl_loss  Instances       Size\n"
     ]
    },
    {
     "name": "stderr",
     "output_type": "stream",
     "text": [
      "     47/100      2.75G     0.5464     0.5993     0.3186     0.8465         20        640: 100%|██████████| 63/63 [00:08<00:00,  7.85it/s]\n",
      "                 Class     Images  Instances      Box(P          R      mAP50  mAP50-95)     Mask(P          R      mAP50  mAP50-95): 100%|██████████| 32/32 [00:04<00:00,  7.19it/s]"
     ]
    },
    {
     "name": "stdout",
     "output_type": "stream",
     "text": [
      "                   all       1000       1000      0.995      0.989      0.994      0.834      0.995      0.989      0.994      0.863\n"
     ]
    },
    {
     "name": "stderr",
     "output_type": "stream",
     "text": [
      "\n"
     ]
    },
    {
     "name": "stdout",
     "output_type": "stream",
     "text": [
      "\n",
      "      Epoch    GPU_mem   box_loss   seg_loss   cls_loss   dfl_loss  Instances       Size\n"
     ]
    },
    {
     "name": "stderr",
     "output_type": "stream",
     "text": [
      "     48/100      2.75G     0.5322     0.5681     0.3035     0.8449         18        640: 100%|██████████| 63/63 [00:07<00:00,  7.98it/s]\n",
      "                 Class     Images  Instances      Box(P          R      mAP50  mAP50-95)     Mask(P          R      mAP50  mAP50-95): 100%|██████████| 32/32 [00:04<00:00,  7.33it/s]"
     ]
    },
    {
     "name": "stdout",
     "output_type": "stream",
     "text": [
      "                   all       1000       1000       0.99      0.982      0.994      0.816       0.99      0.982      0.994      0.847\n"
     ]
    },
    {
     "name": "stderr",
     "output_type": "stream",
     "text": [
      "\n"
     ]
    },
    {
     "name": "stdout",
     "output_type": "stream",
     "text": [
      "\n",
      "      Epoch    GPU_mem   box_loss   seg_loss   cls_loss   dfl_loss  Instances       Size\n"
     ]
    },
    {
     "name": "stderr",
     "output_type": "stream",
     "text": [
      "     49/100      2.75G     0.5338     0.5641     0.2989      0.842         23        640: 100%|██████████| 63/63 [00:08<00:00,  7.69it/s]\n",
      "                 Class     Images  Instances      Box(P          R      mAP50  mAP50-95)     Mask(P          R      mAP50  mAP50-95): 100%|██████████| 32/32 [00:04<00:00,  6.50it/s]"
     ]
    },
    {
     "name": "stdout",
     "output_type": "stream",
     "text": [
      "                   all       1000       1000      0.987       0.98      0.993      0.841      0.988      0.981      0.993      0.858\n"
     ]
    },
    {
     "name": "stderr",
     "output_type": "stream",
     "text": [
      "\n"
     ]
    },
    {
     "name": "stdout",
     "output_type": "stream",
     "text": [
      "\n",
      "      Epoch    GPU_mem   box_loss   seg_loss   cls_loss   dfl_loss  Instances       Size\n"
     ]
    },
    {
     "name": "stderr",
     "output_type": "stream",
     "text": [
      "     50/100      2.75G     0.5176      0.584     0.2864      0.845         12        640: 100%|██████████| 63/63 [00:08<00:00,  7.64it/s]\n",
      "                 Class     Images  Instances      Box(P          R      mAP50  mAP50-95)     Mask(P          R      mAP50  mAP50-95): 100%|██████████| 32/32 [00:04<00:00,  7.20it/s]"
     ]
    },
    {
     "name": "stdout",
     "output_type": "stream",
     "text": [
      "                   all       1000       1000      0.993      0.966       0.99      0.836      0.993      0.966       0.99      0.853\n"
     ]
    },
    {
     "name": "stderr",
     "output_type": "stream",
     "text": [
      "\n"
     ]
    },
    {
     "name": "stdout",
     "output_type": "stream",
     "text": [
      "\n",
      "      Epoch    GPU_mem   box_loss   seg_loss   cls_loss   dfl_loss  Instances       Size\n"
     ]
    },
    {
     "name": "stderr",
     "output_type": "stream",
     "text": [
      "     51/100      2.89G     0.5312     0.5865     0.2985     0.8469         14        640: 100%|██████████| 63/63 [00:08<00:00,  7.68it/s]\n",
      "                 Class     Images  Instances      Box(P          R      mAP50  mAP50-95)     Mask(P          R      mAP50  mAP50-95): 100%|██████████| 32/32 [00:05<00:00,  6.30it/s]"
     ]
    },
    {
     "name": "stdout",
     "output_type": "stream",
     "text": [
      "                   all       1000       1000      0.989      0.958      0.989      0.808      0.989      0.958      0.991      0.854\n"
     ]
    },
    {
     "name": "stderr",
     "output_type": "stream",
     "text": [
      "\n"
     ]
    },
    {
     "name": "stdout",
     "output_type": "stream",
     "text": [
      "\n",
      "      Epoch    GPU_mem   box_loss   seg_loss   cls_loss   dfl_loss  Instances       Size\n"
     ]
    },
    {
     "name": "stderr",
     "output_type": "stream",
     "text": [
      "     52/100      2.75G     0.5197     0.5813     0.2915     0.8385         10        640: 100%|██████████| 63/63 [00:09<00:00,  6.81it/s]\n",
      "                 Class     Images  Instances      Box(P          R      mAP50  mAP50-95)     Mask(P          R      mAP50  mAP50-95): 100%|██████████| 32/32 [00:04<00:00,  6.47it/s]\n"
     ]
    },
    {
     "name": "stdout",
     "output_type": "stream",
     "text": [
      "                   all       1000       1000      0.993      0.985      0.994      0.842      0.993      0.985      0.994      0.861\n",
      "\n",
      "      Epoch    GPU_mem   box_loss   seg_loss   cls_loss   dfl_loss  Instances       Size\n"
     ]
    },
    {
     "name": "stderr",
     "output_type": "stream",
     "text": [
      "     53/100      2.75G     0.5343     0.5901     0.3044     0.8487         19        640: 100%|██████████| 63/63 [00:08<00:00,  7.55it/s]\n",
      "                 Class     Images  Instances      Box(P          R      mAP50  mAP50-95)     Mask(P          R      mAP50  mAP50-95): 100%|██████████| 32/32 [00:04<00:00,  7.20it/s]"
     ]
    },
    {
     "name": "stdout",
     "output_type": "stream",
     "text": [
      "                   all       1000       1000      0.994      0.984      0.994       0.86      0.994      0.984      0.994      0.863\n"
     ]
    },
    {
     "name": "stderr",
     "output_type": "stream",
     "text": [
      "\n"
     ]
    },
    {
     "name": "stdout",
     "output_type": "stream",
     "text": [
      "\n",
      "      Epoch    GPU_mem   box_loss   seg_loss   cls_loss   dfl_loss  Instances       Size\n"
     ]
    },
    {
     "name": "stderr",
     "output_type": "stream",
     "text": [
      "     54/100      2.75G     0.5395     0.5739     0.3017     0.8498         14        640: 100%|██████████| 63/63 [00:08<00:00,  7.22it/s]\n",
      "                 Class     Images  Instances      Box(P          R      mAP50  mAP50-95)     Mask(P          R      mAP50  mAP50-95): 100%|██████████| 32/32 [00:04<00:00,  6.46it/s]"
     ]
    },
    {
     "name": "stdout",
     "output_type": "stream",
     "text": [
      "                   all       1000       1000      0.994      0.987      0.994      0.854      0.994      0.987      0.994      0.851\n"
     ]
    },
    {
     "name": "stderr",
     "output_type": "stream",
     "text": [
      "\n"
     ]
    },
    {
     "name": "stdout",
     "output_type": "stream",
     "text": [
      "\n",
      "      Epoch    GPU_mem   box_loss   seg_loss   cls_loss   dfl_loss  Instances       Size\n"
     ]
    },
    {
     "name": "stderr",
     "output_type": "stream",
     "text": [
      "     55/100      2.75G     0.5294     0.5799     0.2936     0.8479         16        640: 100%|██████████| 63/63 [00:08<00:00,  7.33it/s]\n",
      "                 Class     Images  Instances      Box(P          R      mAP50  mAP50-95)     Mask(P          R      mAP50  mAP50-95): 100%|██████████| 32/32 [00:05<00:00,  6.21it/s]"
     ]
    },
    {
     "name": "stdout",
     "output_type": "stream",
     "text": [
      "                   all       1000       1000      0.985      0.973      0.993       0.84      0.985      0.973      0.993      0.856\n"
     ]
    },
    {
     "name": "stderr",
     "output_type": "stream",
     "text": [
      "\n"
     ]
    },
    {
     "name": "stdout",
     "output_type": "stream",
     "text": [
      "\n",
      "      Epoch    GPU_mem   box_loss   seg_loss   cls_loss   dfl_loss  Instances       Size\n"
     ]
    },
    {
     "name": "stderr",
     "output_type": "stream",
     "text": [
      "     56/100      2.75G     0.5201       0.56     0.2924     0.8439         19        640: 100%|██████████| 63/63 [00:09<00:00,  6.69it/s]\n",
      "                 Class     Images  Instances      Box(P          R      mAP50  mAP50-95)     Mask(P          R      mAP50  mAP50-95): 100%|██████████| 32/32 [00:04<00:00,  6.88it/s]"
     ]
    },
    {
     "name": "stdout",
     "output_type": "stream",
     "text": [
      "                   all       1000       1000      0.995      0.981      0.994      0.817      0.995      0.981      0.994      0.856\n"
     ]
    },
    {
     "name": "stderr",
     "output_type": "stream",
     "text": [
      "\n"
     ]
    },
    {
     "name": "stdout",
     "output_type": "stream",
     "text": [
      "\n",
      "      Epoch    GPU_mem   box_loss   seg_loss   cls_loss   dfl_loss  Instances       Size\n"
     ]
    },
    {
     "name": "stderr",
     "output_type": "stream",
     "text": [
      "     57/100      2.75G     0.5176     0.5648     0.2956     0.8405         14        640: 100%|██████████| 63/63 [00:08<00:00,  7.30it/s]\n",
      "                 Class     Images  Instances      Box(P          R      mAP50  mAP50-95)     Mask(P          R      mAP50  mAP50-95): 100%|██████████| 32/32 [00:04<00:00,  7.81it/s]"
     ]
    },
    {
     "name": "stdout",
     "output_type": "stream",
     "text": [
      "                   all       1000       1000      0.995      0.983      0.994      0.853      0.995      0.983      0.994      0.853\n"
     ]
    },
    {
     "name": "stderr",
     "output_type": "stream",
     "text": [
      "\n"
     ]
    },
    {
     "name": "stdout",
     "output_type": "stream",
     "text": [
      "\n",
      "      Epoch    GPU_mem   box_loss   seg_loss   cls_loss   dfl_loss  Instances       Size\n"
     ]
    },
    {
     "name": "stderr",
     "output_type": "stream",
     "text": [
      "     58/100      2.75G     0.5085     0.5672     0.2824     0.8418         20        640: 100%|██████████| 63/63 [00:07<00:00,  7.91it/s]\n",
      "                 Class     Images  Instances      Box(P          R      mAP50  mAP50-95)     Mask(P          R      mAP50  mAP50-95): 100%|██████████| 32/32 [00:04<00:00,  7.07it/s]"
     ]
    },
    {
     "name": "stdout",
     "output_type": "stream",
     "text": [
      "                   all       1000       1000      0.994      0.966      0.993      0.825      0.994      0.966      0.993      0.858\n"
     ]
    },
    {
     "name": "stderr",
     "output_type": "stream",
     "text": [
      "\n"
     ]
    },
    {
     "name": "stdout",
     "output_type": "stream",
     "text": [
      "\n",
      "      Epoch    GPU_mem   box_loss   seg_loss   cls_loss   dfl_loss  Instances       Size\n"
     ]
    },
    {
     "name": "stderr",
     "output_type": "stream",
     "text": [
      "     59/100      2.76G     0.5165     0.5688     0.2938     0.8431         15        640: 100%|██████████| 63/63 [00:08<00:00,  7.33it/s]\n",
      "                 Class     Images  Instances      Box(P          R      mAP50  mAP50-95)     Mask(P          R      mAP50  mAP50-95): 100%|██████████| 32/32 [00:04<00:00,  6.99it/s]"
     ]
    },
    {
     "name": "stdout",
     "output_type": "stream",
     "text": [
      "                   all       1000       1000       0.98      0.975      0.993      0.829       0.98      0.975      0.993      0.857\n"
     ]
    },
    {
     "name": "stderr",
     "output_type": "stream",
     "text": [
      "\n"
     ]
    },
    {
     "name": "stdout",
     "output_type": "stream",
     "text": [
      "\n",
      "      Epoch    GPU_mem   box_loss   seg_loss   cls_loss   dfl_loss  Instances       Size\n"
     ]
    },
    {
     "name": "stderr",
     "output_type": "stream",
     "text": [
      "     60/100      2.75G     0.5178     0.5779     0.2918     0.8426         15        640: 100%|██████████| 63/63 [00:08<00:00,  7.49it/s]\n",
      "                 Class     Images  Instances      Box(P          R      mAP50  mAP50-95)     Mask(P          R      mAP50  mAP50-95): 100%|██████████| 32/32 [00:04<00:00,  6.81it/s]"
     ]
    },
    {
     "name": "stdout",
     "output_type": "stream",
     "text": [
      "                   all       1000       1000      0.989      0.984      0.993      0.845      0.989      0.984      0.993      0.861\n"
     ]
    },
    {
     "name": "stderr",
     "output_type": "stream",
     "text": [
      "\n"
     ]
    },
    {
     "name": "stdout",
     "output_type": "stream",
     "text": [
      "\n",
      "      Epoch    GPU_mem   box_loss   seg_loss   cls_loss   dfl_loss  Instances       Size\n"
     ]
    },
    {
     "name": "stderr",
     "output_type": "stream",
     "text": [
      "     61/100      2.75G     0.5132      0.587     0.2825     0.8424         16        640: 100%|██████████| 63/63 [00:08<00:00,  7.05it/s]\n",
      "                 Class     Images  Instances      Box(P          R      mAP50  mAP50-95)     Mask(P          R      mAP50  mAP50-95): 100%|██████████| 32/32 [00:05<00:00,  6.34it/s]"
     ]
    },
    {
     "name": "stdout",
     "output_type": "stream",
     "text": [
      "                   all       1000       1000      0.987      0.983      0.993       0.83      0.987      0.983      0.993      0.867\n"
     ]
    },
    {
     "name": "stderr",
     "output_type": "stream",
     "text": [
      "\n"
     ]
    },
    {
     "name": "stdout",
     "output_type": "stream",
     "text": [
      "\n",
      "      Epoch    GPU_mem   box_loss   seg_loss   cls_loss   dfl_loss  Instances       Size\n"
     ]
    },
    {
     "name": "stderr",
     "output_type": "stream",
     "text": [
      "     62/100      2.75G     0.5129     0.5705     0.2801     0.8415         20        640: 100%|██████████| 63/63 [00:08<00:00,  7.17it/s]\n",
      "                 Class     Images  Instances      Box(P          R      mAP50  mAP50-95)     Mask(P          R      mAP50  mAP50-95): 100%|██████████| 32/32 [00:04<00:00,  6.63it/s]"
     ]
    },
    {
     "name": "stdout",
     "output_type": "stream",
     "text": [
      "                   all       1000       1000      0.992      0.969      0.992      0.837      0.992      0.969      0.992      0.862\n"
     ]
    },
    {
     "name": "stderr",
     "output_type": "stream",
     "text": [
      "\n"
     ]
    },
    {
     "name": "stdout",
     "output_type": "stream",
     "text": [
      "\n",
      "      Epoch    GPU_mem   box_loss   seg_loss   cls_loss   dfl_loss  Instances       Size\n"
     ]
    },
    {
     "name": "stderr",
     "output_type": "stream",
     "text": [
      "     63/100      2.75G     0.5162     0.5393     0.2858     0.8377         17        640: 100%|██████████| 63/63 [00:08<00:00,  7.02it/s]\n",
      "                 Class     Images  Instances      Box(P          R      mAP50  mAP50-95)     Mask(P          R      mAP50  mAP50-95): 100%|██████████| 32/32 [00:04<00:00,  6.42it/s]"
     ]
    },
    {
     "name": "stdout",
     "output_type": "stream",
     "text": [
      "                   all       1000       1000      0.992      0.985      0.994      0.851      0.992      0.985      0.994      0.862\n"
     ]
    },
    {
     "name": "stderr",
     "output_type": "stream",
     "text": [
      "\n"
     ]
    },
    {
     "name": "stdout",
     "output_type": "stream",
     "text": [
      "\n",
      "      Epoch    GPU_mem   box_loss   seg_loss   cls_loss   dfl_loss  Instances       Size\n"
     ]
    },
    {
     "name": "stderr",
     "output_type": "stream",
     "text": [
      "     64/100      2.75G     0.5044     0.5775     0.2787     0.8359         17        640: 100%|██████████| 63/63 [00:09<00:00,  6.85it/s]\n",
      "                 Class     Images  Instances      Box(P          R      mAP50  mAP50-95)     Mask(P          R      mAP50  mAP50-95): 100%|██████████| 32/32 [00:05<00:00,  6.02it/s]"
     ]
    },
    {
     "name": "stdout",
     "output_type": "stream",
     "text": [
      "                   all       1000       1000      0.993      0.984      0.994       0.83      0.993      0.984      0.994      0.859\n"
     ]
    },
    {
     "name": "stderr",
     "output_type": "stream",
     "text": [
      "\n"
     ]
    },
    {
     "name": "stdout",
     "output_type": "stream",
     "text": [
      "\n",
      "      Epoch    GPU_mem   box_loss   seg_loss   cls_loss   dfl_loss  Instances       Size\n"
     ]
    },
    {
     "name": "stderr",
     "output_type": "stream",
     "text": [
      "     65/100      2.75G     0.5016     0.5766     0.2712     0.8369         16        640: 100%|██████████| 63/63 [00:08<00:00,  7.73it/s]\n",
      "                 Class     Images  Instances      Box(P          R      mAP50  mAP50-95)     Mask(P          R      mAP50  mAP50-95): 100%|██████████| 32/32 [00:04<00:00,  7.28it/s]"
     ]
    },
    {
     "name": "stdout",
     "output_type": "stream",
     "text": [
      "                   all       1000       1000      0.995      0.974      0.993      0.824      0.995      0.974      0.993      0.851\n"
     ]
    },
    {
     "name": "stderr",
     "output_type": "stream",
     "text": [
      "\n"
     ]
    },
    {
     "name": "stdout",
     "output_type": "stream",
     "text": [
      "\n",
      "      Epoch    GPU_mem   box_loss   seg_loss   cls_loss   dfl_loss  Instances       Size\n"
     ]
    },
    {
     "name": "stderr",
     "output_type": "stream",
     "text": [
      "     66/100      2.75G     0.5034     0.5616     0.2708     0.8417         16        640: 100%|██████████| 63/63 [00:08<00:00,  7.37it/s]\n",
      "                 Class     Images  Instances      Box(P          R      mAP50  mAP50-95)     Mask(P          R      mAP50  mAP50-95): 100%|██████████| 32/32 [00:04<00:00,  6.64it/s]"
     ]
    },
    {
     "name": "stdout",
     "output_type": "stream",
     "text": [
      "                   all       1000       1000      0.994      0.978      0.994       0.86      0.994      0.978      0.994      0.864\n"
     ]
    },
    {
     "name": "stderr",
     "output_type": "stream",
     "text": [
      "\n"
     ]
    },
    {
     "name": "stdout",
     "output_type": "stream",
     "text": [
      "\n",
      "      Epoch    GPU_mem   box_loss   seg_loss   cls_loss   dfl_loss  Instances       Size\n"
     ]
    },
    {
     "name": "stderr",
     "output_type": "stream",
     "text": [
      "     67/100      2.75G     0.5092     0.5442     0.2772     0.8436         15        640: 100%|██████████| 63/63 [00:08<00:00,  7.47it/s]\n",
      "                 Class     Images  Instances      Box(P          R      mAP50  mAP50-95)     Mask(P          R      mAP50  mAP50-95): 100%|██████████| 32/32 [00:04<00:00,  7.52it/s]"
     ]
    },
    {
     "name": "stdout",
     "output_type": "stream",
     "text": [
      "                   all       1000       1000      0.996      0.958      0.993      0.863      0.995      0.957      0.992      0.846\n"
     ]
    },
    {
     "name": "stderr",
     "output_type": "stream",
     "text": [
      "\n"
     ]
    },
    {
     "name": "stdout",
     "output_type": "stream",
     "text": [
      "\n",
      "      Epoch    GPU_mem   box_loss   seg_loss   cls_loss   dfl_loss  Instances       Size\n"
     ]
    },
    {
     "name": "stderr",
     "output_type": "stream",
     "text": [
      "     68/100      2.75G     0.4993     0.5385     0.2734     0.8391         17        640: 100%|██████████| 63/63 [00:08<00:00,  7.49it/s]\n",
      "                 Class     Images  Instances      Box(P          R      mAP50  mAP50-95)     Mask(P          R      mAP50  mAP50-95): 100%|██████████| 32/32 [00:04<00:00,  7.67it/s]"
     ]
    },
    {
     "name": "stdout",
     "output_type": "stream",
     "text": [
      "                   all       1000       1000      0.997      0.964      0.993      0.846      0.997      0.964      0.993      0.868\n"
     ]
    },
    {
     "name": "stderr",
     "output_type": "stream",
     "text": [
      "\n"
     ]
    },
    {
     "name": "stdout",
     "output_type": "stream",
     "text": [
      "\n",
      "      Epoch    GPU_mem   box_loss   seg_loss   cls_loss   dfl_loss  Instances       Size\n"
     ]
    },
    {
     "name": "stderr",
     "output_type": "stream",
     "text": [
      "     69/100      2.75G     0.5017     0.5629     0.2734     0.8428         16        640: 100%|██████████| 63/63 [00:09<00:00,  6.83it/s]\n",
      "                 Class     Images  Instances      Box(P          R      mAP50  mAP50-95)     Mask(P          R      mAP50  mAP50-95): 100%|██████████| 32/32 [00:05<00:00,  6.13it/s]"
     ]
    },
    {
     "name": "stdout",
     "output_type": "stream",
     "text": [
      "                   all       1000       1000      0.993      0.979      0.993      0.833      0.993      0.979      0.993      0.865\n"
     ]
    },
    {
     "name": "stderr",
     "output_type": "stream",
     "text": [
      "\n"
     ]
    },
    {
     "name": "stdout",
     "output_type": "stream",
     "text": [
      "\n",
      "      Epoch    GPU_mem   box_loss   seg_loss   cls_loss   dfl_loss  Instances       Size\n"
     ]
    },
    {
     "name": "stderr",
     "output_type": "stream",
     "text": [
      "     70/100      2.75G     0.4892     0.5334     0.2671     0.8423         18        640: 100%|██████████| 63/63 [00:09<00:00,  6.87it/s]\n",
      "                 Class     Images  Instances      Box(P          R      mAP50  mAP50-95)     Mask(P          R      mAP50  mAP50-95): 100%|██████████| 32/32 [00:05<00:00,  6.35it/s]\n"
     ]
    },
    {
     "name": "stdout",
     "output_type": "stream",
     "text": [
      "                   all       1000       1000      0.987      0.986      0.994      0.862      0.987      0.986      0.994      0.854\n",
      "\n",
      "      Epoch    GPU_mem   box_loss   seg_loss   cls_loss   dfl_loss  Instances       Size\n"
     ]
    },
    {
     "name": "stderr",
     "output_type": "stream",
     "text": [
      "     71/100      2.76G     0.4999     0.5602     0.2648     0.8414         13        640: 100%|██████████| 63/63 [00:08<00:00,  7.29it/s]\n",
      "                 Class     Images  Instances      Box(P          R      mAP50  mAP50-95)     Mask(P          R      mAP50  mAP50-95): 100%|██████████| 32/32 [00:04<00:00,  7.06it/s]"
     ]
    },
    {
     "name": "stdout",
     "output_type": "stream",
     "text": [
      "                   all       1000       1000      0.991      0.984      0.993      0.841      0.991      0.984      0.993      0.844\n"
     ]
    },
    {
     "name": "stderr",
     "output_type": "stream",
     "text": [
      "\n"
     ]
    },
    {
     "name": "stdout",
     "output_type": "stream",
     "text": [
      "\n",
      "      Epoch    GPU_mem   box_loss   seg_loss   cls_loss   dfl_loss  Instances       Size\n"
     ]
    },
    {
     "name": "stderr",
     "output_type": "stream",
     "text": [
      "     72/100      2.75G      0.495     0.5703     0.2663     0.8406         17        640: 100%|██████████| 63/63 [00:08<00:00,  7.70it/s]\n",
      "                 Class     Images  Instances      Box(P          R      mAP50  mAP50-95)     Mask(P          R      mAP50  mAP50-95): 100%|██████████| 32/32 [00:04<00:00,  7.21it/s]"
     ]
    },
    {
     "name": "stdout",
     "output_type": "stream",
     "text": [
      "                   all       1000       1000      0.997      0.956      0.988      0.838      0.997      0.956      0.988      0.865\n"
     ]
    },
    {
     "name": "stderr",
     "output_type": "stream",
     "text": [
      "\n"
     ]
    },
    {
     "name": "stdout",
     "output_type": "stream",
     "text": [
      "\n",
      "      Epoch    GPU_mem   box_loss   seg_loss   cls_loss   dfl_loss  Instances       Size\n"
     ]
    },
    {
     "name": "stderr",
     "output_type": "stream",
     "text": [
      "     73/100      2.75G     0.4896     0.5651      0.265     0.8392         14        640: 100%|██████████| 63/63 [00:08<00:00,  7.34it/s]\n",
      "                 Class     Images  Instances      Box(P          R      mAP50  mAP50-95)     Mask(P          R      mAP50  mAP50-95): 100%|██████████| 32/32 [00:04<00:00,  6.52it/s]"
     ]
    },
    {
     "name": "stdout",
     "output_type": "stream",
     "text": [
      "                   all       1000       1000      0.993      0.987      0.994      0.869      0.993      0.987      0.994      0.865\n"
     ]
    },
    {
     "name": "stderr",
     "output_type": "stream",
     "text": [
      "\n"
     ]
    },
    {
     "name": "stdout",
     "output_type": "stream",
     "text": [
      "\n",
      "      Epoch    GPU_mem   box_loss   seg_loss   cls_loss   dfl_loss  Instances       Size\n"
     ]
    },
    {
     "name": "stderr",
     "output_type": "stream",
     "text": [
      "     74/100      2.75G     0.4894     0.5619     0.2702     0.8339         17        640: 100%|██████████| 63/63 [00:08<00:00,  7.58it/s]\n",
      "                 Class     Images  Instances      Box(P          R      mAP50  mAP50-95)     Mask(P          R      mAP50  mAP50-95): 100%|██████████| 32/32 [00:04<00:00,  6.69it/s]"
     ]
    },
    {
     "name": "stdout",
     "output_type": "stream",
     "text": [
      "                   all       1000       1000      0.994      0.974      0.993      0.848      0.994      0.974      0.993      0.863\n"
     ]
    },
    {
     "name": "stderr",
     "output_type": "stream",
     "text": [
      "\n"
     ]
    },
    {
     "name": "stdout",
     "output_type": "stream",
     "text": [
      "\n",
      "      Epoch    GPU_mem   box_loss   seg_loss   cls_loss   dfl_loss  Instances       Size\n"
     ]
    },
    {
     "name": "stderr",
     "output_type": "stream",
     "text": [
      "     75/100      2.76G     0.4859      0.537     0.2612     0.8407         20        640: 100%|██████████| 63/63 [00:08<00:00,  7.54it/s]\n",
      "                 Class     Images  Instances      Box(P          R      mAP50  mAP50-95)     Mask(P          R      mAP50  mAP50-95): 100%|██████████| 32/32 [00:04<00:00,  6.76it/s]"
     ]
    },
    {
     "name": "stdout",
     "output_type": "stream",
     "text": [
      "                   all       1000       1000      0.991      0.967      0.992      0.846      0.991      0.967      0.993      0.861\n"
     ]
    },
    {
     "name": "stderr",
     "output_type": "stream",
     "text": [
      "\n"
     ]
    },
    {
     "name": "stdout",
     "output_type": "stream",
     "text": [
      "\n",
      "      Epoch    GPU_mem   box_loss   seg_loss   cls_loss   dfl_loss  Instances       Size\n"
     ]
    },
    {
     "name": "stderr",
     "output_type": "stream",
     "text": [
      "     76/100      2.75G     0.4746     0.5733     0.2581     0.8309         13        640: 100%|██████████| 63/63 [00:08<00:00,  7.63it/s]\n",
      "                 Class     Images  Instances      Box(P          R      mAP50  mAP50-95)     Mask(P          R      mAP50  mAP50-95): 100%|██████████| 32/32 [00:04<00:00,  6.75it/s]"
     ]
    },
    {
     "name": "stdout",
     "output_type": "stream",
     "text": [
      "                   all       1000       1000      0.986      0.972      0.992      0.858      0.986      0.972      0.992      0.857\n"
     ]
    },
    {
     "name": "stderr",
     "output_type": "stream",
     "text": [
      "\n"
     ]
    },
    {
     "name": "stdout",
     "output_type": "stream",
     "text": [
      "\n",
      "      Epoch    GPU_mem   box_loss   seg_loss   cls_loss   dfl_loss  Instances       Size\n"
     ]
    },
    {
     "name": "stderr",
     "output_type": "stream",
     "text": [
      "     77/100      2.75G     0.5131      0.561     0.2765     0.8426         18        640: 100%|██████████| 63/63 [00:08<00:00,  7.85it/s]\n",
      "                 Class     Images  Instances      Box(P          R      mAP50  mAP50-95)     Mask(P          R      mAP50  mAP50-95): 100%|██████████| 32/32 [00:02<00:00, 10.87it/s]"
     ]
    },
    {
     "name": "stdout",
     "output_type": "stream",
     "text": [
      "                   all       1000       1000      0.992      0.961      0.989       0.84      0.992      0.961      0.989      0.861\n"
     ]
    },
    {
     "name": "stderr",
     "output_type": "stream",
     "text": [
      "\n"
     ]
    },
    {
     "name": "stdout",
     "output_type": "stream",
     "text": [
      "\n",
      "      Epoch    GPU_mem   box_loss   seg_loss   cls_loss   dfl_loss  Instances       Size\n"
     ]
    },
    {
     "name": "stderr",
     "output_type": "stream",
     "text": [
      "     78/100      2.75G     0.4902     0.5537     0.2618     0.8408         15        640: 100%|██████████| 63/63 [00:07<00:00,  8.61it/s]\n",
      "                 Class     Images  Instances      Box(P          R      mAP50  mAP50-95)     Mask(P          R      mAP50  mAP50-95): 100%|██████████| 32/32 [00:02<00:00, 11.06it/s]"
     ]
    },
    {
     "name": "stdout",
     "output_type": "stream",
     "text": [
      "                   all       1000       1000       0.99      0.965      0.991      0.837       0.99      0.965      0.991      0.857\n"
     ]
    },
    {
     "name": "stderr",
     "output_type": "stream",
     "text": [
      "\n"
     ]
    },
    {
     "name": "stdout",
     "output_type": "stream",
     "text": [
      "\n",
      "      Epoch    GPU_mem   box_loss   seg_loss   cls_loss   dfl_loss  Instances       Size\n"
     ]
    },
    {
     "name": "stderr",
     "output_type": "stream",
     "text": [
      "     79/100      2.75G     0.4942     0.5474     0.2583     0.8339         17        640: 100%|██████████| 63/63 [00:07<00:00,  8.49it/s]\n",
      "                 Class     Images  Instances      Box(P          R      mAP50  mAP50-95)     Mask(P          R      mAP50  mAP50-95): 100%|██████████| 32/32 [00:02<00:00, 10.89it/s]"
     ]
    },
    {
     "name": "stdout",
     "output_type": "stream",
     "text": [
      "                   all       1000       1000       0.99      0.972      0.993      0.842       0.99      0.972      0.993      0.864\n"
     ]
    },
    {
     "name": "stderr",
     "output_type": "stream",
     "text": [
      "\n"
     ]
    },
    {
     "name": "stdout",
     "output_type": "stream",
     "text": [
      "\n",
      "      Epoch    GPU_mem   box_loss   seg_loss   cls_loss   dfl_loss  Instances       Size\n"
     ]
    },
    {
     "name": "stderr",
     "output_type": "stream",
     "text": [
      "     80/100      2.75G     0.4749     0.5326      0.254     0.8315         15        640: 100%|██████████| 63/63 [00:08<00:00,  7.72it/s]\n",
      "                 Class     Images  Instances      Box(P          R      mAP50  mAP50-95)     Mask(P          R      mAP50  mAP50-95): 100%|██████████| 32/32 [00:05<00:00,  6.25it/s]"
     ]
    },
    {
     "name": "stdout",
     "output_type": "stream",
     "text": [
      "                   all       1000       1000      0.994      0.969       0.99      0.839      0.994      0.969       0.99      0.861\n"
     ]
    },
    {
     "name": "stderr",
     "output_type": "stream",
     "text": [
      "\n"
     ]
    },
    {
     "name": "stdout",
     "output_type": "stream",
     "text": [
      "\n",
      "      Epoch    GPU_mem   box_loss   seg_loss   cls_loss   dfl_loss  Instances       Size\n"
     ]
    },
    {
     "name": "stderr",
     "output_type": "stream",
     "text": [
      "     81/100      2.75G     0.4687     0.5458     0.2487     0.8303         18        640: 100%|██████████| 63/63 [00:09<00:00,  6.79it/s]\n",
      "                 Class     Images  Instances      Box(P          R      mAP50  mAP50-95)     Mask(P          R      mAP50  mAP50-95): 100%|██████████| 32/32 [00:04<00:00,  6.65it/s]\n"
     ]
    },
    {
     "name": "stdout",
     "output_type": "stream",
     "text": [
      "                   all       1000       1000      0.998      0.958      0.985       0.83      0.998      0.958      0.985      0.851\n",
      "\n",
      "      Epoch    GPU_mem   box_loss   seg_loss   cls_loss   dfl_loss  Instances       Size\n"
     ]
    },
    {
     "name": "stderr",
     "output_type": "stream",
     "text": [
      "     82/100      2.75G     0.4813     0.5167     0.2493     0.8346         23        640: 100%|██████████| 63/63 [00:09<00:00,  6.95it/s]\n",
      "                 Class     Images  Instances      Box(P          R      mAP50  mAP50-95)     Mask(P          R      mAP50  mAP50-95): 100%|██████████| 32/32 [00:04<00:00,  6.46it/s]"
     ]
    },
    {
     "name": "stdout",
     "output_type": "stream",
     "text": [
      "                   all       1000       1000      0.988      0.966      0.989      0.839      0.988      0.966      0.989       0.85\n"
     ]
    },
    {
     "name": "stderr",
     "output_type": "stream",
     "text": [
      "\n"
     ]
    },
    {
     "name": "stdout",
     "output_type": "stream",
     "text": [
      "\n",
      "      Epoch    GPU_mem   box_loss   seg_loss   cls_loss   dfl_loss  Instances       Size\n"
     ]
    },
    {
     "name": "stderr",
     "output_type": "stream",
     "text": [
      "     83/100      2.75G      0.465     0.5592     0.2483     0.8351         15        640: 100%|██████████| 63/63 [00:09<00:00,  6.76it/s]\n",
      "                 Class     Images  Instances      Box(P          R      mAP50  mAP50-95)     Mask(P          R      mAP50  mAP50-95): 100%|██████████| 32/32 [00:04<00:00,  6.97it/s]\n"
     ]
    },
    {
     "name": "stdout",
     "output_type": "stream",
     "text": [
      "                   all       1000       1000      0.997      0.969      0.994      0.857      0.997      0.969      0.994      0.866\n",
      "\n",
      "      Epoch    GPU_mem   box_loss   seg_loss   cls_loss   dfl_loss  Instances       Size\n"
     ]
    },
    {
     "name": "stderr",
     "output_type": "stream",
     "text": [
      "     84/100      2.75G     0.4722     0.5377     0.2475     0.8321         17        640: 100%|██████████| 63/63 [00:08<00:00,  7.50it/s]\n",
      "                 Class     Images  Instances      Box(P          R      mAP50  mAP50-95)     Mask(P          R      mAP50  mAP50-95): 100%|██████████| 32/32 [00:04<00:00,  7.31it/s]\n"
     ]
    },
    {
     "name": "stdout",
     "output_type": "stream",
     "text": [
      "                   all       1000       1000      0.999      0.977      0.994      0.841      0.999      0.977      0.994      0.861\n",
      "\n",
      "      Epoch    GPU_mem   box_loss   seg_loss   cls_loss   dfl_loss  Instances       Size\n"
     ]
    },
    {
     "name": "stderr",
     "output_type": "stream",
     "text": [
      "     85/100      2.75G     0.4803     0.5503     0.2548     0.8404         20        640: 100%|██████████| 63/63 [00:09<00:00,  6.93it/s]\n",
      "                 Class     Images  Instances      Box(P          R      mAP50  mAP50-95)     Mask(P          R      mAP50  mAP50-95): 100%|██████████| 32/32 [00:05<00:00,  6.36it/s]"
     ]
    },
    {
     "name": "stdout",
     "output_type": "stream",
     "text": [
      "                   all       1000       1000      0.994      0.985      0.994      0.859      0.994      0.985      0.994      0.867\n"
     ]
    },
    {
     "name": "stderr",
     "output_type": "stream",
     "text": [
      "\n"
     ]
    },
    {
     "name": "stdout",
     "output_type": "stream",
     "text": [
      "\n",
      "      Epoch    GPU_mem   box_loss   seg_loss   cls_loss   dfl_loss  Instances       Size\n"
     ]
    },
    {
     "name": "stderr",
     "output_type": "stream",
     "text": [
      "     86/100      2.75G     0.4697     0.5229     0.2457     0.8306         20        640: 100%|██████████| 63/63 [00:08<00:00,  7.10it/s]\n",
      "                 Class     Images  Instances      Box(P          R      mAP50  mAP50-95)     Mask(P          R      mAP50  mAP50-95): 100%|██████████| 32/32 [00:04<00:00,  6.44it/s]"
     ]
    },
    {
     "name": "stdout",
     "output_type": "stream",
     "text": [
      "                   all       1000       1000      0.993      0.985      0.994      0.833      0.993      0.985      0.994      0.863\n"
     ]
    },
    {
     "name": "stderr",
     "output_type": "stream",
     "text": [
      "\n"
     ]
    },
    {
     "name": "stdout",
     "output_type": "stream",
     "text": [
      "\n",
      "      Epoch    GPU_mem   box_loss   seg_loss   cls_loss   dfl_loss  Instances       Size\n"
     ]
    },
    {
     "name": "stderr",
     "output_type": "stream",
     "text": [
      "     87/100      2.75G     0.4606     0.5148     0.2437     0.8298         20        640: 100%|██████████| 63/63 [00:09<00:00,  6.89it/s]\n",
      "                 Class     Images  Instances      Box(P          R      mAP50  mAP50-95)     Mask(P          R      mAP50  mAP50-95): 100%|██████████| 32/32 [00:04<00:00,  6.52it/s]\n"
     ]
    },
    {
     "name": "stdout",
     "output_type": "stream",
     "text": [
      "                   all       1000       1000      0.997      0.977      0.994       0.86      0.997      0.977      0.994      0.857\n",
      "\n",
      "      Epoch    GPU_mem   box_loss   seg_loss   cls_loss   dfl_loss  Instances       Size\n"
     ]
    },
    {
     "name": "stderr",
     "output_type": "stream",
     "text": [
      "     88/100      2.75G     0.4636     0.5165     0.2433     0.8343         14        640: 100%|██████████| 63/63 [00:09<00:00,  6.83it/s]\n",
      "                 Class     Images  Instances      Box(P          R      mAP50  mAP50-95)     Mask(P          R      mAP50  mAP50-95): 100%|██████████| 32/32 [00:04<00:00,  6.53it/s]\n"
     ]
    },
    {
     "name": "stdout",
     "output_type": "stream",
     "text": [
      "                   all       1000       1000      0.994      0.979      0.994      0.868      0.994      0.979      0.994      0.858\n",
      "\n",
      "      Epoch    GPU_mem   box_loss   seg_loss   cls_loss   dfl_loss  Instances       Size\n"
     ]
    },
    {
     "name": "stderr",
     "output_type": "stream",
     "text": [
      "     89/100      2.75G     0.4664     0.5361     0.2369     0.8296         12        640: 100%|██████████| 63/63 [00:08<00:00,  7.07it/s]\n",
      "                 Class     Images  Instances      Box(P          R      mAP50  mAP50-95)     Mask(P          R      mAP50  mAP50-95): 100%|██████████| 32/32 [00:04<00:00,  7.39it/s]"
     ]
    },
    {
     "name": "stdout",
     "output_type": "stream",
     "text": [
      "                   all       1000       1000      0.996      0.975      0.992      0.842      0.996      0.975      0.992      0.861\n"
     ]
    },
    {
     "name": "stderr",
     "output_type": "stream",
     "text": [
      "\n"
     ]
    },
    {
     "name": "stdout",
     "output_type": "stream",
     "text": [
      "\n",
      "      Epoch    GPU_mem   box_loss   seg_loss   cls_loss   dfl_loss  Instances       Size\n"
     ]
    },
    {
     "name": "stderr",
     "output_type": "stream",
     "text": [
      "     90/100      2.75G     0.4606     0.5407     0.2335     0.8279         18        640: 100%|██████████| 63/63 [00:08<00:00,  7.27it/s]\n",
      "                 Class     Images  Instances      Box(P          R      mAP50  mAP50-95)     Mask(P          R      mAP50  mAP50-95): 100%|██████████| 32/32 [00:04<00:00,  7.54it/s]"
     ]
    },
    {
     "name": "stdout",
     "output_type": "stream",
     "text": [
      "                   all       1000       1000      0.998      0.973      0.992      0.834      0.998      0.973      0.992      0.857\n"
     ]
    },
    {
     "name": "stderr",
     "output_type": "stream",
     "text": [
      "\n"
     ]
    },
    {
     "name": "stdout",
     "output_type": "stream",
     "text": [
      "Closing dataloader mosaic\n",
      "\n",
      "      Epoch    GPU_mem   box_loss   seg_loss   cls_loss   dfl_loss  Instances       Size\n"
     ]
    },
    {
     "name": "stderr",
     "output_type": "stream",
     "text": [
      "     91/100      2.76G     0.4323     0.5221     0.2111     0.8112          8        640: 100%|██████████| 63/63 [00:10<00:00,  5.93it/s]\n",
      "                 Class     Images  Instances      Box(P          R      mAP50  mAP50-95)     Mask(P          R      mAP50  mAP50-95): 100%|██████████| 32/32 [00:05<00:00,  6.34it/s]"
     ]
    },
    {
     "name": "stdout",
     "output_type": "stream",
     "text": [
      "                   all       1000       1000      0.995      0.979      0.992      0.843      0.995      0.979      0.992       0.86\n"
     ]
    },
    {
     "name": "stderr",
     "output_type": "stream",
     "text": [
      "\n"
     ]
    },
    {
     "name": "stdout",
     "output_type": "stream",
     "text": [
      "\n",
      "      Epoch    GPU_mem   box_loss   seg_loss   cls_loss   dfl_loss  Instances       Size\n"
     ]
    },
    {
     "name": "stderr",
     "output_type": "stream",
     "text": [
      "     92/100      2.63G     0.4356     0.5176     0.2123     0.8173          8        640: 100%|██████████| 63/63 [00:08<00:00,  7.69it/s]\n",
      "                 Class     Images  Instances      Box(P          R      mAP50  mAP50-95)     Mask(P          R      mAP50  mAP50-95): 100%|██████████| 32/32 [00:05<00:00,  6.38it/s]"
     ]
    },
    {
     "name": "stdout",
     "output_type": "stream",
     "text": [
      "                   all       1000       1000      0.993      0.975       0.99      0.832      0.993      0.975       0.99      0.858\n"
     ]
    },
    {
     "name": "stderr",
     "output_type": "stream",
     "text": [
      "\n"
     ]
    },
    {
     "name": "stdout",
     "output_type": "stream",
     "text": [
      "\n",
      "      Epoch    GPU_mem   box_loss   seg_loss   cls_loss   dfl_loss  Instances       Size\n"
     ]
    },
    {
     "name": "stderr",
     "output_type": "stream",
     "text": [
      "     93/100      2.63G     0.4303     0.5084     0.2113     0.8114          8        640: 100%|██████████| 63/63 [00:09<00:00,  6.90it/s]\n",
      "                 Class     Images  Instances      Box(P          R      mAP50  mAP50-95)     Mask(P          R      mAP50  mAP50-95): 100%|██████████| 32/32 [00:05<00:00,  6.28it/s]"
     ]
    },
    {
     "name": "stdout",
     "output_type": "stream",
     "text": [
      "                   all       1000       1000      0.993      0.972      0.989      0.845      0.993      0.972      0.989      0.853\n"
     ]
    },
    {
     "name": "stderr",
     "output_type": "stream",
     "text": [
      "\n"
     ]
    },
    {
     "name": "stdout",
     "output_type": "stream",
     "text": [
      "\n",
      "      Epoch    GPU_mem   box_loss   seg_loss   cls_loss   dfl_loss  Instances       Size\n"
     ]
    },
    {
     "name": "stderr",
     "output_type": "stream",
     "text": [
      "     94/100      2.63G     0.4299     0.5174     0.2073     0.8076          8        640: 100%|██████████| 63/63 [00:08<00:00,  7.64it/s]\n",
      "                 Class     Images  Instances      Box(P          R      mAP50  mAP50-95)     Mask(P          R      mAP50  mAP50-95): 100%|██████████| 32/32 [00:04<00:00,  6.69it/s]"
     ]
    },
    {
     "name": "stdout",
     "output_type": "stream",
     "text": [
      "                   all       1000       1000      0.991      0.975       0.99      0.851      0.991      0.975       0.99      0.855\n"
     ]
    },
    {
     "name": "stderr",
     "output_type": "stream",
     "text": [
      "\n"
     ]
    },
    {
     "name": "stdout",
     "output_type": "stream",
     "text": [
      "\n",
      "      Epoch    GPU_mem   box_loss   seg_loss   cls_loss   dfl_loss  Instances       Size\n"
     ]
    },
    {
     "name": "stderr",
     "output_type": "stream",
     "text": [
      "     95/100      2.63G      0.424     0.5054     0.2066     0.8062          8        640: 100%|██████████| 63/63 [00:08<00:00,  7.60it/s]\n",
      "                 Class     Images  Instances      Box(P          R      mAP50  mAP50-95)     Mask(P          R      mAP50  mAP50-95): 100%|██████████| 32/32 [00:04<00:00,  7.47it/s]"
     ]
    },
    {
     "name": "stdout",
     "output_type": "stream",
     "text": [
      "                   all       1000       1000      0.993      0.975      0.991      0.843      0.993      0.975      0.992      0.856\n"
     ]
    },
    {
     "name": "stderr",
     "output_type": "stream",
     "text": [
      "\n"
     ]
    },
    {
     "name": "stdout",
     "output_type": "stream",
     "text": [
      "\n",
      "      Epoch    GPU_mem   box_loss   seg_loss   cls_loss   dfl_loss  Instances       Size\n"
     ]
    },
    {
     "name": "stderr",
     "output_type": "stream",
     "text": [
      "     96/100      2.63G     0.4211     0.5149     0.2059     0.8136          8        640: 100%|██████████| 63/63 [00:08<00:00,  7.23it/s]\n",
      "                 Class     Images  Instances      Box(P          R      mAP50  mAP50-95)     Mask(P          R      mAP50  mAP50-95): 100%|██████████| 32/32 [00:04<00:00,  7.24it/s]"
     ]
    },
    {
     "name": "stdout",
     "output_type": "stream",
     "text": [
      "                   all       1000       1000      0.994      0.971       0.99      0.848      0.994      0.971      0.991      0.863\n"
     ]
    },
    {
     "name": "stderr",
     "output_type": "stream",
     "text": [
      "\n"
     ]
    },
    {
     "name": "stdout",
     "output_type": "stream",
     "text": [
      "\n",
      "      Epoch    GPU_mem   box_loss   seg_loss   cls_loss   dfl_loss  Instances       Size\n"
     ]
    },
    {
     "name": "stderr",
     "output_type": "stream",
     "text": [
      "     97/100      2.63G     0.4173     0.5118     0.2045     0.8149          8        640: 100%|██████████| 63/63 [00:08<00:00,  7.78it/s]\n",
      "                 Class     Images  Instances      Box(P          R      mAP50  mAP50-95)     Mask(P          R      mAP50  mAP50-95): 100%|██████████| 32/32 [00:05<00:00,  6.37it/s]"
     ]
    },
    {
     "name": "stdout",
     "output_type": "stream",
     "text": [
      "                   all       1000       1000      0.996      0.964       0.99      0.843      0.996      0.964       0.99      0.859\n"
     ]
    },
    {
     "name": "stderr",
     "output_type": "stream",
     "text": [
      "\n"
     ]
    },
    {
     "name": "stdout",
     "output_type": "stream",
     "text": [
      "\n",
      "      Epoch    GPU_mem   box_loss   seg_loss   cls_loss   dfl_loss  Instances       Size\n"
     ]
    },
    {
     "name": "stderr",
     "output_type": "stream",
     "text": [
      "     98/100      2.63G     0.4163     0.5001     0.1992     0.8118          8        640: 100%|██████████| 63/63 [00:08<00:00,  7.26it/s]\n",
      "                 Class     Images  Instances      Box(P          R      mAP50  mAP50-95)     Mask(P          R      mAP50  mAP50-95): 100%|██████████| 32/32 [00:04<00:00,  6.40it/s]"
     ]
    },
    {
     "name": "stdout",
     "output_type": "stream",
     "text": [
      "                   all       1000       1000      0.998      0.965       0.99      0.846      0.998      0.965       0.99       0.86\n"
     ]
    },
    {
     "name": "stderr",
     "output_type": "stream",
     "text": [
      "\n"
     ]
    },
    {
     "name": "stdout",
     "output_type": "stream",
     "text": [
      "\n",
      "      Epoch    GPU_mem   box_loss   seg_loss   cls_loss   dfl_loss  Instances       Size\n"
     ]
    },
    {
     "name": "stderr",
     "output_type": "stream",
     "text": [
      "     99/100      2.63G     0.4132     0.5027     0.1958     0.8182          8        640: 100%|██████████| 63/63 [00:09<00:00,  6.77it/s]\n",
      "                 Class     Images  Instances      Box(P          R      mAP50  mAP50-95)     Mask(P          R      mAP50  mAP50-95): 100%|██████████| 32/32 [00:04<00:00,  7.37it/s]"
     ]
    },
    {
     "name": "stdout",
     "output_type": "stream",
     "text": [
      "                   all       1000       1000      0.997      0.967       0.99      0.848      0.997      0.967       0.99      0.863\n"
     ]
    },
    {
     "name": "stderr",
     "output_type": "stream",
     "text": [
      "\n"
     ]
    },
    {
     "name": "stdout",
     "output_type": "stream",
     "text": [
      "\n",
      "      Epoch    GPU_mem   box_loss   seg_loss   cls_loss   dfl_loss  Instances       Size\n"
     ]
    },
    {
     "name": "stderr",
     "output_type": "stream",
     "text": [
      "    100/100      2.63G     0.4081     0.4997      0.195     0.8165          8        640: 100%|██████████| 63/63 [00:08<00:00,  7.21it/s]\n",
      "                 Class     Images  Instances      Box(P          R      mAP50  mAP50-95)     Mask(P          R      mAP50  mAP50-95): 100%|██████████| 32/32 [00:04<00:00,  7.70it/s]"
     ]
    },
    {
     "name": "stdout",
     "output_type": "stream",
     "text": [
      "                   all       1000       1000      0.997      0.972      0.991      0.848      0.997      0.972      0.991      0.865\n"
     ]
    },
    {
     "name": "stderr",
     "output_type": "stream",
     "text": [
      "\n"
     ]
    },
    {
     "name": "stdout",
     "output_type": "stream",
     "text": [
      "\n",
      "100 epochs completed in 0.393 hours.\n",
      "Optimizer stripped from runs/segment/train3/weights/last.pt, 6.8MB\n",
      "Optimizer stripped from runs/segment/train3/weights/best.pt, 6.8MB\n",
      "\n",
      "Validating runs/segment/train3/weights/best.pt...\n",
      "Ultralytics YOLOv8.2.70 🚀 Python-3.9.19 torch-2.2.2+cu121 CUDA:0 (NVIDIA GeForce RTX 4090 D, 24210MiB)\n",
      "YOLOv8n-seg summary (fused): 195 layers, 3,258,259 parameters, 0 gradients, 12.0 GFLOPs\n"
     ]
    },
    {
     "name": "stderr",
     "output_type": "stream",
     "text": [
      "                 Class     Images  Instances      Box(P          R      mAP50  mAP50-95)     Mask(P          R      mAP50  mAP50-95): 100%|██████████| 32/32 [00:06<00:00,  5.02it/s]\n"
     ]
    },
    {
     "name": "stdout",
     "output_type": "stream",
     "text": [
      "                   all       1000       1000      0.993      0.987      0.994      0.869      0.993      0.987      0.994      0.865\n",
      "Speed: 0.1ms preprocess, 0.5ms inference, 0.0ms loss, 0.8ms postprocess per image\n",
      "Results saved to \u001b[1mruns/segment/train3\u001b[0m\n"
     ]
    },
    {
     "data": {
      "text/plain": [
       "ultralytics.utils.metrics.SegmentMetrics object with attributes:\n",
       "\n",
       "ap_class_index: array([0])\n",
       "box: ultralytics.utils.metrics.Metric object\n",
       "confusion_matrix: <ultralytics.utils.metrics.ConfusionMatrix object at 0x7f6083c89250>\n",
       "curves: ['Precision-Recall(B)', 'F1-Confidence(B)', 'Precision-Confidence(B)', 'Recall-Confidence(B)', 'Precision-Recall(M)', 'F1-Confidence(M)', 'Precision-Confidence(M)', 'Recall-Confidence(M)']\n",
       "curves_results: [[array([          0,    0.001001,    0.002002,    0.003003,    0.004004,    0.005005,    0.006006,    0.007007,    0.008008,    0.009009,     0.01001,    0.011011,    0.012012,    0.013013,    0.014014,    0.015015,    0.016016,    0.017017,    0.018018,    0.019019,     0.02002,    0.021021,    0.022022,    0.023023,\n",
       "          0.024024,    0.025025,    0.026026,    0.027027,    0.028028,    0.029029,     0.03003,    0.031031,    0.032032,    0.033033,    0.034034,    0.035035,    0.036036,    0.037037,    0.038038,    0.039039,     0.04004,    0.041041,    0.042042,    0.043043,    0.044044,    0.045045,    0.046046,    0.047047,\n",
       "          0.048048,    0.049049,     0.05005,    0.051051,    0.052052,    0.053053,    0.054054,    0.055055,    0.056056,    0.057057,    0.058058,    0.059059,     0.06006,    0.061061,    0.062062,    0.063063,    0.064064,    0.065065,    0.066066,    0.067067,    0.068068,    0.069069,     0.07007,    0.071071,\n",
       "          0.072072,    0.073073,    0.074074,    0.075075,    0.076076,    0.077077,    0.078078,    0.079079,     0.08008,    0.081081,    0.082082,    0.083083,    0.084084,    0.085085,    0.086086,    0.087087,    0.088088,    0.089089,     0.09009,    0.091091,    0.092092,    0.093093,    0.094094,    0.095095,\n",
       "          0.096096,    0.097097,    0.098098,    0.099099,      0.1001,      0.1011,      0.1021,      0.1031,      0.1041,     0.10511,     0.10611,     0.10711,     0.10811,     0.10911,     0.11011,     0.11111,     0.11211,     0.11311,     0.11411,     0.11512,     0.11612,     0.11712,     0.11812,     0.11912,\n",
       "           0.12012,     0.12112,     0.12212,     0.12312,     0.12412,     0.12513,     0.12613,     0.12713,     0.12813,     0.12913,     0.13013,     0.13113,     0.13213,     0.13313,     0.13413,     0.13514,     0.13614,     0.13714,     0.13814,     0.13914,     0.14014,     0.14114,     0.14214,     0.14314,\n",
       "           0.14414,     0.14515,     0.14615,     0.14715,     0.14815,     0.14915,     0.15015,     0.15115,     0.15215,     0.15315,     0.15415,     0.15516,     0.15616,     0.15716,     0.15816,     0.15916,     0.16016,     0.16116,     0.16216,     0.16316,     0.16416,     0.16517,     0.16617,     0.16717,\n",
       "           0.16817,     0.16917,     0.17017,     0.17117,     0.17217,     0.17317,     0.17417,     0.17518,     0.17618,     0.17718,     0.17818,     0.17918,     0.18018,     0.18118,     0.18218,     0.18318,     0.18418,     0.18519,     0.18619,     0.18719,     0.18819,     0.18919,     0.19019,     0.19119,\n",
       "           0.19219,     0.19319,     0.19419,      0.1952,      0.1962,      0.1972,      0.1982,      0.1992,      0.2002,      0.2012,      0.2022,      0.2032,      0.2042,     0.20521,     0.20621,     0.20721,     0.20821,     0.20921,     0.21021,     0.21121,     0.21221,     0.21321,     0.21421,     0.21522,\n",
       "           0.21622,     0.21722,     0.21822,     0.21922,     0.22022,     0.22122,     0.22222,     0.22322,     0.22422,     0.22523,     0.22623,     0.22723,     0.22823,     0.22923,     0.23023,     0.23123,     0.23223,     0.23323,     0.23423,     0.23524,     0.23624,     0.23724,     0.23824,     0.23924,\n",
       "           0.24024,     0.24124,     0.24224,     0.24324,     0.24424,     0.24525,     0.24625,     0.24725,     0.24825,     0.24925,     0.25025,     0.25125,     0.25225,     0.25325,     0.25425,     0.25526,     0.25626,     0.25726,     0.25826,     0.25926,     0.26026,     0.26126,     0.26226,     0.26326,\n",
       "           0.26426,     0.26527,     0.26627,     0.26727,     0.26827,     0.26927,     0.27027,     0.27127,     0.27227,     0.27327,     0.27427,     0.27528,     0.27628,     0.27728,     0.27828,     0.27928,     0.28028,     0.28128,     0.28228,     0.28328,     0.28428,     0.28529,     0.28629,     0.28729,\n",
       "           0.28829,     0.28929,     0.29029,     0.29129,     0.29229,     0.29329,     0.29429,      0.2953,      0.2963,      0.2973,      0.2983,      0.2993,      0.3003,      0.3013,      0.3023,      0.3033,      0.3043,     0.30531,     0.30631,     0.30731,     0.30831,     0.30931,     0.31031,     0.31131,\n",
       "           0.31231,     0.31331,     0.31431,     0.31532,     0.31632,     0.31732,     0.31832,     0.31932,     0.32032,     0.32132,     0.32232,     0.32332,     0.32432,     0.32533,     0.32633,     0.32733,     0.32833,     0.32933,     0.33033,     0.33133,     0.33233,     0.33333,     0.33433,     0.33534,\n",
       "           0.33634,     0.33734,     0.33834,     0.33934,     0.34034,     0.34134,     0.34234,     0.34334,     0.34434,     0.34535,     0.34635,     0.34735,     0.34835,     0.34935,     0.35035,     0.35135,     0.35235,     0.35335,     0.35435,     0.35536,     0.35636,     0.35736,     0.35836,     0.35936,\n",
       "           0.36036,     0.36136,     0.36236,     0.36336,     0.36436,     0.36537,     0.36637,     0.36737,     0.36837,     0.36937,     0.37037,     0.37137,     0.37237,     0.37337,     0.37437,     0.37538,     0.37638,     0.37738,     0.37838,     0.37938,     0.38038,     0.38138,     0.38238,     0.38338,\n",
       "           0.38438,     0.38539,     0.38639,     0.38739,     0.38839,     0.38939,     0.39039,     0.39139,     0.39239,     0.39339,     0.39439,      0.3954,      0.3964,      0.3974,      0.3984,      0.3994,      0.4004,      0.4014,      0.4024,      0.4034,      0.4044,     0.40541,     0.40641,     0.40741,\n",
       "           0.40841,     0.40941,     0.41041,     0.41141,     0.41241,     0.41341,     0.41441,     0.41542,     0.41642,     0.41742,     0.41842,     0.41942,     0.42042,     0.42142,     0.42242,     0.42342,     0.42442,     0.42543,     0.42643,     0.42743,     0.42843,     0.42943,     0.43043,     0.43143,\n",
       "           0.43243,     0.43343,     0.43443,     0.43544,     0.43644,     0.43744,     0.43844,     0.43944,     0.44044,     0.44144,     0.44244,     0.44344,     0.44444,     0.44545,     0.44645,     0.44745,     0.44845,     0.44945,     0.45045,     0.45145,     0.45245,     0.45345,     0.45445,     0.45546,\n",
       "           0.45646,     0.45746,     0.45846,     0.45946,     0.46046,     0.46146,     0.46246,     0.46346,     0.46446,     0.46547,     0.46647,     0.46747,     0.46847,     0.46947,     0.47047,     0.47147,     0.47247,     0.47347,     0.47447,     0.47548,     0.47648,     0.47748,     0.47848,     0.47948,\n",
       "           0.48048,     0.48148,     0.48248,     0.48348,     0.48448,     0.48549,     0.48649,     0.48749,     0.48849,     0.48949,     0.49049,     0.49149,     0.49249,     0.49349,     0.49449,      0.4955,      0.4965,      0.4975,      0.4985,      0.4995,      0.5005,      0.5015,      0.5025,      0.5035,\n",
       "            0.5045,     0.50551,     0.50651,     0.50751,     0.50851,     0.50951,     0.51051,     0.51151,     0.51251,     0.51351,     0.51451,     0.51552,     0.51652,     0.51752,     0.51852,     0.51952,     0.52052,     0.52152,     0.52252,     0.52352,     0.52452,     0.52553,     0.52653,     0.52753,\n",
       "           0.52853,     0.52953,     0.53053,     0.53153,     0.53253,     0.53353,     0.53453,     0.53554,     0.53654,     0.53754,     0.53854,     0.53954,     0.54054,     0.54154,     0.54254,     0.54354,     0.54454,     0.54555,     0.54655,     0.54755,     0.54855,     0.54955,     0.55055,     0.55155,\n",
       "           0.55255,     0.55355,     0.55455,     0.55556,     0.55656,     0.55756,     0.55856,     0.55956,     0.56056,     0.56156,     0.56256,     0.56356,     0.56456,     0.56557,     0.56657,     0.56757,     0.56857,     0.56957,     0.57057,     0.57157,     0.57257,     0.57357,     0.57457,     0.57558,\n",
       "           0.57658,     0.57758,     0.57858,     0.57958,     0.58058,     0.58158,     0.58258,     0.58358,     0.58458,     0.58559,     0.58659,     0.58759,     0.58859,     0.58959,     0.59059,     0.59159,     0.59259,     0.59359,     0.59459,      0.5956,      0.5966,      0.5976,      0.5986,      0.5996,\n",
       "            0.6006,      0.6016,      0.6026,      0.6036,      0.6046,     0.60561,     0.60661,     0.60761,     0.60861,     0.60961,     0.61061,     0.61161,     0.61261,     0.61361,     0.61461,     0.61562,     0.61662,     0.61762,     0.61862,     0.61962,     0.62062,     0.62162,     0.62262,     0.62362,\n",
       "           0.62462,     0.62563,     0.62663,     0.62763,     0.62863,     0.62963,     0.63063,     0.63163,     0.63263,     0.63363,     0.63463,     0.63564,     0.63664,     0.63764,     0.63864,     0.63964,     0.64064,     0.64164,     0.64264,     0.64364,     0.64464,     0.64565,     0.64665,     0.64765,\n",
       "           0.64865,     0.64965,     0.65065,     0.65165,     0.65265,     0.65365,     0.65465,     0.65566,     0.65666,     0.65766,     0.65866,     0.65966,     0.66066,     0.66166,     0.66266,     0.66366,     0.66466,     0.66567,     0.66667,     0.66767,     0.66867,     0.66967,     0.67067,     0.67167,\n",
       "           0.67267,     0.67367,     0.67467,     0.67568,     0.67668,     0.67768,     0.67868,     0.67968,     0.68068,     0.68168,     0.68268,     0.68368,     0.68468,     0.68569,     0.68669,     0.68769,     0.68869,     0.68969,     0.69069,     0.69169,     0.69269,     0.69369,     0.69469,      0.6957,\n",
       "            0.6967,      0.6977,      0.6987,      0.6997,      0.7007,      0.7017,      0.7027,      0.7037,      0.7047,     0.70571,     0.70671,     0.70771,     0.70871,     0.70971,     0.71071,     0.71171,     0.71271,     0.71371,     0.71471,     0.71572,     0.71672,     0.71772,     0.71872,     0.71972,\n",
       "           0.72072,     0.72172,     0.72272,     0.72372,     0.72472,     0.72573,     0.72673,     0.72773,     0.72873,     0.72973,     0.73073,     0.73173,     0.73273,     0.73373,     0.73473,     0.73574,     0.73674,     0.73774,     0.73874,     0.73974,     0.74074,     0.74174,     0.74274,     0.74374,\n",
       "           0.74474,     0.74575,     0.74675,     0.74775,     0.74875,     0.74975,     0.75075,     0.75175,     0.75275,     0.75375,     0.75475,     0.75576,     0.75676,     0.75776,     0.75876,     0.75976,     0.76076,     0.76176,     0.76276,     0.76376,     0.76476,     0.76577,     0.76677,     0.76777,\n",
       "           0.76877,     0.76977,     0.77077,     0.77177,     0.77277,     0.77377,     0.77477,     0.77578,     0.77678,     0.77778,     0.77878,     0.77978,     0.78078,     0.78178,     0.78278,     0.78378,     0.78478,     0.78579,     0.78679,     0.78779,     0.78879,     0.78979,     0.79079,     0.79179,\n",
       "           0.79279,     0.79379,     0.79479,      0.7958,      0.7968,      0.7978,      0.7988,      0.7998,      0.8008,      0.8018,      0.8028,      0.8038,      0.8048,     0.80581,     0.80681,     0.80781,     0.80881,     0.80981,     0.81081,     0.81181,     0.81281,     0.81381,     0.81481,     0.81582,\n",
       "           0.81682,     0.81782,     0.81882,     0.81982,     0.82082,     0.82182,     0.82282,     0.82382,     0.82482,     0.82583,     0.82683,     0.82783,     0.82883,     0.82983,     0.83083,     0.83183,     0.83283,     0.83383,     0.83483,     0.83584,     0.83684,     0.83784,     0.83884,     0.83984,\n",
       "           0.84084,     0.84184,     0.84284,     0.84384,     0.84484,     0.84585,     0.84685,     0.84785,     0.84885,     0.84985,     0.85085,     0.85185,     0.85285,     0.85385,     0.85485,     0.85586,     0.85686,     0.85786,     0.85886,     0.85986,     0.86086,     0.86186,     0.86286,     0.86386,\n",
       "           0.86486,     0.86587,     0.86687,     0.86787,     0.86887,     0.86987,     0.87087,     0.87187,     0.87287,     0.87387,     0.87487,     0.87588,     0.87688,     0.87788,     0.87888,     0.87988,     0.88088,     0.88188,     0.88288,     0.88388,     0.88488,     0.88589,     0.88689,     0.88789,\n",
       "           0.88889,     0.88989,     0.89089,     0.89189,     0.89289,     0.89389,     0.89489,      0.8959,      0.8969,      0.8979,      0.8989,      0.8999,      0.9009,      0.9019,      0.9029,      0.9039,      0.9049,     0.90591,     0.90691,     0.90791,     0.90891,     0.90991,     0.91091,     0.91191,\n",
       "           0.91291,     0.91391,     0.91491,     0.91592,     0.91692,     0.91792,     0.91892,     0.91992,     0.92092,     0.92192,     0.92292,     0.92392,     0.92492,     0.92593,     0.92693,     0.92793,     0.92893,     0.92993,     0.93093,     0.93193,     0.93293,     0.93393,     0.93493,     0.93594,\n",
       "           0.93694,     0.93794,     0.93894,     0.93994,     0.94094,     0.94194,     0.94294,     0.94394,     0.94494,     0.94595,     0.94695,     0.94795,     0.94895,     0.94995,     0.95095,     0.95195,     0.95295,     0.95395,     0.95495,     0.95596,     0.95696,     0.95796,     0.95896,     0.95996,\n",
       "           0.96096,     0.96196,     0.96296,     0.96396,     0.96496,     0.96597,     0.96697,     0.96797,     0.96897,     0.96997,     0.97097,     0.97197,     0.97297,     0.97397,     0.97497,     0.97598,     0.97698,     0.97798,     0.97898,     0.97998,     0.98098,     0.98198,     0.98298,     0.98398,\n",
       "           0.98498,     0.98599,     0.98699,     0.98799,     0.98899,     0.98999,     0.99099,     0.99199,     0.99299,     0.99399,     0.99499,       0.996,       0.997,       0.998,       0.999,           1]), array([[          1,           1,           1,           1,           1,           1,           1,           1,           1,           1,           1,           1,           1,           1,           1,           1,           1,           1,           1,           1,           1,           1,           1,\n",
       "                  1,           1,           1,           1,           1,           1,           1,           1,           1,           1,           1,           1,           1,           1,           1,           1,           1,           1,           1,           1,           1,           1,           1,\n",
       "                  1,           1,           1,           1,           1,           1,           1,           1,           1,           1,           1,           1,           1,           1,           1,           1,           1,           1,           1,           1,           1,           1,           1,\n",
       "                  1,           1,           1,           1,           1,           1,           1,           1,           1,           1,           1,           1,           1,           1,           1,           1,           1,           1,           1,           1,           1,           1,           1,\n",
       "                  1,           1,           1,           1,           1,           1,           1,           1,           1,           1,           1,           1,           1,           1,           1,           1,           1,           1,           1,           1,           1,           1,     0.99896,\n",
       "            0.99896,     0.99896,     0.99896,     0.99896,     0.99896,     0.99896,     0.99896,     0.99896,     0.99896,     0.99896,     0.99896,     0.99896,     0.99896,     0.99896,     0.99896,     0.99896,     0.99896,     0.99896,     0.99896,     0.99896,     0.99896,     0.99896,     0.99896,\n",
       "            0.99896,     0.99896,     0.99896,     0.99896,     0.99896,     0.99896,     0.99896,     0.99896,     0.99896,     0.99896,     0.99896,     0.99896,     0.99896,     0.99896,     0.99896,     0.99896,     0.99896,     0.99896,     0.99896,     0.99896,     0.99896,     0.99896,     0.99896,\n",
       "            0.99896,     0.99896,     0.99896,     0.99896,     0.99896,     0.99896,     0.99896,     0.99896,     0.99896,     0.99896,     0.99896,     0.99896,     0.99896,     0.99896,     0.99896,     0.99896,     0.99896,     0.99896,     0.99896,     0.99896,     0.99896,     0.99896,     0.99896,\n",
       "            0.99896,     0.99896,     0.99896,     0.99896,     0.99896,     0.99896,     0.99896,     0.99896,     0.99896,     0.99896,     0.99896,     0.99896,     0.99896,     0.99896,     0.99896,     0.99896,     0.99896,     0.99896,     0.99896,     0.99896,     0.99896,     0.99896,     0.99896,\n",
       "            0.99896,     0.99896,     0.99896,     0.99896,     0.99896,     0.99896,     0.99896,     0.99896,     0.99896,     0.99896,     0.99896,     0.99896,     0.99896,     0.99896,     0.99896,     0.99896,     0.99896,     0.99896,     0.99896,     0.99896,     0.99896,     0.99896,     0.99896,\n",
       "            0.99896,     0.99896,     0.99896,     0.99896,     0.99896,     0.99896,     0.99896,     0.99896,     0.99896,     0.99896,     0.99896,     0.99896,     0.99896,     0.99896,     0.99896,     0.99896,     0.99896,     0.99896,     0.99896,     0.99896,     0.99896,     0.99896,     0.99896,\n",
       "            0.99896,     0.99896,     0.99896,     0.99896,     0.99896,     0.99896,     0.99896,     0.99896,     0.99896,     0.99896,     0.99896,     0.99896,     0.99896,     0.99896,     0.99896,     0.99896,     0.99896,     0.99896,     0.99896,     0.99896,     0.99896,     0.99896,     0.99896,\n",
       "            0.99896,     0.99896,     0.99896,     0.99896,     0.99896,     0.99896,     0.99896,     0.99896,     0.99896,     0.99896,     0.99896,     0.99896,     0.99896,     0.99896,     0.99896,     0.99896,     0.99896,     0.99896,     0.99896,     0.99896,     0.99896,     0.99896,     0.99896,\n",
       "            0.99896,     0.99896,     0.99896,     0.99896,     0.99896,     0.99896,     0.99896,     0.99896,     0.99896,     0.99896,     0.99896,     0.99896,     0.99896,     0.99896,     0.99896,     0.99896,     0.99896,     0.99896,     0.99896,     0.99896,     0.99896,     0.99896,     0.99896,\n",
       "            0.99896,     0.99896,     0.99896,     0.99896,     0.99896,     0.99896,     0.99896,     0.99896,     0.99896,     0.99896,     0.99896,     0.99896,     0.99896,     0.99896,     0.99896,     0.99896,     0.99896,     0.99896,     0.99896,     0.99896,     0.99896,     0.99896,     0.99896,\n",
       "            0.99896,     0.99896,     0.99896,     0.99896,     0.99896,     0.99896,     0.99896,     0.99896,     0.99896,     0.99896,     0.99896,     0.99896,     0.99896,     0.99896,     0.99896,     0.99896,     0.99896,     0.99896,     0.99896,     0.99896,     0.99896,     0.99896,     0.99896,\n",
       "            0.99896,     0.99896,     0.99896,     0.99896,     0.99896,     0.99896,     0.99896,     0.99896,     0.99896,     0.99896,     0.99896,     0.99896,     0.99896,     0.99896,     0.99896,     0.99896,     0.99896,     0.99896,     0.99896,     0.99896,     0.99896,     0.99896,     0.99896,\n",
       "            0.99896,     0.99896,     0.99896,     0.99896,     0.99896,     0.99896,     0.99896,     0.99896,     0.99896,     0.99896,     0.99896,     0.99896,     0.99896,     0.99896,     0.99896,     0.99896,     0.99896,     0.99896,     0.99896,     0.99896,     0.99896,     0.99896,     0.99896,\n",
       "            0.99896,     0.99896,     0.99896,     0.99896,     0.99896,     0.99896,     0.99896,     0.99896,     0.99896,     0.99896,     0.99896,     0.99896,     0.99896,     0.99896,     0.99896,     0.99896,     0.99896,     0.99896,     0.99896,     0.99896,     0.99896,     0.99896,     0.99896,\n",
       "            0.99896,     0.99896,     0.99896,     0.99896,     0.99896,     0.99896,     0.99896,     0.99896,     0.99896,     0.99896,     0.99896,     0.99896,     0.99896,     0.99896,     0.99896,     0.99896,     0.99896,     0.99896,     0.99896,     0.99896,     0.99896,     0.99896,     0.99896,\n",
       "            0.99896,     0.99896,     0.99896,     0.99896,     0.99896,     0.99896,     0.99896,     0.99896,     0.99896,     0.99896,     0.99896,     0.99896,     0.99896,     0.99896,     0.99896,     0.99896,     0.99896,     0.99896,     0.99896,     0.99896,     0.99896,     0.99896,     0.99896,\n",
       "            0.99896,     0.99896,     0.99896,     0.99896,     0.99896,     0.99896,     0.99896,     0.99896,     0.99896,     0.99896,     0.99896,     0.99896,     0.99896,     0.99896,     0.99896,     0.99896,     0.99896,     0.99896,     0.99896,     0.99896,     0.99896,     0.99896,     0.99896,\n",
       "            0.99896,     0.99896,     0.99896,     0.99896,     0.99896,     0.99896,     0.99896,     0.99896,     0.99896,     0.99896,     0.99896,     0.99896,     0.99896,     0.99896,     0.99896,     0.99896,     0.99896,     0.99896,     0.99896,     0.99896,     0.99896,     0.99896,     0.99896,\n",
       "            0.99896,     0.99896,     0.99896,     0.99896,     0.99896,     0.99896,     0.99896,     0.99896,     0.99896,     0.99896,     0.99896,     0.99896,     0.99896,     0.99896,     0.99896,     0.99896,     0.99896,     0.99896,     0.99896,     0.99896,     0.99896,     0.99896,     0.99896,\n",
       "            0.99896,     0.99896,     0.99896,     0.99896,     0.99896,     0.99896,     0.99896,     0.99896,     0.99896,     0.99896,     0.99896,     0.99896,     0.99896,     0.99896,     0.99896,     0.99896,     0.99896,     0.99896,     0.99896,     0.99896,     0.99896,     0.99896,     0.99896,\n",
       "            0.99896,     0.99896,     0.99896,     0.99896,     0.99896,     0.99896,     0.99896,     0.99896,     0.99896,     0.99896,     0.99896,     0.99896,     0.99896,     0.99896,     0.99896,     0.99896,     0.99896,     0.99896,     0.99896,     0.99896,     0.99896,     0.99896,     0.99896,\n",
       "            0.99896,     0.99896,     0.99896,     0.99896,     0.99896,     0.99896,     0.99896,     0.99896,     0.99896,     0.99896,     0.99896,     0.99896,     0.99896,     0.99896,     0.99896,     0.99896,     0.99896,     0.99896,     0.99896,     0.99896,     0.99896,     0.99896,     0.99896,\n",
       "            0.99896,     0.99896,     0.99896,     0.99896,     0.99896,     0.99896,     0.99896,     0.99896,     0.99896,     0.99896,     0.99896,     0.99896,     0.99896,     0.99896,     0.99896,     0.99896,     0.99896,     0.99896,     0.99896,     0.99896,     0.99896,     0.99896,     0.99896,\n",
       "            0.99896,     0.99896,     0.99896,     0.99896,     0.99896,     0.99896,     0.99896,     0.99896,     0.99896,     0.99896,     0.99896,     0.99896,     0.99896,     0.99896,     0.99896,     0.99896,     0.99896,     0.99896,     0.99896,     0.99896,     0.99896,     0.99896,     0.99896,\n",
       "            0.99896,     0.99896,     0.99896,     0.99896,     0.99896,     0.99896,     0.99896,     0.99896,     0.99896,     0.99896,     0.99896,     0.99896,     0.99896,     0.99896,     0.99896,     0.99896,     0.99896,     0.99896,     0.99896,     0.99896,     0.99896,     0.99896,     0.99896,\n",
       "            0.99896,     0.99896,     0.99896,     0.99896,     0.99896,     0.99896,     0.99896,     0.99896,     0.99896,     0.99896,     0.99896,     0.99896,     0.99896,     0.99896,     0.99896,     0.99896,     0.99896,     0.99896,     0.99896,     0.99896,     0.99896,     0.99896,     0.99896,\n",
       "            0.99896,     0.99896,     0.99896,     0.99896,     0.99896,     0.99896,     0.99896,     0.99896,     0.99896,     0.99896,     0.99896,     0.99896,     0.99896,     0.99896,     0.99896,     0.99896,     0.99896,     0.99896,     0.99896,     0.99896,     0.99896,     0.99896,     0.99896,\n",
       "            0.99896,     0.99896,     0.99896,     0.99896,     0.99896,     0.99896,     0.99896,     0.99896,     0.99896,     0.99896,     0.99896,     0.99896,     0.99896,     0.99896,     0.99896,     0.99896,     0.99896,     0.99896,     0.99896,     0.99896,     0.99896,     0.99896,     0.99896,\n",
       "            0.99896,     0.99896,     0.99896,     0.99896,     0.99896,     0.99896,     0.99896,     0.99896,     0.99896,     0.99896,     0.99896,     0.99896,     0.99896,     0.99896,     0.99896,     0.99896,     0.99896,     0.99896,     0.99896,     0.99896,     0.99896,     0.99896,     0.99896,\n",
       "            0.99896,     0.99896,     0.99896,     0.99896,     0.99896,     0.99896,     0.99896,     0.99896,     0.99896,     0.99896,     0.99896,     0.99896,     0.99896,     0.99896,     0.99896,     0.99896,     0.99896,     0.99896,     0.99896,     0.99896,     0.99896,     0.99896,     0.99896,\n",
       "            0.99896,     0.99896,     0.99896,     0.99896,     0.99896,     0.99896,     0.99896,     0.99896,     0.99896,     0.99896,     0.99896,     0.99896,     0.99896,     0.99896,     0.99896,     0.99896,     0.99896,     0.99896,     0.99896,     0.99896,     0.99896,     0.99896,     0.99896,\n",
       "            0.99896,     0.99896,     0.99896,     0.99896,     0.99896,     0.99896,     0.99896,     0.99896,     0.99896,     0.99896,     0.99896,     0.99896,     0.99896,     0.99896,     0.99896,     0.99896,     0.99896,     0.99896,     0.99896,     0.99896,     0.99896,     0.99896,     0.99896,\n",
       "            0.99896,     0.99896,     0.99896,     0.99896,     0.99896,     0.99896,     0.99896,     0.99896,     0.99896,     0.99896,     0.99896,     0.99896,     0.99896,     0.99896,     0.99896,     0.99896,     0.99896,     0.99896,     0.99896,     0.99896,     0.99896,     0.99896,     0.99896,\n",
       "            0.99896,     0.99896,     0.99896,     0.99896,     0.99896,     0.99896,     0.99896,     0.99896,     0.99896,     0.99896,     0.99896,     0.99896,     0.99896,     0.99896,     0.99896,     0.99896,     0.99896,     0.99896,     0.99896,     0.99896,     0.99896,     0.99896,     0.99896,\n",
       "            0.99896,     0.99896,     0.99896,     0.99896,     0.99896,     0.99896,     0.99896,     0.99896,     0.99896,     0.99896,     0.99896,     0.99896,     0.99896,     0.99896,     0.99896,     0.99896,     0.99896,     0.99896,     0.99896,     0.99896,     0.99896,     0.99896,     0.99896,\n",
       "            0.99896,     0.99896,     0.99896,     0.99896,     0.99896,     0.99896,     0.99896,     0.99896,     0.99896,     0.99896,     0.99896,     0.99896,     0.99896,     0.99896,     0.99896,     0.99896,     0.99896,     0.99896,     0.99896,     0.99896,     0.99896,     0.99896,     0.99896,\n",
       "            0.99896,     0.99896,     0.99896,     0.99896,     0.99896,     0.99896,     0.99896,     0.99896,     0.99896,     0.99896,     0.99896,     0.99896,     0.99896,     0.99896,     0.99896,     0.99896,     0.99896,     0.99794,     0.99794,     0.99794,     0.99794,     0.99794,     0.99794,\n",
       "            0.99794,     0.99696,     0.99696,     0.99696,     0.99696,     0.99696,     0.99696,     0.99696,     0.99696,     0.99696,     0.99696,     0.99696,     0.99696,     0.99696,     0.99696,     0.99696,     0.99696,     0.99696,     0.99596,     0.99396,     0.99396,     0.99297,     0.99297,\n",
       "            0.99199,     0.99199,     0.99101,     0.97736,     0.97642,     0.78594,     0.62875,     0.47156,     0.31437,     0.15719,           0]]), 'Recall', 'Precision'], [array([          0,    0.001001,    0.002002,    0.003003,    0.004004,    0.005005,    0.006006,    0.007007,    0.008008,    0.009009,     0.01001,    0.011011,    0.012012,    0.013013,    0.014014,    0.015015,    0.016016,    0.017017,    0.018018,    0.019019,     0.02002,    0.021021,    0.022022,    0.023023,\n",
       "          0.024024,    0.025025,    0.026026,    0.027027,    0.028028,    0.029029,     0.03003,    0.031031,    0.032032,    0.033033,    0.034034,    0.035035,    0.036036,    0.037037,    0.038038,    0.039039,     0.04004,    0.041041,    0.042042,    0.043043,    0.044044,    0.045045,    0.046046,    0.047047,\n",
       "          0.048048,    0.049049,     0.05005,    0.051051,    0.052052,    0.053053,    0.054054,    0.055055,    0.056056,    0.057057,    0.058058,    0.059059,     0.06006,    0.061061,    0.062062,    0.063063,    0.064064,    0.065065,    0.066066,    0.067067,    0.068068,    0.069069,     0.07007,    0.071071,\n",
       "          0.072072,    0.073073,    0.074074,    0.075075,    0.076076,    0.077077,    0.078078,    0.079079,     0.08008,    0.081081,    0.082082,    0.083083,    0.084084,    0.085085,    0.086086,    0.087087,    0.088088,    0.089089,     0.09009,    0.091091,    0.092092,    0.093093,    0.094094,    0.095095,\n",
       "          0.096096,    0.097097,    0.098098,    0.099099,      0.1001,      0.1011,      0.1021,      0.1031,      0.1041,     0.10511,     0.10611,     0.10711,     0.10811,     0.10911,     0.11011,     0.11111,     0.11211,     0.11311,     0.11411,     0.11512,     0.11612,     0.11712,     0.11812,     0.11912,\n",
       "           0.12012,     0.12112,     0.12212,     0.12312,     0.12412,     0.12513,     0.12613,     0.12713,     0.12813,     0.12913,     0.13013,     0.13113,     0.13213,     0.13313,     0.13413,     0.13514,     0.13614,     0.13714,     0.13814,     0.13914,     0.14014,     0.14114,     0.14214,     0.14314,\n",
       "           0.14414,     0.14515,     0.14615,     0.14715,     0.14815,     0.14915,     0.15015,     0.15115,     0.15215,     0.15315,     0.15415,     0.15516,     0.15616,     0.15716,     0.15816,     0.15916,     0.16016,     0.16116,     0.16216,     0.16316,     0.16416,     0.16517,     0.16617,     0.16717,\n",
       "           0.16817,     0.16917,     0.17017,     0.17117,     0.17217,     0.17317,     0.17417,     0.17518,     0.17618,     0.17718,     0.17818,     0.17918,     0.18018,     0.18118,     0.18218,     0.18318,     0.18418,     0.18519,     0.18619,     0.18719,     0.18819,     0.18919,     0.19019,     0.19119,\n",
       "           0.19219,     0.19319,     0.19419,      0.1952,      0.1962,      0.1972,      0.1982,      0.1992,      0.2002,      0.2012,      0.2022,      0.2032,      0.2042,     0.20521,     0.20621,     0.20721,     0.20821,     0.20921,     0.21021,     0.21121,     0.21221,     0.21321,     0.21421,     0.21522,\n",
       "           0.21622,     0.21722,     0.21822,     0.21922,     0.22022,     0.22122,     0.22222,     0.22322,     0.22422,     0.22523,     0.22623,     0.22723,     0.22823,     0.22923,     0.23023,     0.23123,     0.23223,     0.23323,     0.23423,     0.23524,     0.23624,     0.23724,     0.23824,     0.23924,\n",
       "           0.24024,     0.24124,     0.24224,     0.24324,     0.24424,     0.24525,     0.24625,     0.24725,     0.24825,     0.24925,     0.25025,     0.25125,     0.25225,     0.25325,     0.25425,     0.25526,     0.25626,     0.25726,     0.25826,     0.25926,     0.26026,     0.26126,     0.26226,     0.26326,\n",
       "           0.26426,     0.26527,     0.26627,     0.26727,     0.26827,     0.26927,     0.27027,     0.27127,     0.27227,     0.27327,     0.27427,     0.27528,     0.27628,     0.27728,     0.27828,     0.27928,     0.28028,     0.28128,     0.28228,     0.28328,     0.28428,     0.28529,     0.28629,     0.28729,\n",
       "           0.28829,     0.28929,     0.29029,     0.29129,     0.29229,     0.29329,     0.29429,      0.2953,      0.2963,      0.2973,      0.2983,      0.2993,      0.3003,      0.3013,      0.3023,      0.3033,      0.3043,     0.30531,     0.30631,     0.30731,     0.30831,     0.30931,     0.31031,     0.31131,\n",
       "           0.31231,     0.31331,     0.31431,     0.31532,     0.31632,     0.31732,     0.31832,     0.31932,     0.32032,     0.32132,     0.32232,     0.32332,     0.32432,     0.32533,     0.32633,     0.32733,     0.32833,     0.32933,     0.33033,     0.33133,     0.33233,     0.33333,     0.33433,     0.33534,\n",
       "           0.33634,     0.33734,     0.33834,     0.33934,     0.34034,     0.34134,     0.34234,     0.34334,     0.34434,     0.34535,     0.34635,     0.34735,     0.34835,     0.34935,     0.35035,     0.35135,     0.35235,     0.35335,     0.35435,     0.35536,     0.35636,     0.35736,     0.35836,     0.35936,\n",
       "           0.36036,     0.36136,     0.36236,     0.36336,     0.36436,     0.36537,     0.36637,     0.36737,     0.36837,     0.36937,     0.37037,     0.37137,     0.37237,     0.37337,     0.37437,     0.37538,     0.37638,     0.37738,     0.37838,     0.37938,     0.38038,     0.38138,     0.38238,     0.38338,\n",
       "           0.38438,     0.38539,     0.38639,     0.38739,     0.38839,     0.38939,     0.39039,     0.39139,     0.39239,     0.39339,     0.39439,      0.3954,      0.3964,      0.3974,      0.3984,      0.3994,      0.4004,      0.4014,      0.4024,      0.4034,      0.4044,     0.40541,     0.40641,     0.40741,\n",
       "           0.40841,     0.40941,     0.41041,     0.41141,     0.41241,     0.41341,     0.41441,     0.41542,     0.41642,     0.41742,     0.41842,     0.41942,     0.42042,     0.42142,     0.42242,     0.42342,     0.42442,     0.42543,     0.42643,     0.42743,     0.42843,     0.42943,     0.43043,     0.43143,\n",
       "           0.43243,     0.43343,     0.43443,     0.43544,     0.43644,     0.43744,     0.43844,     0.43944,     0.44044,     0.44144,     0.44244,     0.44344,     0.44444,     0.44545,     0.44645,     0.44745,     0.44845,     0.44945,     0.45045,     0.45145,     0.45245,     0.45345,     0.45445,     0.45546,\n",
       "           0.45646,     0.45746,     0.45846,     0.45946,     0.46046,     0.46146,     0.46246,     0.46346,     0.46446,     0.46547,     0.46647,     0.46747,     0.46847,     0.46947,     0.47047,     0.47147,     0.47247,     0.47347,     0.47447,     0.47548,     0.47648,     0.47748,     0.47848,     0.47948,\n",
       "           0.48048,     0.48148,     0.48248,     0.48348,     0.48448,     0.48549,     0.48649,     0.48749,     0.48849,     0.48949,     0.49049,     0.49149,     0.49249,     0.49349,     0.49449,      0.4955,      0.4965,      0.4975,      0.4985,      0.4995,      0.5005,      0.5015,      0.5025,      0.5035,\n",
       "            0.5045,     0.50551,     0.50651,     0.50751,     0.50851,     0.50951,     0.51051,     0.51151,     0.51251,     0.51351,     0.51451,     0.51552,     0.51652,     0.51752,     0.51852,     0.51952,     0.52052,     0.52152,     0.52252,     0.52352,     0.52452,     0.52553,     0.52653,     0.52753,\n",
       "           0.52853,     0.52953,     0.53053,     0.53153,     0.53253,     0.53353,     0.53453,     0.53554,     0.53654,     0.53754,     0.53854,     0.53954,     0.54054,     0.54154,     0.54254,     0.54354,     0.54454,     0.54555,     0.54655,     0.54755,     0.54855,     0.54955,     0.55055,     0.55155,\n",
       "           0.55255,     0.55355,     0.55455,     0.55556,     0.55656,     0.55756,     0.55856,     0.55956,     0.56056,     0.56156,     0.56256,     0.56356,     0.56456,     0.56557,     0.56657,     0.56757,     0.56857,     0.56957,     0.57057,     0.57157,     0.57257,     0.57357,     0.57457,     0.57558,\n",
       "           0.57658,     0.57758,     0.57858,     0.57958,     0.58058,     0.58158,     0.58258,     0.58358,     0.58458,     0.58559,     0.58659,     0.58759,     0.58859,     0.58959,     0.59059,     0.59159,     0.59259,     0.59359,     0.59459,      0.5956,      0.5966,      0.5976,      0.5986,      0.5996,\n",
       "            0.6006,      0.6016,      0.6026,      0.6036,      0.6046,     0.60561,     0.60661,     0.60761,     0.60861,     0.60961,     0.61061,     0.61161,     0.61261,     0.61361,     0.61461,     0.61562,     0.61662,     0.61762,     0.61862,     0.61962,     0.62062,     0.62162,     0.62262,     0.62362,\n",
       "           0.62462,     0.62563,     0.62663,     0.62763,     0.62863,     0.62963,     0.63063,     0.63163,     0.63263,     0.63363,     0.63463,     0.63564,     0.63664,     0.63764,     0.63864,     0.63964,     0.64064,     0.64164,     0.64264,     0.64364,     0.64464,     0.64565,     0.64665,     0.64765,\n",
       "           0.64865,     0.64965,     0.65065,     0.65165,     0.65265,     0.65365,     0.65465,     0.65566,     0.65666,     0.65766,     0.65866,     0.65966,     0.66066,     0.66166,     0.66266,     0.66366,     0.66466,     0.66567,     0.66667,     0.66767,     0.66867,     0.66967,     0.67067,     0.67167,\n",
       "           0.67267,     0.67367,     0.67467,     0.67568,     0.67668,     0.67768,     0.67868,     0.67968,     0.68068,     0.68168,     0.68268,     0.68368,     0.68468,     0.68569,     0.68669,     0.68769,     0.68869,     0.68969,     0.69069,     0.69169,     0.69269,     0.69369,     0.69469,      0.6957,\n",
       "            0.6967,      0.6977,      0.6987,      0.6997,      0.7007,      0.7017,      0.7027,      0.7037,      0.7047,     0.70571,     0.70671,     0.70771,     0.70871,     0.70971,     0.71071,     0.71171,     0.71271,     0.71371,     0.71471,     0.71572,     0.71672,     0.71772,     0.71872,     0.71972,\n",
       "           0.72072,     0.72172,     0.72272,     0.72372,     0.72472,     0.72573,     0.72673,     0.72773,     0.72873,     0.72973,     0.73073,     0.73173,     0.73273,     0.73373,     0.73473,     0.73574,     0.73674,     0.73774,     0.73874,     0.73974,     0.74074,     0.74174,     0.74274,     0.74374,\n",
       "           0.74474,     0.74575,     0.74675,     0.74775,     0.74875,     0.74975,     0.75075,     0.75175,     0.75275,     0.75375,     0.75475,     0.75576,     0.75676,     0.75776,     0.75876,     0.75976,     0.76076,     0.76176,     0.76276,     0.76376,     0.76476,     0.76577,     0.76677,     0.76777,\n",
       "           0.76877,     0.76977,     0.77077,     0.77177,     0.77277,     0.77377,     0.77477,     0.77578,     0.77678,     0.77778,     0.77878,     0.77978,     0.78078,     0.78178,     0.78278,     0.78378,     0.78478,     0.78579,     0.78679,     0.78779,     0.78879,     0.78979,     0.79079,     0.79179,\n",
       "           0.79279,     0.79379,     0.79479,      0.7958,      0.7968,      0.7978,      0.7988,      0.7998,      0.8008,      0.8018,      0.8028,      0.8038,      0.8048,     0.80581,     0.80681,     0.80781,     0.80881,     0.80981,     0.81081,     0.81181,     0.81281,     0.81381,     0.81481,     0.81582,\n",
       "           0.81682,     0.81782,     0.81882,     0.81982,     0.82082,     0.82182,     0.82282,     0.82382,     0.82482,     0.82583,     0.82683,     0.82783,     0.82883,     0.82983,     0.83083,     0.83183,     0.83283,     0.83383,     0.83483,     0.83584,     0.83684,     0.83784,     0.83884,     0.83984,\n",
       "           0.84084,     0.84184,     0.84284,     0.84384,     0.84484,     0.84585,     0.84685,     0.84785,     0.84885,     0.84985,     0.85085,     0.85185,     0.85285,     0.85385,     0.85485,     0.85586,     0.85686,     0.85786,     0.85886,     0.85986,     0.86086,     0.86186,     0.86286,     0.86386,\n",
       "           0.86486,     0.86587,     0.86687,     0.86787,     0.86887,     0.86987,     0.87087,     0.87187,     0.87287,     0.87387,     0.87487,     0.87588,     0.87688,     0.87788,     0.87888,     0.87988,     0.88088,     0.88188,     0.88288,     0.88388,     0.88488,     0.88589,     0.88689,     0.88789,\n",
       "           0.88889,     0.88989,     0.89089,     0.89189,     0.89289,     0.89389,     0.89489,      0.8959,      0.8969,      0.8979,      0.8989,      0.8999,      0.9009,      0.9019,      0.9029,      0.9039,      0.9049,     0.90591,     0.90691,     0.90791,     0.90891,     0.90991,     0.91091,     0.91191,\n",
       "           0.91291,     0.91391,     0.91491,     0.91592,     0.91692,     0.91792,     0.91892,     0.91992,     0.92092,     0.92192,     0.92292,     0.92392,     0.92492,     0.92593,     0.92693,     0.92793,     0.92893,     0.92993,     0.93093,     0.93193,     0.93293,     0.93393,     0.93493,     0.93594,\n",
       "           0.93694,     0.93794,     0.93894,     0.93994,     0.94094,     0.94194,     0.94294,     0.94394,     0.94494,     0.94595,     0.94695,     0.94795,     0.94895,     0.94995,     0.95095,     0.95195,     0.95295,     0.95395,     0.95495,     0.95596,     0.95696,     0.95796,     0.95896,     0.95996,\n",
       "           0.96096,     0.96196,     0.96296,     0.96396,     0.96496,     0.96597,     0.96697,     0.96797,     0.96897,     0.96997,     0.97097,     0.97197,     0.97297,     0.97397,     0.97497,     0.97598,     0.97698,     0.97798,     0.97898,     0.97998,     0.98098,     0.98198,     0.98298,     0.98398,\n",
       "           0.98498,     0.98599,     0.98699,     0.98799,     0.98899,     0.98999,     0.99099,     0.99199,     0.99299,     0.99399,     0.99499,       0.996,       0.997,       0.998,       0.999,           1]), array([[     0.9674,      0.9674,     0.97754,     0.98221,     0.98416,     0.98502,     0.98502,      0.9855,     0.98605,     0.98711,     0.98759,     0.98779,       0.988,     0.98848,     0.98869,     0.98887,     0.98907,     0.98957,      0.9897,     0.98984,     0.98997,     0.99022,     0.99059,\n",
       "            0.99147,     0.99106,     0.99113,     0.99119,     0.99125,     0.99132,     0.99138,     0.99145,     0.99148,     0.99139,     0.99131,     0.99122,     0.99114,     0.99105,     0.99083,     0.99053,     0.99064,     0.99074,     0.99085,     0.99095,     0.99076,     0.99047,     0.99042,\n",
       "            0.99037,     0.99032,     0.99027,     0.99022,     0.99017,     0.99011,     0.99006,     0.99001,     0.98997,     0.98999,        0.99,     0.99001,     0.99003,     0.99004,     0.99006,     0.99007,     0.99008,      0.9901,     0.99011,     0.99013,     0.99014,     0.99015,     0.99017,\n",
       "            0.99018,      0.9902,     0.99021,     0.99022,     0.99024,     0.99025,     0.99027,     0.99028,     0.99029,     0.99031,     0.99032,     0.99034,     0.99035,     0.99036,     0.99038,     0.99039,     0.99041,     0.99042,     0.99043,     0.99045,     0.99046,     0.99046,     0.99045,\n",
       "            0.99044,     0.99042,     0.99041,      0.9904,     0.99039,     0.99038,     0.99037,     0.99036,     0.99034,     0.99033,     0.99032,     0.99031,      0.9903,     0.99029,     0.99027,     0.99026,     0.99025,     0.99024,     0.99023,     0.99022,     0.99021,     0.99019,     0.99018,\n",
       "            0.99017,     0.99016,     0.99015,     0.99014,     0.99012,     0.99011,      0.9901,     0.99009,     0.99008,     0.99007,     0.99006,     0.99004,     0.99003,     0.99002,     0.99001,        0.99,     0.98999,     0.98997,     0.98996,     0.98995,     0.98993,     0.98991,     0.98989,\n",
       "            0.98988,     0.98986,     0.98984,     0.98982,     0.98981,     0.98979,     0.98977,     0.98975,     0.98974,     0.98972,      0.9897,     0.98968,     0.98967,     0.98965,     0.98963,     0.98961,      0.9896,     0.98958,     0.98956,     0.98954,     0.98953,     0.98951,     0.98949,\n",
       "            0.98947,     0.98946,      0.9896,     0.98979,     0.98996,     0.99004,     0.99013,     0.99021,     0.99029,     0.99038,     0.99044,     0.99035,     0.99027,     0.99019,     0.99011,     0.99003,     0.98995,     0.98995,     0.98996,     0.98997,     0.98998,        0.99,     0.99001,\n",
       "            0.99002,     0.99003,     0.99004,     0.99005,     0.99007,     0.99008,     0.99009,      0.9901,     0.99011,     0.99012,     0.99013,     0.99015,     0.99016,     0.99017,     0.99018,     0.99019,      0.9902,     0.99021,     0.99023,     0.99024,     0.99025,     0.99026,     0.99027,\n",
       "            0.99028,     0.99029,     0.99031,     0.99032,     0.99033,     0.99034,     0.99035,     0.99036,     0.99037,     0.99039,      0.9904,     0.99041,     0.99042,     0.99043,      0.9903,     0.99004,     0.98992,      0.9899,     0.98989,     0.98987,     0.98985,     0.98983,     0.98982,\n",
       "             0.9898,     0.98978,     0.98977,     0.98975,     0.98973,     0.98971,      0.9897,     0.98968,     0.98966,     0.98965,     0.98963,     0.98961,     0.98959,     0.98958,     0.98956,     0.98954,     0.98953,     0.98951,     0.98949,     0.98948,     0.98946,     0.98944,     0.98942,\n",
       "            0.98942,     0.98941,      0.9894,      0.9894,     0.98939,     0.98938,     0.98938,     0.98937,     0.98936,     0.98936,     0.98935,     0.98934,     0.98934,     0.98933,     0.98932,     0.98932,     0.98931,      0.9893,      0.9893,     0.98929,     0.98928,     0.98928,     0.98927,\n",
       "            0.98926,     0.98926,     0.98925,     0.98924,     0.98924,     0.98923,     0.98922,     0.98922,     0.98921,      0.9892,      0.9892,     0.98919,     0.98918,     0.98918,     0.98917,     0.98916,     0.98916,     0.98915,     0.98914,     0.98914,     0.98913,     0.98912,     0.98912,\n",
       "            0.98911,      0.9891,      0.9891,     0.98909,     0.98908,     0.98908,     0.98907,     0.98906,     0.98906,     0.98905,     0.98904,     0.98904,     0.98903,     0.98902,     0.98902,     0.98901,       0.989,       0.989,     0.98899,     0.98898,     0.98898,     0.98897,     0.98896,\n",
       "            0.98896,     0.98895,     0.98894,     0.98894,     0.98893,     0.98892,     0.98892,     0.98891,      0.9889,      0.9889,     0.98889,     0.98888,     0.98888,     0.98887,     0.98886,     0.98885,     0.98885,     0.98884,     0.98883,     0.98882,     0.98882,     0.98881,      0.9888,\n",
       "             0.9888,     0.98879,     0.98878,     0.98877,     0.98877,     0.98876,     0.98875,     0.98875,     0.98874,     0.98873,     0.98872,     0.98872,     0.98871,      0.9887,     0.98869,     0.98869,     0.98868,     0.98867,     0.98867,     0.98866,     0.98865,     0.98864,     0.98864,\n",
       "            0.98863,     0.98862,     0.98861,     0.98861,      0.9886,     0.98859,     0.98859,     0.98858,     0.98857,     0.98856,     0.98856,     0.98855,     0.98854,     0.98854,     0.98853,     0.98852,     0.98851,     0.98851,      0.9885,     0.98849,     0.98848,     0.98848,     0.98847,\n",
       "            0.98846,     0.98846,     0.98845,     0.98844,     0.98843,     0.98843,     0.98842,     0.98841,     0.98841,     0.98839,     0.98838,     0.98837,     0.98835,     0.98834,     0.98833,     0.98831,      0.9883,     0.98828,     0.98827,     0.98826,     0.98824,     0.98823,     0.98821,\n",
       "             0.9882,     0.98819,     0.98817,     0.98816,     0.98815,     0.98813,     0.98812,      0.9881,     0.98809,     0.98808,     0.98806,     0.98805,     0.98803,     0.98802,     0.98801,     0.98799,     0.98798,     0.98796,     0.98795,     0.98794,     0.98792,     0.98791,      0.9879,\n",
       "            0.98735,     0.98731,     0.98726,     0.98722,     0.98718,     0.98713,     0.98709,     0.98705,       0.987,     0.98696,     0.98691,     0.98687,     0.98684,     0.98682,     0.98679,     0.98677,     0.98674,     0.98672,     0.98669,     0.98667,     0.98664,     0.98662,     0.98659,\n",
       "            0.98657,     0.98654,     0.98652,     0.98649,     0.98647,     0.98644,     0.98641,     0.98639,     0.98636,     0.98584,     0.98582,     0.98581,      0.9858,     0.98579,     0.98578,     0.98577,     0.98576,     0.98574,     0.98573,     0.98572,     0.98571,      0.9857,     0.98569,\n",
       "            0.98568,     0.98566,     0.98565,     0.98564,     0.98563,     0.98562,     0.98561,      0.9856,     0.98558,     0.98557,     0.98556,     0.98555,     0.98554,     0.98553,     0.98552,      0.9855,     0.98549,     0.98548,     0.98547,     0.98546,     0.98545,     0.98544,     0.98542,\n",
       "            0.98541,      0.9854,     0.98539,     0.98538,     0.98537,     0.98536,     0.98534,     0.98533,      0.9853,     0.98526,     0.98522,     0.98518,     0.98514,     0.98509,     0.98505,     0.98501,     0.98497,     0.98493,     0.98489,     0.98485,     0.98481,     0.98474,     0.98468,\n",
       "            0.98461,     0.98454,     0.98448,     0.98441,     0.98435,      0.9843,     0.98428,     0.98426,     0.98424,     0.98422,      0.9842,     0.98418,     0.98416,     0.98414,     0.98412,      0.9841,     0.98408,     0.98406,     0.98404,     0.98402,       0.984,     0.98398,     0.98396,\n",
       "            0.98394,     0.98392,      0.9839,     0.98388,     0.98386,     0.98384,     0.98382,      0.9838,     0.98378,     0.98376,     0.98373,     0.98371,     0.98369,     0.98367,     0.98364,     0.98362,      0.9836,     0.98358,     0.98355,     0.98353,     0.98351,     0.98349,     0.98346,\n",
       "            0.98344,     0.98342,      0.9834,     0.98337,     0.98335,     0.98333,     0.98331,     0.98328,     0.98325,      0.9832,     0.98315,      0.9831,     0.98305,     0.98301,     0.98296,     0.98291,     0.98286,     0.98281,     0.98277,     0.98274,     0.98272,     0.98269,     0.98267,\n",
       "            0.98265,     0.98263,      0.9826,     0.98258,     0.98256,     0.98254,     0.98251,     0.98249,     0.98247,     0.98245,     0.98242,      0.9824,     0.98238,     0.98236,     0.98233,     0.98231,     0.98229,     0.98227,     0.98224,     0.98217,      0.9821,     0.98202,     0.98195,\n",
       "            0.98187,     0.98179,     0.98173,     0.98175,     0.98177,     0.98179,     0.98182,     0.98184,     0.98186,     0.98188,     0.98191,     0.98193,     0.98195,     0.98197,     0.98199,     0.98202,     0.98204,     0.98206,     0.98208,     0.98211,     0.98213,     0.98215,     0.98217,\n",
       "            0.98219,     0.98222,      0.9822,     0.98215,     0.98211,     0.98207,     0.98203,     0.98198,     0.98194,      0.9819,     0.98186,     0.98182,     0.98177,     0.98173,     0.98169,     0.98165,     0.98161,     0.98157,     0.98153,     0.98149,     0.98145,     0.98141,     0.98138,\n",
       "            0.98134,      0.9813,     0.98126,     0.98122,     0.98118,     0.98113,     0.98108,     0.98104,     0.98099,     0.98095,      0.9809,     0.98085,     0.98081,     0.98076,     0.98071,     0.98066,     0.98056,     0.98045,     0.98035,     0.98024,     0.98015,     0.98012,     0.98009,\n",
       "            0.98007,     0.98004,     0.98001,     0.97998,     0.97996,     0.97993,      0.9799,     0.97987,     0.97985,     0.97982,     0.97979,     0.97977,     0.97974,     0.97971,     0.97968,     0.97966,     0.97963,     0.97959,     0.97956,     0.97952,     0.97949,     0.97945,     0.97941,\n",
       "            0.97938,     0.97934,     0.97931,     0.97927,     0.97924,      0.9792,     0.97917,     0.97913,     0.97897,     0.97871,     0.97865,     0.97874,     0.97883,     0.97893,     0.97902,     0.97909,     0.97905,     0.97902,     0.97899,     0.97896,     0.97892,     0.97889,     0.97886,\n",
       "            0.97883,     0.97879,     0.97876,     0.97873,      0.9787,     0.97866,     0.97863,      0.9786,     0.97856,     0.97849,     0.97841,     0.97833,     0.97826,     0.97818,      0.9781,     0.97801,     0.97785,      0.9777,     0.97755,     0.97722,     0.97698,     0.97691,     0.97684,\n",
       "            0.97678,     0.97671,     0.97664,     0.97658,     0.97651,     0.97642,     0.97633,     0.97623,     0.97613,     0.97603,     0.97591,     0.97569,     0.97548,     0.97515,     0.97489,     0.97483,     0.97477,     0.97471,     0.97465,     0.97459,     0.97453,     0.97447,     0.97441,\n",
       "            0.97435,     0.97429,     0.97423,     0.97417,     0.97411,     0.97405,     0.97399,     0.97393,     0.97387,     0.97344,     0.97223,     0.97208,     0.97192,     0.97177,     0.97117,     0.97105,     0.97093,     0.97081,     0.97069,     0.97064,     0.97058,     0.97053,     0.97048,\n",
       "            0.97042,     0.97037,     0.97031,     0.97026,      0.9702,     0.97012,     0.96994,     0.96975,     0.96927,     0.96906,       0.969,     0.96895,     0.96889,     0.96884,     0.96879,     0.96873,     0.96868,     0.96862,     0.96854,     0.96818,     0.96735,     0.96662,     0.96566,\n",
       "            0.96534,     0.96515,     0.96497,     0.96399,     0.96333,     0.96293,     0.96263,     0.96244,     0.96226,     0.96152,      0.9613,     0.96108,     0.95946,     0.95927,     0.95909,     0.95881,     0.95815,     0.95779,     0.95752,     0.95708,     0.95659,     0.95637,     0.95591,\n",
       "            0.95523,     0.95148,     0.95097,     0.95012,     0.94993,     0.94974,     0.94914,     0.94855,     0.94576,     0.94463,     0.94394,     0.94366,     0.94209,     0.94004,     0.93881,     0.93774,     0.93488,      0.9332,     0.93291,     0.92754,     0.92678,      0.9227,     0.91802,\n",
       "            0.91211,     0.90613,     0.90251,     0.89825,     0.89089,     0.88592,     0.87777,     0.87078,     0.86627,     0.85913,     0.85059,     0.84325,     0.83242,      0.8186,     0.80731,     0.79216,     0.78757,     0.76929,     0.75602,     0.74416,     0.73221,     0.70639,      0.6959,\n",
       "            0.67026,     0.65462,     0.64271,     0.61976,     0.59109,     0.57494,     0.54707,     0.53522,     0.49457,     0.47368,     0.45322,     0.41683,     0.37993,     0.35559,     0.32146,      0.3039,     0.27904,     0.26385,     0.23954,     0.20456,     0.19349,     0.16859,     0.13346,\n",
       "            0.11845,     0.10229,    0.091514,    0.090269,    0.078316,     0.06521,    0.058868,    0.056935,    0.049307,    0.045923,    0.043921,     0.04037,    0.039385,    0.035656,    0.032709,    0.028783,    0.020932,    0.018922,    0.017633,    0.017185,    0.016737,    0.016289,    0.013758,\n",
       "           0.011799,    0.010447,   0.0094363,   0.0086237,   0.0071793,   0.0045422,   0.0033952,   0.0025777,           0,           0,           0,           0,           0,           0,           0,           0,           0,           0,           0,           0,           0,           0,           0,\n",
       "                  0,           0,           0,           0,           0,           0,           0,           0,           0,           0,           0,           0,           0,           0,           0,           0,           0,           0,           0,           0,           0,           0,           0,\n",
       "                  0,           0,           0,           0,           0,           0,           0,           0,           0,           0,           0]]), 'Confidence', 'F1'], [array([          0,    0.001001,    0.002002,    0.003003,    0.004004,    0.005005,    0.006006,    0.007007,    0.008008,    0.009009,     0.01001,    0.011011,    0.012012,    0.013013,    0.014014,    0.015015,    0.016016,    0.017017,    0.018018,    0.019019,     0.02002,    0.021021,    0.022022,    0.023023,\n",
       "          0.024024,    0.025025,    0.026026,    0.027027,    0.028028,    0.029029,     0.03003,    0.031031,    0.032032,    0.033033,    0.034034,    0.035035,    0.036036,    0.037037,    0.038038,    0.039039,     0.04004,    0.041041,    0.042042,    0.043043,    0.044044,    0.045045,    0.046046,    0.047047,\n",
       "          0.048048,    0.049049,     0.05005,    0.051051,    0.052052,    0.053053,    0.054054,    0.055055,    0.056056,    0.057057,    0.058058,    0.059059,     0.06006,    0.061061,    0.062062,    0.063063,    0.064064,    0.065065,    0.066066,    0.067067,    0.068068,    0.069069,     0.07007,    0.071071,\n",
       "          0.072072,    0.073073,    0.074074,    0.075075,    0.076076,    0.077077,    0.078078,    0.079079,     0.08008,    0.081081,    0.082082,    0.083083,    0.084084,    0.085085,    0.086086,    0.087087,    0.088088,    0.089089,     0.09009,    0.091091,    0.092092,    0.093093,    0.094094,    0.095095,\n",
       "          0.096096,    0.097097,    0.098098,    0.099099,      0.1001,      0.1011,      0.1021,      0.1031,      0.1041,     0.10511,     0.10611,     0.10711,     0.10811,     0.10911,     0.11011,     0.11111,     0.11211,     0.11311,     0.11411,     0.11512,     0.11612,     0.11712,     0.11812,     0.11912,\n",
       "           0.12012,     0.12112,     0.12212,     0.12312,     0.12412,     0.12513,     0.12613,     0.12713,     0.12813,     0.12913,     0.13013,     0.13113,     0.13213,     0.13313,     0.13413,     0.13514,     0.13614,     0.13714,     0.13814,     0.13914,     0.14014,     0.14114,     0.14214,     0.14314,\n",
       "           0.14414,     0.14515,     0.14615,     0.14715,     0.14815,     0.14915,     0.15015,     0.15115,     0.15215,     0.15315,     0.15415,     0.15516,     0.15616,     0.15716,     0.15816,     0.15916,     0.16016,     0.16116,     0.16216,     0.16316,     0.16416,     0.16517,     0.16617,     0.16717,\n",
       "           0.16817,     0.16917,     0.17017,     0.17117,     0.17217,     0.17317,     0.17417,     0.17518,     0.17618,     0.17718,     0.17818,     0.17918,     0.18018,     0.18118,     0.18218,     0.18318,     0.18418,     0.18519,     0.18619,     0.18719,     0.18819,     0.18919,     0.19019,     0.19119,\n",
       "           0.19219,     0.19319,     0.19419,      0.1952,      0.1962,      0.1972,      0.1982,      0.1992,      0.2002,      0.2012,      0.2022,      0.2032,      0.2042,     0.20521,     0.20621,     0.20721,     0.20821,     0.20921,     0.21021,     0.21121,     0.21221,     0.21321,     0.21421,     0.21522,\n",
       "           0.21622,     0.21722,     0.21822,     0.21922,     0.22022,     0.22122,     0.22222,     0.22322,     0.22422,     0.22523,     0.22623,     0.22723,     0.22823,     0.22923,     0.23023,     0.23123,     0.23223,     0.23323,     0.23423,     0.23524,     0.23624,     0.23724,     0.23824,     0.23924,\n",
       "           0.24024,     0.24124,     0.24224,     0.24324,     0.24424,     0.24525,     0.24625,     0.24725,     0.24825,     0.24925,     0.25025,     0.25125,     0.25225,     0.25325,     0.25425,     0.25526,     0.25626,     0.25726,     0.25826,     0.25926,     0.26026,     0.26126,     0.26226,     0.26326,\n",
       "           0.26426,     0.26527,     0.26627,     0.26727,     0.26827,     0.26927,     0.27027,     0.27127,     0.27227,     0.27327,     0.27427,     0.27528,     0.27628,     0.27728,     0.27828,     0.27928,     0.28028,     0.28128,     0.28228,     0.28328,     0.28428,     0.28529,     0.28629,     0.28729,\n",
       "           0.28829,     0.28929,     0.29029,     0.29129,     0.29229,     0.29329,     0.29429,      0.2953,      0.2963,      0.2973,      0.2983,      0.2993,      0.3003,      0.3013,      0.3023,      0.3033,      0.3043,     0.30531,     0.30631,     0.30731,     0.30831,     0.30931,     0.31031,     0.31131,\n",
       "           0.31231,     0.31331,     0.31431,     0.31532,     0.31632,     0.31732,     0.31832,     0.31932,     0.32032,     0.32132,     0.32232,     0.32332,     0.32432,     0.32533,     0.32633,     0.32733,     0.32833,     0.32933,     0.33033,     0.33133,     0.33233,     0.33333,     0.33433,     0.33534,\n",
       "           0.33634,     0.33734,     0.33834,     0.33934,     0.34034,     0.34134,     0.34234,     0.34334,     0.34434,     0.34535,     0.34635,     0.34735,     0.34835,     0.34935,     0.35035,     0.35135,     0.35235,     0.35335,     0.35435,     0.35536,     0.35636,     0.35736,     0.35836,     0.35936,\n",
       "           0.36036,     0.36136,     0.36236,     0.36336,     0.36436,     0.36537,     0.36637,     0.36737,     0.36837,     0.36937,     0.37037,     0.37137,     0.37237,     0.37337,     0.37437,     0.37538,     0.37638,     0.37738,     0.37838,     0.37938,     0.38038,     0.38138,     0.38238,     0.38338,\n",
       "           0.38438,     0.38539,     0.38639,     0.38739,     0.38839,     0.38939,     0.39039,     0.39139,     0.39239,     0.39339,     0.39439,      0.3954,      0.3964,      0.3974,      0.3984,      0.3994,      0.4004,      0.4014,      0.4024,      0.4034,      0.4044,     0.40541,     0.40641,     0.40741,\n",
       "           0.40841,     0.40941,     0.41041,     0.41141,     0.41241,     0.41341,     0.41441,     0.41542,     0.41642,     0.41742,     0.41842,     0.41942,     0.42042,     0.42142,     0.42242,     0.42342,     0.42442,     0.42543,     0.42643,     0.42743,     0.42843,     0.42943,     0.43043,     0.43143,\n",
       "           0.43243,     0.43343,     0.43443,     0.43544,     0.43644,     0.43744,     0.43844,     0.43944,     0.44044,     0.44144,     0.44244,     0.44344,     0.44444,     0.44545,     0.44645,     0.44745,     0.44845,     0.44945,     0.45045,     0.45145,     0.45245,     0.45345,     0.45445,     0.45546,\n",
       "           0.45646,     0.45746,     0.45846,     0.45946,     0.46046,     0.46146,     0.46246,     0.46346,     0.46446,     0.46547,     0.46647,     0.46747,     0.46847,     0.46947,     0.47047,     0.47147,     0.47247,     0.47347,     0.47447,     0.47548,     0.47648,     0.47748,     0.47848,     0.47948,\n",
       "           0.48048,     0.48148,     0.48248,     0.48348,     0.48448,     0.48549,     0.48649,     0.48749,     0.48849,     0.48949,     0.49049,     0.49149,     0.49249,     0.49349,     0.49449,      0.4955,      0.4965,      0.4975,      0.4985,      0.4995,      0.5005,      0.5015,      0.5025,      0.5035,\n",
       "            0.5045,     0.50551,     0.50651,     0.50751,     0.50851,     0.50951,     0.51051,     0.51151,     0.51251,     0.51351,     0.51451,     0.51552,     0.51652,     0.51752,     0.51852,     0.51952,     0.52052,     0.52152,     0.52252,     0.52352,     0.52452,     0.52553,     0.52653,     0.52753,\n",
       "           0.52853,     0.52953,     0.53053,     0.53153,     0.53253,     0.53353,     0.53453,     0.53554,     0.53654,     0.53754,     0.53854,     0.53954,     0.54054,     0.54154,     0.54254,     0.54354,     0.54454,     0.54555,     0.54655,     0.54755,     0.54855,     0.54955,     0.55055,     0.55155,\n",
       "           0.55255,     0.55355,     0.55455,     0.55556,     0.55656,     0.55756,     0.55856,     0.55956,     0.56056,     0.56156,     0.56256,     0.56356,     0.56456,     0.56557,     0.56657,     0.56757,     0.56857,     0.56957,     0.57057,     0.57157,     0.57257,     0.57357,     0.57457,     0.57558,\n",
       "           0.57658,     0.57758,     0.57858,     0.57958,     0.58058,     0.58158,     0.58258,     0.58358,     0.58458,     0.58559,     0.58659,     0.58759,     0.58859,     0.58959,     0.59059,     0.59159,     0.59259,     0.59359,     0.59459,      0.5956,      0.5966,      0.5976,      0.5986,      0.5996,\n",
       "            0.6006,      0.6016,      0.6026,      0.6036,      0.6046,     0.60561,     0.60661,     0.60761,     0.60861,     0.60961,     0.61061,     0.61161,     0.61261,     0.61361,     0.61461,     0.61562,     0.61662,     0.61762,     0.61862,     0.61962,     0.62062,     0.62162,     0.62262,     0.62362,\n",
       "           0.62462,     0.62563,     0.62663,     0.62763,     0.62863,     0.62963,     0.63063,     0.63163,     0.63263,     0.63363,     0.63463,     0.63564,     0.63664,     0.63764,     0.63864,     0.63964,     0.64064,     0.64164,     0.64264,     0.64364,     0.64464,     0.64565,     0.64665,     0.64765,\n",
       "           0.64865,     0.64965,     0.65065,     0.65165,     0.65265,     0.65365,     0.65465,     0.65566,     0.65666,     0.65766,     0.65866,     0.65966,     0.66066,     0.66166,     0.66266,     0.66366,     0.66466,     0.66567,     0.66667,     0.66767,     0.66867,     0.66967,     0.67067,     0.67167,\n",
       "           0.67267,     0.67367,     0.67467,     0.67568,     0.67668,     0.67768,     0.67868,     0.67968,     0.68068,     0.68168,     0.68268,     0.68368,     0.68468,     0.68569,     0.68669,     0.68769,     0.68869,     0.68969,     0.69069,     0.69169,     0.69269,     0.69369,     0.69469,      0.6957,\n",
       "            0.6967,      0.6977,      0.6987,      0.6997,      0.7007,      0.7017,      0.7027,      0.7037,      0.7047,     0.70571,     0.70671,     0.70771,     0.70871,     0.70971,     0.71071,     0.71171,     0.71271,     0.71371,     0.71471,     0.71572,     0.71672,     0.71772,     0.71872,     0.71972,\n",
       "           0.72072,     0.72172,     0.72272,     0.72372,     0.72472,     0.72573,     0.72673,     0.72773,     0.72873,     0.72973,     0.73073,     0.73173,     0.73273,     0.73373,     0.73473,     0.73574,     0.73674,     0.73774,     0.73874,     0.73974,     0.74074,     0.74174,     0.74274,     0.74374,\n",
       "           0.74474,     0.74575,     0.74675,     0.74775,     0.74875,     0.74975,     0.75075,     0.75175,     0.75275,     0.75375,     0.75475,     0.75576,     0.75676,     0.75776,     0.75876,     0.75976,     0.76076,     0.76176,     0.76276,     0.76376,     0.76476,     0.76577,     0.76677,     0.76777,\n",
       "           0.76877,     0.76977,     0.77077,     0.77177,     0.77277,     0.77377,     0.77477,     0.77578,     0.77678,     0.77778,     0.77878,     0.77978,     0.78078,     0.78178,     0.78278,     0.78378,     0.78478,     0.78579,     0.78679,     0.78779,     0.78879,     0.78979,     0.79079,     0.79179,\n",
       "           0.79279,     0.79379,     0.79479,      0.7958,      0.7968,      0.7978,      0.7988,      0.7998,      0.8008,      0.8018,      0.8028,      0.8038,      0.8048,     0.80581,     0.80681,     0.80781,     0.80881,     0.80981,     0.81081,     0.81181,     0.81281,     0.81381,     0.81481,     0.81582,\n",
       "           0.81682,     0.81782,     0.81882,     0.81982,     0.82082,     0.82182,     0.82282,     0.82382,     0.82482,     0.82583,     0.82683,     0.82783,     0.82883,     0.82983,     0.83083,     0.83183,     0.83283,     0.83383,     0.83483,     0.83584,     0.83684,     0.83784,     0.83884,     0.83984,\n",
       "           0.84084,     0.84184,     0.84284,     0.84384,     0.84484,     0.84585,     0.84685,     0.84785,     0.84885,     0.84985,     0.85085,     0.85185,     0.85285,     0.85385,     0.85485,     0.85586,     0.85686,     0.85786,     0.85886,     0.85986,     0.86086,     0.86186,     0.86286,     0.86386,\n",
       "           0.86486,     0.86587,     0.86687,     0.86787,     0.86887,     0.86987,     0.87087,     0.87187,     0.87287,     0.87387,     0.87487,     0.87588,     0.87688,     0.87788,     0.87888,     0.87988,     0.88088,     0.88188,     0.88288,     0.88388,     0.88488,     0.88589,     0.88689,     0.88789,\n",
       "           0.88889,     0.88989,     0.89089,     0.89189,     0.89289,     0.89389,     0.89489,      0.8959,      0.8969,      0.8979,      0.8989,      0.8999,      0.9009,      0.9019,      0.9029,      0.9039,      0.9049,     0.90591,     0.90691,     0.90791,     0.90891,     0.90991,     0.91091,     0.91191,\n",
       "           0.91291,     0.91391,     0.91491,     0.91592,     0.91692,     0.91792,     0.91892,     0.91992,     0.92092,     0.92192,     0.92292,     0.92392,     0.92492,     0.92593,     0.92693,     0.92793,     0.92893,     0.92993,     0.93093,     0.93193,     0.93293,     0.93393,     0.93493,     0.93594,\n",
       "           0.93694,     0.93794,     0.93894,     0.93994,     0.94094,     0.94194,     0.94294,     0.94394,     0.94494,     0.94595,     0.94695,     0.94795,     0.94895,     0.94995,     0.95095,     0.95195,     0.95295,     0.95395,     0.95495,     0.95596,     0.95696,     0.95796,     0.95896,     0.95996,\n",
       "           0.96096,     0.96196,     0.96296,     0.96396,     0.96496,     0.96597,     0.96697,     0.96797,     0.96897,     0.96997,     0.97097,     0.97197,     0.97297,     0.97397,     0.97497,     0.97598,     0.97698,     0.97798,     0.97898,     0.97998,     0.98098,     0.98198,     0.98298,     0.98398,\n",
       "           0.98498,     0.98599,     0.98699,     0.98799,     0.98899,     0.98999,     0.99099,     0.99199,     0.99299,     0.99399,     0.99499,       0.996,       0.997,       0.998,       0.999,           1]), array([[    0.94218,     0.94218,     0.96163,      0.9707,     0.97451,     0.97642,     0.97718,     0.97908,     0.98018,     0.98227,     0.98321,     0.98362,     0.98403,     0.98498,     0.98541,     0.98576,     0.98616,     0.98716,     0.98742,     0.98768,     0.98794,     0.98844,     0.98918,\n",
       "            0.99093,     0.99112,     0.99125,     0.99138,     0.99151,     0.99164,     0.99177,     0.99189,     0.99199,     0.99199,     0.99199,     0.99199,     0.99199,     0.99198,     0.99198,     0.99207,     0.99228,     0.99249,      0.9927,     0.99291,     0.99297,     0.99296,     0.99296,\n",
       "            0.99296,     0.99296,     0.99296,     0.99296,     0.99296,     0.99296,     0.99296,     0.99296,     0.99296,     0.99299,     0.99302,     0.99305,     0.99307,      0.9931,     0.99313,     0.99316,     0.99319,     0.99322,     0.99324,     0.99327,      0.9933,     0.99333,     0.99336,\n",
       "            0.99338,     0.99341,     0.99344,     0.99347,      0.9935,     0.99352,     0.99355,     0.99358,     0.99361,     0.99364,     0.99367,     0.99369,     0.99372,     0.99375,     0.99378,     0.99381,     0.99383,     0.99386,     0.99389,     0.99392,     0.99395,     0.99396,     0.99396,\n",
       "            0.99396,     0.99396,     0.99396,     0.99396,     0.99396,     0.99396,     0.99396,     0.99396,     0.99396,     0.99396,     0.99396,     0.99396,     0.99396,     0.99396,     0.99396,     0.99396,     0.99396,     0.99395,     0.99395,     0.99395,     0.99395,     0.99395,     0.99395,\n",
       "            0.99395,     0.99395,     0.99395,     0.99395,     0.99395,     0.99395,     0.99395,     0.99395,     0.99395,     0.99395,     0.99395,     0.99395,     0.99395,     0.99395,     0.99395,     0.99395,     0.99395,     0.99395,     0.99395,     0.99395,     0.99395,     0.99395,     0.99395,\n",
       "            0.99395,     0.99395,     0.99395,     0.99395,     0.99395,     0.99395,     0.99395,     0.99395,     0.99395,     0.99395,     0.99395,     0.99395,     0.99395,     0.99395,     0.99395,     0.99395,     0.99395,     0.99395,     0.99395,     0.99395,     0.99395,     0.99395,     0.99395,\n",
       "            0.99395,     0.99395,     0.99425,     0.99462,     0.99497,     0.99514,     0.99531,     0.99548,     0.99564,     0.99581,     0.99596,     0.99595,     0.99595,     0.99595,     0.99595,     0.99595,     0.99595,     0.99597,       0.996,     0.99602,     0.99604,     0.99607,     0.99609,\n",
       "            0.99611,     0.99614,     0.99616,     0.99618,     0.99621,     0.99623,     0.99625,     0.99628,      0.9963,     0.99632,     0.99634,     0.99637,     0.99639,     0.99641,     0.99644,     0.99646,     0.99648,     0.99651,     0.99653,     0.99655,     0.99658,      0.9966,     0.99662,\n",
       "            0.99665,     0.99667,     0.99669,     0.99672,     0.99674,     0.99676,     0.99679,     0.99681,     0.99683,     0.99686,     0.99688,      0.9969,     0.99693,     0.99695,     0.99696,     0.99696,     0.99696,     0.99696,     0.99696,     0.99696,     0.99696,     0.99696,     0.99696,\n",
       "            0.99696,     0.99696,     0.99696,     0.99696,     0.99696,     0.99696,     0.99696,     0.99696,     0.99696,     0.99696,     0.99696,     0.99696,     0.99696,     0.99696,     0.99696,     0.99696,     0.99695,     0.99695,     0.99695,     0.99695,     0.99695,     0.99695,     0.99695,\n",
       "            0.99695,     0.99695,     0.99695,     0.99695,     0.99695,     0.99695,     0.99695,     0.99695,     0.99695,     0.99695,     0.99695,     0.99695,     0.99695,     0.99695,     0.99695,     0.99695,     0.99695,     0.99695,     0.99695,     0.99695,     0.99695,     0.99695,     0.99695,\n",
       "            0.99695,     0.99695,     0.99695,     0.99695,     0.99695,     0.99695,     0.99695,     0.99695,     0.99695,     0.99695,     0.99695,     0.99695,     0.99695,     0.99695,     0.99695,     0.99695,     0.99695,     0.99695,     0.99695,     0.99695,     0.99695,     0.99695,     0.99695,\n",
       "            0.99695,     0.99695,     0.99695,     0.99695,     0.99695,     0.99695,     0.99695,     0.99695,     0.99695,     0.99695,     0.99695,     0.99695,     0.99695,     0.99695,     0.99695,     0.99695,     0.99695,     0.99695,     0.99695,     0.99695,     0.99695,     0.99695,     0.99695,\n",
       "            0.99695,     0.99695,     0.99695,     0.99695,     0.99695,     0.99695,     0.99695,     0.99695,     0.99695,     0.99695,     0.99695,     0.99695,     0.99695,     0.99695,     0.99695,     0.99695,     0.99695,     0.99695,     0.99695,     0.99695,     0.99695,     0.99695,     0.99695,\n",
       "            0.99695,     0.99695,     0.99695,     0.99695,     0.99695,     0.99695,     0.99695,     0.99695,     0.99695,     0.99695,     0.99695,     0.99695,     0.99695,     0.99695,     0.99695,     0.99695,     0.99695,     0.99695,     0.99695,     0.99695,     0.99695,     0.99695,     0.99695,\n",
       "            0.99695,     0.99695,     0.99695,     0.99695,     0.99695,     0.99695,     0.99695,     0.99695,     0.99695,     0.99695,     0.99695,     0.99695,     0.99695,     0.99695,     0.99695,     0.99695,     0.99695,     0.99695,     0.99695,     0.99695,     0.99695,     0.99695,     0.99695,\n",
       "            0.99695,     0.99695,     0.99695,     0.99695,     0.99695,     0.99695,     0.99695,     0.99695,     0.99695,     0.99695,     0.99695,     0.99695,     0.99695,     0.99695,     0.99695,     0.99695,     0.99695,     0.99695,     0.99695,     0.99695,     0.99695,     0.99695,     0.99695,\n",
       "            0.99695,     0.99695,     0.99695,     0.99695,     0.99695,     0.99695,     0.99695,     0.99695,     0.99695,     0.99695,     0.99695,     0.99695,     0.99695,     0.99695,     0.99695,     0.99695,     0.99695,     0.99695,     0.99695,     0.99695,     0.99695,     0.99695,     0.99695,\n",
       "            0.99694,     0.99694,     0.99694,     0.99694,     0.99694,     0.99694,     0.99694,     0.99694,     0.99694,     0.99694,     0.99694,     0.99694,     0.99694,     0.99694,     0.99694,     0.99694,     0.99694,     0.99694,     0.99694,     0.99694,     0.99694,     0.99694,     0.99694,\n",
       "            0.99694,     0.99694,     0.99694,     0.99694,     0.99694,     0.99694,     0.99694,     0.99694,     0.99694,     0.99693,     0.99693,     0.99693,     0.99693,     0.99693,     0.99693,     0.99693,     0.99693,     0.99693,     0.99693,     0.99693,     0.99693,     0.99693,     0.99693,\n",
       "            0.99693,     0.99693,     0.99693,     0.99693,     0.99693,     0.99693,     0.99693,     0.99693,     0.99693,     0.99693,     0.99693,     0.99693,     0.99693,     0.99693,     0.99693,     0.99693,     0.99693,     0.99693,     0.99693,     0.99693,     0.99693,     0.99693,     0.99693,\n",
       "            0.99693,     0.99693,     0.99693,     0.99693,     0.99693,     0.99693,     0.99693,     0.99693,     0.99693,     0.99693,     0.99693,     0.99693,     0.99693,     0.99693,     0.99693,     0.99693,     0.99693,     0.99693,     0.99693,     0.99693,     0.99693,     0.99693,     0.99693,\n",
       "            0.99692,     0.99692,     0.99692,     0.99692,     0.99692,     0.99692,     0.99692,     0.99692,     0.99692,     0.99692,     0.99692,     0.99692,     0.99692,     0.99692,     0.99692,     0.99692,     0.99692,     0.99692,     0.99692,     0.99692,     0.99692,     0.99692,     0.99692,\n",
       "            0.99692,     0.99692,     0.99692,     0.99692,     0.99692,     0.99692,     0.99692,     0.99692,     0.99692,     0.99692,     0.99692,     0.99692,     0.99692,     0.99692,     0.99692,     0.99692,     0.99692,     0.99692,     0.99692,     0.99692,     0.99692,     0.99692,     0.99692,\n",
       "            0.99692,     0.99692,     0.99692,     0.99692,     0.99692,     0.99692,     0.99692,     0.99692,     0.99692,     0.99692,     0.99692,     0.99692,     0.99692,     0.99692,     0.99691,     0.99691,     0.99691,     0.99691,     0.99691,     0.99691,     0.99691,     0.99691,     0.99691,\n",
       "            0.99691,     0.99691,     0.99691,     0.99691,     0.99691,     0.99691,     0.99691,     0.99691,     0.99691,     0.99691,     0.99691,     0.99691,     0.99691,     0.99691,     0.99691,     0.99691,     0.99691,     0.99691,     0.99691,     0.99691,     0.99691,     0.99691,     0.99691,\n",
       "            0.99691,     0.99691,     0.99691,     0.99696,       0.997,     0.99705,     0.99709,     0.99714,     0.99719,     0.99723,     0.99728,     0.99732,     0.99737,     0.99742,     0.99746,     0.99751,     0.99755,      0.9976,     0.99764,     0.99769,     0.99774,     0.99778,     0.99783,\n",
       "            0.99787,     0.99792,     0.99794,     0.99794,     0.99794,     0.99794,     0.99794,     0.99794,     0.99793,     0.99793,     0.99793,     0.99793,     0.99793,     0.99793,     0.99793,     0.99793,     0.99793,     0.99793,     0.99793,     0.99793,     0.99793,     0.99793,     0.99793,\n",
       "            0.99793,     0.99793,     0.99793,     0.99793,     0.99793,     0.99793,     0.99793,     0.99793,     0.99793,     0.99793,     0.99793,     0.99793,     0.99793,     0.99793,     0.99793,     0.99793,     0.99793,     0.99793,     0.99793,     0.99793,     0.99793,     0.99793,     0.99793,\n",
       "            0.99793,     0.99793,     0.99793,     0.99793,     0.99793,     0.99793,     0.99793,     0.99793,     0.99793,     0.99793,     0.99793,     0.99793,     0.99793,     0.99793,     0.99793,     0.99793,     0.99793,     0.99793,     0.99792,     0.99792,     0.99792,     0.99792,     0.99792,\n",
       "            0.99792,     0.99792,     0.99792,     0.99792,     0.99792,     0.99792,     0.99792,     0.99792,     0.99792,     0.99792,     0.99803,     0.99823,     0.99842,     0.99861,     0.99881,     0.99896,     0.99896,     0.99896,     0.99896,     0.99896,     0.99896,     0.99896,     0.99896,\n",
       "            0.99896,     0.99896,     0.99896,     0.99896,     0.99896,     0.99896,     0.99896,     0.99896,     0.99896,     0.99896,     0.99896,     0.99896,     0.99896,     0.99896,     0.99896,     0.99896,     0.99896,     0.99896,     0.99896,     0.99896,     0.99896,     0.99895,     0.99895,\n",
       "            0.99895,     0.99895,     0.99895,     0.99895,     0.99895,     0.99895,     0.99895,     0.99895,     0.99895,     0.99895,     0.99895,     0.99895,     0.99895,     0.99895,     0.99895,     0.99895,     0.99895,     0.99895,     0.99895,     0.99895,     0.99895,     0.99895,     0.99895,\n",
       "            0.99895,     0.99895,     0.99895,     0.99895,     0.99895,     0.99895,     0.99895,     0.99895,     0.99895,     0.99895,     0.99895,     0.99894,     0.99894,     0.99894,     0.99894,     0.99894,     0.99894,     0.99894,     0.99894,     0.99894,     0.99894,     0.99894,     0.99894,\n",
       "            0.99894,     0.99894,     0.99894,     0.99894,     0.99894,     0.99894,     0.99894,     0.99894,     0.99894,     0.99894,     0.99894,     0.99894,     0.99894,     0.99894,     0.99894,     0.99894,     0.99894,     0.99894,     0.99894,     0.99894,     0.99893,     0.99893,     0.99893,\n",
       "            0.99893,     0.99893,     0.99893,     0.99893,     0.99893,     0.99893,     0.99892,     0.99892,     0.99892,     0.99892,     0.99892,     0.99892,     0.99892,     0.99892,     0.99892,     0.99892,     0.99891,     0.99891,     0.99891,     0.99891,     0.99891,     0.99891,     0.99891,\n",
       "            0.99891,      0.9989,      0.9989,      0.9989,      0.9989,      0.9989,      0.9989,     0.99889,     0.99889,     0.99889,     0.99888,     0.99888,     0.99888,     0.99887,     0.99887,     0.99887,     0.99886,     0.99886,     0.99886,     0.99885,     0.99884,     0.99883,     0.99882,\n",
       "            0.99881,      0.9988,     0.99879,     0.99878,     0.99876,     0.99875,     0.99872,     0.99871,     0.99869,     0.99868,     0.99865,     0.99863,      0.9986,     0.99856,     0.99853,     0.99848,     0.99846,      0.9984,     0.99836,     0.99832,     0.99827,     0.99817,     0.99813,\n",
       "            0.99802,     0.99795,     0.99789,     0.99778,     0.99762,     0.99753,     0.99735,     0.99727,     0.99697,     0.99679,      0.9966,     0.99622,     0.99576,      0.9954,     0.99481,     0.99446,     0.99388,     0.99347,     0.99271,     0.99498,           1,           1,           1,\n",
       "                  1,           1,           1,           1,           1,           1,           1,           1,           1,           1,           1,           1,           1,           1,           1,           1,           1,           1,           1,           1,           1,           1,           1,\n",
       "                  1,           1,           1,           1,           1,           1,           1,           1,           1,           1,           1,           1,           1,           1,           1,           1,           1,           1,           1,           1,           1,           1,           1,\n",
       "                  1,           1,           1,           1,           1,           1,           1,           1,           1,           1,           1,           1,           1,           1,           1,           1,           1,           1,           1,           1,           1,           1,           1,\n",
       "                  1,           1,           1,           1,           1,           1,           1,           1,           1,           1,           1]]), 'Confidence', 'Precision'], [array([          0,    0.001001,    0.002002,    0.003003,    0.004004,    0.005005,    0.006006,    0.007007,    0.008008,    0.009009,     0.01001,    0.011011,    0.012012,    0.013013,    0.014014,    0.015015,    0.016016,    0.017017,    0.018018,    0.019019,     0.02002,    0.021021,    0.022022,    0.023023,\n",
       "          0.024024,    0.025025,    0.026026,    0.027027,    0.028028,    0.029029,     0.03003,    0.031031,    0.032032,    0.033033,    0.034034,    0.035035,    0.036036,    0.037037,    0.038038,    0.039039,     0.04004,    0.041041,    0.042042,    0.043043,    0.044044,    0.045045,    0.046046,    0.047047,\n",
       "          0.048048,    0.049049,     0.05005,    0.051051,    0.052052,    0.053053,    0.054054,    0.055055,    0.056056,    0.057057,    0.058058,    0.059059,     0.06006,    0.061061,    0.062062,    0.063063,    0.064064,    0.065065,    0.066066,    0.067067,    0.068068,    0.069069,     0.07007,    0.071071,\n",
       "          0.072072,    0.073073,    0.074074,    0.075075,    0.076076,    0.077077,    0.078078,    0.079079,     0.08008,    0.081081,    0.082082,    0.083083,    0.084084,    0.085085,    0.086086,    0.087087,    0.088088,    0.089089,     0.09009,    0.091091,    0.092092,    0.093093,    0.094094,    0.095095,\n",
       "          0.096096,    0.097097,    0.098098,    0.099099,      0.1001,      0.1011,      0.1021,      0.1031,      0.1041,     0.10511,     0.10611,     0.10711,     0.10811,     0.10911,     0.11011,     0.11111,     0.11211,     0.11311,     0.11411,     0.11512,     0.11612,     0.11712,     0.11812,     0.11912,\n",
       "           0.12012,     0.12112,     0.12212,     0.12312,     0.12412,     0.12513,     0.12613,     0.12713,     0.12813,     0.12913,     0.13013,     0.13113,     0.13213,     0.13313,     0.13413,     0.13514,     0.13614,     0.13714,     0.13814,     0.13914,     0.14014,     0.14114,     0.14214,     0.14314,\n",
       "           0.14414,     0.14515,     0.14615,     0.14715,     0.14815,     0.14915,     0.15015,     0.15115,     0.15215,     0.15315,     0.15415,     0.15516,     0.15616,     0.15716,     0.15816,     0.15916,     0.16016,     0.16116,     0.16216,     0.16316,     0.16416,     0.16517,     0.16617,     0.16717,\n",
       "           0.16817,     0.16917,     0.17017,     0.17117,     0.17217,     0.17317,     0.17417,     0.17518,     0.17618,     0.17718,     0.17818,     0.17918,     0.18018,     0.18118,     0.18218,     0.18318,     0.18418,     0.18519,     0.18619,     0.18719,     0.18819,     0.18919,     0.19019,     0.19119,\n",
       "           0.19219,     0.19319,     0.19419,      0.1952,      0.1962,      0.1972,      0.1982,      0.1992,      0.2002,      0.2012,      0.2022,      0.2032,      0.2042,     0.20521,     0.20621,     0.20721,     0.20821,     0.20921,     0.21021,     0.21121,     0.21221,     0.21321,     0.21421,     0.21522,\n",
       "           0.21622,     0.21722,     0.21822,     0.21922,     0.22022,     0.22122,     0.22222,     0.22322,     0.22422,     0.22523,     0.22623,     0.22723,     0.22823,     0.22923,     0.23023,     0.23123,     0.23223,     0.23323,     0.23423,     0.23524,     0.23624,     0.23724,     0.23824,     0.23924,\n",
       "           0.24024,     0.24124,     0.24224,     0.24324,     0.24424,     0.24525,     0.24625,     0.24725,     0.24825,     0.24925,     0.25025,     0.25125,     0.25225,     0.25325,     0.25425,     0.25526,     0.25626,     0.25726,     0.25826,     0.25926,     0.26026,     0.26126,     0.26226,     0.26326,\n",
       "           0.26426,     0.26527,     0.26627,     0.26727,     0.26827,     0.26927,     0.27027,     0.27127,     0.27227,     0.27327,     0.27427,     0.27528,     0.27628,     0.27728,     0.27828,     0.27928,     0.28028,     0.28128,     0.28228,     0.28328,     0.28428,     0.28529,     0.28629,     0.28729,\n",
       "           0.28829,     0.28929,     0.29029,     0.29129,     0.29229,     0.29329,     0.29429,      0.2953,      0.2963,      0.2973,      0.2983,      0.2993,      0.3003,      0.3013,      0.3023,      0.3033,      0.3043,     0.30531,     0.30631,     0.30731,     0.30831,     0.30931,     0.31031,     0.31131,\n",
       "           0.31231,     0.31331,     0.31431,     0.31532,     0.31632,     0.31732,     0.31832,     0.31932,     0.32032,     0.32132,     0.32232,     0.32332,     0.32432,     0.32533,     0.32633,     0.32733,     0.32833,     0.32933,     0.33033,     0.33133,     0.33233,     0.33333,     0.33433,     0.33534,\n",
       "           0.33634,     0.33734,     0.33834,     0.33934,     0.34034,     0.34134,     0.34234,     0.34334,     0.34434,     0.34535,     0.34635,     0.34735,     0.34835,     0.34935,     0.35035,     0.35135,     0.35235,     0.35335,     0.35435,     0.35536,     0.35636,     0.35736,     0.35836,     0.35936,\n",
       "           0.36036,     0.36136,     0.36236,     0.36336,     0.36436,     0.36537,     0.36637,     0.36737,     0.36837,     0.36937,     0.37037,     0.37137,     0.37237,     0.37337,     0.37437,     0.37538,     0.37638,     0.37738,     0.37838,     0.37938,     0.38038,     0.38138,     0.38238,     0.38338,\n",
       "           0.38438,     0.38539,     0.38639,     0.38739,     0.38839,     0.38939,     0.39039,     0.39139,     0.39239,     0.39339,     0.39439,      0.3954,      0.3964,      0.3974,      0.3984,      0.3994,      0.4004,      0.4014,      0.4024,      0.4034,      0.4044,     0.40541,     0.40641,     0.40741,\n",
       "           0.40841,     0.40941,     0.41041,     0.41141,     0.41241,     0.41341,     0.41441,     0.41542,     0.41642,     0.41742,     0.41842,     0.41942,     0.42042,     0.42142,     0.42242,     0.42342,     0.42442,     0.42543,     0.42643,     0.42743,     0.42843,     0.42943,     0.43043,     0.43143,\n",
       "           0.43243,     0.43343,     0.43443,     0.43544,     0.43644,     0.43744,     0.43844,     0.43944,     0.44044,     0.44144,     0.44244,     0.44344,     0.44444,     0.44545,     0.44645,     0.44745,     0.44845,     0.44945,     0.45045,     0.45145,     0.45245,     0.45345,     0.45445,     0.45546,\n",
       "           0.45646,     0.45746,     0.45846,     0.45946,     0.46046,     0.46146,     0.46246,     0.46346,     0.46446,     0.46547,     0.46647,     0.46747,     0.46847,     0.46947,     0.47047,     0.47147,     0.47247,     0.47347,     0.47447,     0.47548,     0.47648,     0.47748,     0.47848,     0.47948,\n",
       "           0.48048,     0.48148,     0.48248,     0.48348,     0.48448,     0.48549,     0.48649,     0.48749,     0.48849,     0.48949,     0.49049,     0.49149,     0.49249,     0.49349,     0.49449,      0.4955,      0.4965,      0.4975,      0.4985,      0.4995,      0.5005,      0.5015,      0.5025,      0.5035,\n",
       "            0.5045,     0.50551,     0.50651,     0.50751,     0.50851,     0.50951,     0.51051,     0.51151,     0.51251,     0.51351,     0.51451,     0.51552,     0.51652,     0.51752,     0.51852,     0.51952,     0.52052,     0.52152,     0.52252,     0.52352,     0.52452,     0.52553,     0.52653,     0.52753,\n",
       "           0.52853,     0.52953,     0.53053,     0.53153,     0.53253,     0.53353,     0.53453,     0.53554,     0.53654,     0.53754,     0.53854,     0.53954,     0.54054,     0.54154,     0.54254,     0.54354,     0.54454,     0.54555,     0.54655,     0.54755,     0.54855,     0.54955,     0.55055,     0.55155,\n",
       "           0.55255,     0.55355,     0.55455,     0.55556,     0.55656,     0.55756,     0.55856,     0.55956,     0.56056,     0.56156,     0.56256,     0.56356,     0.56456,     0.56557,     0.56657,     0.56757,     0.56857,     0.56957,     0.57057,     0.57157,     0.57257,     0.57357,     0.57457,     0.57558,\n",
       "           0.57658,     0.57758,     0.57858,     0.57958,     0.58058,     0.58158,     0.58258,     0.58358,     0.58458,     0.58559,     0.58659,     0.58759,     0.58859,     0.58959,     0.59059,     0.59159,     0.59259,     0.59359,     0.59459,      0.5956,      0.5966,      0.5976,      0.5986,      0.5996,\n",
       "            0.6006,      0.6016,      0.6026,      0.6036,      0.6046,     0.60561,     0.60661,     0.60761,     0.60861,     0.60961,     0.61061,     0.61161,     0.61261,     0.61361,     0.61461,     0.61562,     0.61662,     0.61762,     0.61862,     0.61962,     0.62062,     0.62162,     0.62262,     0.62362,\n",
       "           0.62462,     0.62563,     0.62663,     0.62763,     0.62863,     0.62963,     0.63063,     0.63163,     0.63263,     0.63363,     0.63463,     0.63564,     0.63664,     0.63764,     0.63864,     0.63964,     0.64064,     0.64164,     0.64264,     0.64364,     0.64464,     0.64565,     0.64665,     0.64765,\n",
       "           0.64865,     0.64965,     0.65065,     0.65165,     0.65265,     0.65365,     0.65465,     0.65566,     0.65666,     0.65766,     0.65866,     0.65966,     0.66066,     0.66166,     0.66266,     0.66366,     0.66466,     0.66567,     0.66667,     0.66767,     0.66867,     0.66967,     0.67067,     0.67167,\n",
       "           0.67267,     0.67367,     0.67467,     0.67568,     0.67668,     0.67768,     0.67868,     0.67968,     0.68068,     0.68168,     0.68268,     0.68368,     0.68468,     0.68569,     0.68669,     0.68769,     0.68869,     0.68969,     0.69069,     0.69169,     0.69269,     0.69369,     0.69469,      0.6957,\n",
       "            0.6967,      0.6977,      0.6987,      0.6997,      0.7007,      0.7017,      0.7027,      0.7037,      0.7047,     0.70571,     0.70671,     0.70771,     0.70871,     0.70971,     0.71071,     0.71171,     0.71271,     0.71371,     0.71471,     0.71572,     0.71672,     0.71772,     0.71872,     0.71972,\n",
       "           0.72072,     0.72172,     0.72272,     0.72372,     0.72472,     0.72573,     0.72673,     0.72773,     0.72873,     0.72973,     0.73073,     0.73173,     0.73273,     0.73373,     0.73473,     0.73574,     0.73674,     0.73774,     0.73874,     0.73974,     0.74074,     0.74174,     0.74274,     0.74374,\n",
       "           0.74474,     0.74575,     0.74675,     0.74775,     0.74875,     0.74975,     0.75075,     0.75175,     0.75275,     0.75375,     0.75475,     0.75576,     0.75676,     0.75776,     0.75876,     0.75976,     0.76076,     0.76176,     0.76276,     0.76376,     0.76476,     0.76577,     0.76677,     0.76777,\n",
       "           0.76877,     0.76977,     0.77077,     0.77177,     0.77277,     0.77377,     0.77477,     0.77578,     0.77678,     0.77778,     0.77878,     0.77978,     0.78078,     0.78178,     0.78278,     0.78378,     0.78478,     0.78579,     0.78679,     0.78779,     0.78879,     0.78979,     0.79079,     0.79179,\n",
       "           0.79279,     0.79379,     0.79479,      0.7958,      0.7968,      0.7978,      0.7988,      0.7998,      0.8008,      0.8018,      0.8028,      0.8038,      0.8048,     0.80581,     0.80681,     0.80781,     0.80881,     0.80981,     0.81081,     0.81181,     0.81281,     0.81381,     0.81481,     0.81582,\n",
       "           0.81682,     0.81782,     0.81882,     0.81982,     0.82082,     0.82182,     0.82282,     0.82382,     0.82482,     0.82583,     0.82683,     0.82783,     0.82883,     0.82983,     0.83083,     0.83183,     0.83283,     0.83383,     0.83483,     0.83584,     0.83684,     0.83784,     0.83884,     0.83984,\n",
       "           0.84084,     0.84184,     0.84284,     0.84384,     0.84484,     0.84585,     0.84685,     0.84785,     0.84885,     0.84985,     0.85085,     0.85185,     0.85285,     0.85385,     0.85485,     0.85586,     0.85686,     0.85786,     0.85886,     0.85986,     0.86086,     0.86186,     0.86286,     0.86386,\n",
       "           0.86486,     0.86587,     0.86687,     0.86787,     0.86887,     0.86987,     0.87087,     0.87187,     0.87287,     0.87387,     0.87487,     0.87588,     0.87688,     0.87788,     0.87888,     0.87988,     0.88088,     0.88188,     0.88288,     0.88388,     0.88488,     0.88589,     0.88689,     0.88789,\n",
       "           0.88889,     0.88989,     0.89089,     0.89189,     0.89289,     0.89389,     0.89489,      0.8959,      0.8969,      0.8979,      0.8989,      0.8999,      0.9009,      0.9019,      0.9029,      0.9039,      0.9049,     0.90591,     0.90691,     0.90791,     0.90891,     0.90991,     0.91091,     0.91191,\n",
       "           0.91291,     0.91391,     0.91491,     0.91592,     0.91692,     0.91792,     0.91892,     0.91992,     0.92092,     0.92192,     0.92292,     0.92392,     0.92492,     0.92593,     0.92693,     0.92793,     0.92893,     0.92993,     0.93093,     0.93193,     0.93293,     0.93393,     0.93493,     0.93594,\n",
       "           0.93694,     0.93794,     0.93894,     0.93994,     0.94094,     0.94194,     0.94294,     0.94394,     0.94494,     0.94595,     0.94695,     0.94795,     0.94895,     0.94995,     0.95095,     0.95195,     0.95295,     0.95395,     0.95495,     0.95596,     0.95696,     0.95796,     0.95896,     0.95996,\n",
       "           0.96096,     0.96196,     0.96296,     0.96396,     0.96496,     0.96597,     0.96697,     0.96797,     0.96897,     0.96997,     0.97097,     0.97197,     0.97297,     0.97397,     0.97497,     0.97598,     0.97698,     0.97798,     0.97898,     0.97998,     0.98098,     0.98198,     0.98298,     0.98398,\n",
       "           0.98498,     0.98599,     0.98699,     0.98799,     0.98899,     0.98999,     0.99099,     0.99199,     0.99299,     0.99399,     0.99499,       0.996,       0.997,       0.998,       0.999,           1]), array([[      0.994,       0.994,       0.994,       0.994,       0.994,     0.99377,       0.993,       0.992,       0.992,       0.992,       0.992,       0.992,       0.992,       0.992,       0.992,       0.992,       0.992,       0.992,       0.992,       0.992,       0.992,       0.992,       0.992,\n",
       "              0.992,       0.991,       0.991,       0.991,       0.991,       0.991,       0.991,       0.991,     0.99096,     0.99079,     0.99063,     0.99046,     0.99029,     0.99012,     0.98968,       0.989,       0.989,       0.989,       0.989,       0.989,     0.98856,     0.98799,     0.98789,\n",
       "            0.98779,     0.98769,     0.98759,     0.98749,     0.98739,     0.98729,     0.98719,     0.98708,       0.987,       0.987,       0.987,       0.987,       0.987,       0.987,       0.987,       0.987,       0.987,       0.987,       0.987,       0.987,       0.987,       0.987,       0.987,\n",
       "              0.987,       0.987,       0.987,       0.987,       0.987,       0.987,       0.987,       0.987,       0.987,       0.987,       0.987,       0.987,       0.987,       0.987,       0.987,       0.987,       0.987,       0.987,       0.987,       0.987,       0.987,     0.98699,     0.98696,\n",
       "            0.98694,     0.98692,     0.98689,     0.98687,     0.98685,     0.98683,      0.9868,     0.98678,     0.98676,     0.98674,     0.98671,     0.98669,     0.98667,     0.98664,     0.98662,      0.9866,     0.98658,     0.98655,     0.98653,     0.98651,     0.98648,     0.98646,     0.98644,\n",
       "            0.98642,     0.98639,     0.98637,     0.98635,     0.98633,      0.9863,     0.98628,     0.98626,     0.98623,     0.98621,     0.98619,     0.98617,     0.98614,     0.98612,      0.9861,     0.98607,     0.98605,     0.98603,     0.98601,     0.98598,     0.98594,     0.98591,     0.98587,\n",
       "            0.98584,      0.9858,     0.98577,     0.98573,      0.9857,     0.98566,     0.98563,     0.98559,     0.98556,     0.98553,     0.98549,     0.98546,     0.98542,     0.98539,     0.98535,     0.98532,     0.98528,     0.98525,     0.98521,     0.98518,     0.98515,     0.98511,     0.98508,\n",
       "            0.98504,     0.98501,       0.985,       0.985,       0.985,       0.985,       0.985,       0.985,       0.985,       0.985,     0.98498,     0.98482,     0.98465,     0.98449,     0.98433,     0.98417,     0.98401,       0.984,       0.984,       0.984,       0.984,       0.984,       0.984,\n",
       "              0.984,       0.984,       0.984,       0.984,       0.984,       0.984,       0.984,       0.984,       0.984,       0.984,       0.984,       0.984,       0.984,       0.984,       0.984,       0.984,       0.984,       0.984,       0.984,       0.984,       0.984,       0.984,       0.984,\n",
       "              0.984,       0.984,       0.984,       0.984,       0.984,       0.984,       0.984,       0.984,       0.984,       0.984,       0.984,       0.984,       0.984,       0.984,     0.98373,     0.98322,     0.98298,     0.98295,     0.98291,     0.98288,     0.98285,     0.98281,     0.98278,\n",
       "            0.98275,     0.98271,     0.98268,     0.98264,     0.98261,     0.98258,     0.98254,     0.98251,     0.98248,     0.98244,     0.98241,     0.98238,     0.98234,     0.98231,     0.98228,     0.98224,     0.98221,     0.98217,     0.98214,     0.98211,     0.98207,     0.98204,     0.98201,\n",
       "            0.98199,     0.98198,     0.98196,     0.98195,     0.98194,     0.98192,     0.98191,      0.9819,     0.98189,     0.98187,     0.98186,     0.98185,     0.98183,     0.98182,     0.98181,     0.98179,     0.98178,     0.98177,     0.98176,     0.98174,     0.98173,     0.98172,      0.9817,\n",
       "            0.98169,     0.98168,     0.98166,     0.98165,     0.98164,     0.98162,     0.98161,      0.9816,     0.98159,     0.98157,     0.98156,     0.98155,     0.98153,     0.98152,     0.98151,     0.98149,     0.98148,     0.98147,     0.98146,     0.98144,     0.98143,     0.98142,      0.9814,\n",
       "            0.98139,     0.98138,     0.98136,     0.98135,     0.98134,     0.98133,     0.98131,      0.9813,     0.98129,     0.98127,     0.98126,     0.98125,     0.98123,     0.98122,     0.98121,      0.9812,     0.98118,     0.98117,     0.98116,     0.98114,     0.98113,     0.98112,      0.9811,\n",
       "            0.98109,     0.98108,     0.98107,     0.98105,     0.98104,     0.98103,     0.98101,       0.981,     0.98099,     0.98097,     0.98096,     0.98094,     0.98093,     0.98092,      0.9809,     0.98089,     0.98087,     0.98086,     0.98084,     0.98083,     0.98082,      0.9808,     0.98079,\n",
       "            0.98077,     0.98076,     0.98074,     0.98073,     0.98072,      0.9807,     0.98069,     0.98067,     0.98066,     0.98065,     0.98063,     0.98062,      0.9806,     0.98059,     0.98057,     0.98056,     0.98055,     0.98053,     0.98052,      0.9805,     0.98049,     0.98048,     0.98046,\n",
       "            0.98045,     0.98043,     0.98042,      0.9804,     0.98039,     0.98038,     0.98036,     0.98035,     0.98033,     0.98032,     0.98031,     0.98029,     0.98028,     0.98026,     0.98025,     0.98023,     0.98022,     0.98021,     0.98019,     0.98018,     0.98016,     0.98015,     0.98013,\n",
       "            0.98012,     0.98011,     0.98009,     0.98008,     0.98006,     0.98005,     0.98004,     0.98002,     0.98001,     0.97999,     0.97996,     0.97993,     0.97991,     0.97988,     0.97985,     0.97982,      0.9798,     0.97977,     0.97974,     0.97971,     0.97969,     0.97966,     0.97963,\n",
       "            0.97961,     0.97958,     0.97955,     0.97952,      0.9795,     0.97947,     0.97944,     0.97942,     0.97939,     0.97936,     0.97933,     0.97931,     0.97928,     0.97925,     0.97923,      0.9792,     0.97917,     0.97914,     0.97912,     0.97909,     0.97906,     0.97904,     0.97901,\n",
       "            0.97794,     0.97786,     0.97777,     0.97769,      0.9776,     0.97752,     0.97743,     0.97734,     0.97726,     0.97717,     0.97709,       0.977,     0.97695,      0.9769,     0.97685,      0.9768,     0.97675,     0.97671,     0.97666,     0.97661,     0.97656,     0.97651,     0.97646,\n",
       "            0.97641,     0.97636,     0.97631,     0.97626,     0.97621,     0.97616,     0.97611,     0.97606,     0.97601,     0.97498,     0.97496,     0.97494,     0.97492,     0.97489,     0.97487,     0.97485,     0.97483,     0.97481,     0.97478,     0.97476,     0.97474,     0.97472,     0.97469,\n",
       "            0.97467,     0.97465,     0.97463,     0.97461,     0.97458,     0.97456,     0.97454,     0.97452,     0.97449,     0.97447,     0.97445,     0.97443,      0.9744,     0.97438,     0.97436,     0.97434,     0.97432,     0.97429,     0.97427,     0.97425,     0.97423,      0.9742,     0.97418,\n",
       "            0.97416,     0.97414,     0.97411,     0.97409,     0.97407,     0.97405,     0.97403,       0.974,     0.97393,     0.97385,     0.97378,      0.9737,     0.97362,     0.97354,     0.97346,     0.97338,      0.9733,     0.97322,     0.97315,     0.97307,     0.97298,     0.97285,     0.97272,\n",
       "             0.9726,     0.97247,     0.97234,     0.97221,     0.97208,     0.97199,     0.97195,     0.97191,     0.97187,     0.97183,     0.97179,     0.97175,     0.97172,     0.97168,     0.97164,      0.9716,     0.97156,     0.97152,     0.97148,     0.97144,     0.97141,     0.97137,     0.97133,\n",
       "            0.97129,     0.97125,     0.97121,     0.97117,     0.97114,      0.9711,     0.97106,     0.97102,     0.97098,     0.97093,     0.97089,     0.97085,      0.9708,     0.97076,     0.97072,     0.97067,     0.97063,     0.97059,     0.97054,      0.9705,     0.97045,     0.97041,     0.97037,\n",
       "            0.97032,     0.97028,     0.97024,     0.97019,     0.97015,     0.97011,     0.97006,     0.97002,     0.96995,     0.96985,     0.96976,     0.96967,     0.96957,     0.96948,     0.96939,     0.96929,      0.9692,     0.96911,     0.96901,     0.96896,     0.96892,     0.96888,     0.96883,\n",
       "            0.96879,     0.96875,      0.9687,     0.96866,     0.96861,     0.96857,     0.96853,     0.96848,     0.96844,      0.9684,     0.96835,     0.96831,     0.96827,     0.96822,     0.96818,     0.96813,     0.96809,     0.96805,       0.968,     0.96787,     0.96772,     0.96757,     0.96743,\n",
       "            0.96728,     0.96713,       0.967,       0.967,       0.967,       0.967,       0.967,       0.967,       0.967,       0.967,       0.967,       0.967,       0.967,       0.967,       0.967,       0.967,       0.967,       0.967,       0.967,       0.967,       0.967,       0.967,       0.967,\n",
       "              0.967,       0.967,     0.96695,     0.96686,     0.96678,      0.9667,     0.96662,     0.96654,     0.96645,     0.96637,     0.96629,     0.96621,     0.96613,     0.96604,     0.96597,     0.96589,     0.96581,     0.96574,     0.96566,     0.96559,     0.96551,     0.96543,     0.96536,\n",
       "            0.96528,     0.96521,     0.96513,     0.96505,     0.96497,     0.96489,      0.9648,     0.96471,     0.96462,     0.96453,     0.96444,     0.96435,     0.96426,     0.96417,     0.96408,     0.96399,     0.96378,     0.96358,     0.96337,     0.96317,     0.96299,     0.96294,     0.96289,\n",
       "            0.96283,     0.96278,     0.96273,     0.96267,     0.96262,     0.96257,     0.96252,     0.96246,     0.96241,     0.96236,     0.96231,     0.96225,      0.9622,     0.96215,      0.9621,     0.96204,     0.96199,     0.96192,     0.96185,     0.96178,     0.96172,     0.96165,     0.96158,\n",
       "            0.96151,     0.96144,     0.96137,     0.96131,     0.96124,     0.96117,      0.9611,     0.96103,     0.96073,     0.96022,        0.96,        0.96,        0.96,        0.96,        0.96,     0.95999,     0.95992,     0.95986,      0.9598,     0.95974,     0.95968,     0.95961,     0.95955,\n",
       "            0.95949,     0.95943,     0.95937,      0.9593,     0.95924,     0.95918,     0.95912,     0.95905,     0.95898,     0.95884,     0.95869,     0.95854,      0.9584,     0.95825,      0.9581,     0.95792,     0.95762,     0.95733,     0.95704,      0.9564,     0.95595,     0.95582,     0.95569,\n",
       "            0.95556,     0.95544,     0.95531,     0.95518,     0.95505,     0.95489,      0.9547,     0.95451,     0.95433,     0.95414,      0.9539,     0.95349,     0.95308,     0.95245,     0.95196,     0.95185,     0.95173,     0.95162,     0.95151,     0.95139,     0.95128,     0.95116,     0.95105,\n",
       "            0.95094,     0.95082,     0.95071,      0.9506,     0.95048,     0.95037,     0.95025,     0.95014,     0.95003,     0.94921,     0.94691,     0.94662,     0.94632,     0.94603,     0.94491,     0.94468,     0.94445,     0.94422,       0.944,      0.9439,     0.94379,     0.94369,     0.94359,\n",
       "            0.94349,     0.94338,     0.94328,     0.94318,     0.94308,     0.94291,     0.94257,     0.94223,     0.94131,     0.94091,     0.94081,     0.94071,     0.94061,      0.9405,      0.9404,      0.9403,      0.9402,     0.94009,     0.93994,     0.93925,     0.93771,     0.93633,     0.93454,\n",
       "            0.93393,     0.93358,     0.93324,     0.93141,     0.93018,     0.92944,     0.92888,     0.92853,     0.92819,     0.92682,     0.92641,       0.926,     0.92299,     0.92265,     0.92231,     0.92181,     0.92059,     0.91993,     0.91941,     0.91861,     0.91771,      0.9173,     0.91646,\n",
       "             0.9152,     0.90836,     0.90744,     0.90588,     0.90553,     0.90519,     0.90411,     0.90303,     0.89801,     0.89596,     0.89473,     0.89421,      0.8914,     0.88776,     0.88557,     0.88366,     0.87861,     0.87564,     0.87513,     0.86573,     0.86441,     0.85736,     0.84931,\n",
       "            0.83926,     0.82921,     0.82316,     0.81611,     0.80406,     0.79601,     0.78296,     0.77191,     0.76486,     0.75381,     0.74076,     0.72971,     0.71366,     0.69361,     0.67756,     0.65651,     0.65023,      0.6257,     0.60836,     0.59315,     0.57813,      0.5466,     0.53416,\n",
       "            0.50455,     0.48706,       0.474,     0.44948,     0.41995,     0.40385,      0.3769,     0.36575,     0.32885,     0.31065,      0.2933,     0.26355,     0.23475,     0.21645,      0.1917,     0.17935,      0.1623,     0.15213,      0.1362,       0.114,      0.1071,    0.092054,    0.071502,\n",
       "           0.062954,    0.053904,    0.047951,    0.047268,    0.040754,    0.033704,    0.030327,    0.029302,    0.025277,    0.023501,    0.022453,    0.020601,    0.020088,    0.018152,    0.016627,    0.014602,    0.010577,   0.0095516,   0.0088948,    0.008667,   0.0084392,   0.0082114,   0.0069264,\n",
       "          0.0059343,   0.0052509,   0.0047405,   0.0043305,   0.0036026,   0.0022763,   0.0017005,   0.0012905,           0,           0,           0,           0,           0,           0,           0,           0,           0,           0,           0,           0,           0,           0,           0,\n",
       "                  0,           0,           0,           0,           0,           0,           0,           0,           0,           0,           0,           0,           0,           0,           0,           0,           0,           0,           0,           0,           0,           0,           0,\n",
       "                  0,           0,           0,           0,           0,           0,           0,           0,           0,           0,           0]]), 'Confidence', 'Recall'], [array([          0,    0.001001,    0.002002,    0.003003,    0.004004,    0.005005,    0.006006,    0.007007,    0.008008,    0.009009,     0.01001,    0.011011,    0.012012,    0.013013,    0.014014,    0.015015,    0.016016,    0.017017,    0.018018,    0.019019,     0.02002,    0.021021,    0.022022,    0.023023,\n",
       "          0.024024,    0.025025,    0.026026,    0.027027,    0.028028,    0.029029,     0.03003,    0.031031,    0.032032,    0.033033,    0.034034,    0.035035,    0.036036,    0.037037,    0.038038,    0.039039,     0.04004,    0.041041,    0.042042,    0.043043,    0.044044,    0.045045,    0.046046,    0.047047,\n",
       "          0.048048,    0.049049,     0.05005,    0.051051,    0.052052,    0.053053,    0.054054,    0.055055,    0.056056,    0.057057,    0.058058,    0.059059,     0.06006,    0.061061,    0.062062,    0.063063,    0.064064,    0.065065,    0.066066,    0.067067,    0.068068,    0.069069,     0.07007,    0.071071,\n",
       "          0.072072,    0.073073,    0.074074,    0.075075,    0.076076,    0.077077,    0.078078,    0.079079,     0.08008,    0.081081,    0.082082,    0.083083,    0.084084,    0.085085,    0.086086,    0.087087,    0.088088,    0.089089,     0.09009,    0.091091,    0.092092,    0.093093,    0.094094,    0.095095,\n",
       "          0.096096,    0.097097,    0.098098,    0.099099,      0.1001,      0.1011,      0.1021,      0.1031,      0.1041,     0.10511,     0.10611,     0.10711,     0.10811,     0.10911,     0.11011,     0.11111,     0.11211,     0.11311,     0.11411,     0.11512,     0.11612,     0.11712,     0.11812,     0.11912,\n",
       "           0.12012,     0.12112,     0.12212,     0.12312,     0.12412,     0.12513,     0.12613,     0.12713,     0.12813,     0.12913,     0.13013,     0.13113,     0.13213,     0.13313,     0.13413,     0.13514,     0.13614,     0.13714,     0.13814,     0.13914,     0.14014,     0.14114,     0.14214,     0.14314,\n",
       "           0.14414,     0.14515,     0.14615,     0.14715,     0.14815,     0.14915,     0.15015,     0.15115,     0.15215,     0.15315,     0.15415,     0.15516,     0.15616,     0.15716,     0.15816,     0.15916,     0.16016,     0.16116,     0.16216,     0.16316,     0.16416,     0.16517,     0.16617,     0.16717,\n",
       "           0.16817,     0.16917,     0.17017,     0.17117,     0.17217,     0.17317,     0.17417,     0.17518,     0.17618,     0.17718,     0.17818,     0.17918,     0.18018,     0.18118,     0.18218,     0.18318,     0.18418,     0.18519,     0.18619,     0.18719,     0.18819,     0.18919,     0.19019,     0.19119,\n",
       "           0.19219,     0.19319,     0.19419,      0.1952,      0.1962,      0.1972,      0.1982,      0.1992,      0.2002,      0.2012,      0.2022,      0.2032,      0.2042,     0.20521,     0.20621,     0.20721,     0.20821,     0.20921,     0.21021,     0.21121,     0.21221,     0.21321,     0.21421,     0.21522,\n",
       "           0.21622,     0.21722,     0.21822,     0.21922,     0.22022,     0.22122,     0.22222,     0.22322,     0.22422,     0.22523,     0.22623,     0.22723,     0.22823,     0.22923,     0.23023,     0.23123,     0.23223,     0.23323,     0.23423,     0.23524,     0.23624,     0.23724,     0.23824,     0.23924,\n",
       "           0.24024,     0.24124,     0.24224,     0.24324,     0.24424,     0.24525,     0.24625,     0.24725,     0.24825,     0.24925,     0.25025,     0.25125,     0.25225,     0.25325,     0.25425,     0.25526,     0.25626,     0.25726,     0.25826,     0.25926,     0.26026,     0.26126,     0.26226,     0.26326,\n",
       "           0.26426,     0.26527,     0.26627,     0.26727,     0.26827,     0.26927,     0.27027,     0.27127,     0.27227,     0.27327,     0.27427,     0.27528,     0.27628,     0.27728,     0.27828,     0.27928,     0.28028,     0.28128,     0.28228,     0.28328,     0.28428,     0.28529,     0.28629,     0.28729,\n",
       "           0.28829,     0.28929,     0.29029,     0.29129,     0.29229,     0.29329,     0.29429,      0.2953,      0.2963,      0.2973,      0.2983,      0.2993,      0.3003,      0.3013,      0.3023,      0.3033,      0.3043,     0.30531,     0.30631,     0.30731,     0.30831,     0.30931,     0.31031,     0.31131,\n",
       "           0.31231,     0.31331,     0.31431,     0.31532,     0.31632,     0.31732,     0.31832,     0.31932,     0.32032,     0.32132,     0.32232,     0.32332,     0.32432,     0.32533,     0.32633,     0.32733,     0.32833,     0.32933,     0.33033,     0.33133,     0.33233,     0.33333,     0.33433,     0.33534,\n",
       "           0.33634,     0.33734,     0.33834,     0.33934,     0.34034,     0.34134,     0.34234,     0.34334,     0.34434,     0.34535,     0.34635,     0.34735,     0.34835,     0.34935,     0.35035,     0.35135,     0.35235,     0.35335,     0.35435,     0.35536,     0.35636,     0.35736,     0.35836,     0.35936,\n",
       "           0.36036,     0.36136,     0.36236,     0.36336,     0.36436,     0.36537,     0.36637,     0.36737,     0.36837,     0.36937,     0.37037,     0.37137,     0.37237,     0.37337,     0.37437,     0.37538,     0.37638,     0.37738,     0.37838,     0.37938,     0.38038,     0.38138,     0.38238,     0.38338,\n",
       "           0.38438,     0.38539,     0.38639,     0.38739,     0.38839,     0.38939,     0.39039,     0.39139,     0.39239,     0.39339,     0.39439,      0.3954,      0.3964,      0.3974,      0.3984,      0.3994,      0.4004,      0.4014,      0.4024,      0.4034,      0.4044,     0.40541,     0.40641,     0.40741,\n",
       "           0.40841,     0.40941,     0.41041,     0.41141,     0.41241,     0.41341,     0.41441,     0.41542,     0.41642,     0.41742,     0.41842,     0.41942,     0.42042,     0.42142,     0.42242,     0.42342,     0.42442,     0.42543,     0.42643,     0.42743,     0.42843,     0.42943,     0.43043,     0.43143,\n",
       "           0.43243,     0.43343,     0.43443,     0.43544,     0.43644,     0.43744,     0.43844,     0.43944,     0.44044,     0.44144,     0.44244,     0.44344,     0.44444,     0.44545,     0.44645,     0.44745,     0.44845,     0.44945,     0.45045,     0.45145,     0.45245,     0.45345,     0.45445,     0.45546,\n",
       "           0.45646,     0.45746,     0.45846,     0.45946,     0.46046,     0.46146,     0.46246,     0.46346,     0.46446,     0.46547,     0.46647,     0.46747,     0.46847,     0.46947,     0.47047,     0.47147,     0.47247,     0.47347,     0.47447,     0.47548,     0.47648,     0.47748,     0.47848,     0.47948,\n",
       "           0.48048,     0.48148,     0.48248,     0.48348,     0.48448,     0.48549,     0.48649,     0.48749,     0.48849,     0.48949,     0.49049,     0.49149,     0.49249,     0.49349,     0.49449,      0.4955,      0.4965,      0.4975,      0.4985,      0.4995,      0.5005,      0.5015,      0.5025,      0.5035,\n",
       "            0.5045,     0.50551,     0.50651,     0.50751,     0.50851,     0.50951,     0.51051,     0.51151,     0.51251,     0.51351,     0.51451,     0.51552,     0.51652,     0.51752,     0.51852,     0.51952,     0.52052,     0.52152,     0.52252,     0.52352,     0.52452,     0.52553,     0.52653,     0.52753,\n",
       "           0.52853,     0.52953,     0.53053,     0.53153,     0.53253,     0.53353,     0.53453,     0.53554,     0.53654,     0.53754,     0.53854,     0.53954,     0.54054,     0.54154,     0.54254,     0.54354,     0.54454,     0.54555,     0.54655,     0.54755,     0.54855,     0.54955,     0.55055,     0.55155,\n",
       "           0.55255,     0.55355,     0.55455,     0.55556,     0.55656,     0.55756,     0.55856,     0.55956,     0.56056,     0.56156,     0.56256,     0.56356,     0.56456,     0.56557,     0.56657,     0.56757,     0.56857,     0.56957,     0.57057,     0.57157,     0.57257,     0.57357,     0.57457,     0.57558,\n",
       "           0.57658,     0.57758,     0.57858,     0.57958,     0.58058,     0.58158,     0.58258,     0.58358,     0.58458,     0.58559,     0.58659,     0.58759,     0.58859,     0.58959,     0.59059,     0.59159,     0.59259,     0.59359,     0.59459,      0.5956,      0.5966,      0.5976,      0.5986,      0.5996,\n",
       "            0.6006,      0.6016,      0.6026,      0.6036,      0.6046,     0.60561,     0.60661,     0.60761,     0.60861,     0.60961,     0.61061,     0.61161,     0.61261,     0.61361,     0.61461,     0.61562,     0.61662,     0.61762,     0.61862,     0.61962,     0.62062,     0.62162,     0.62262,     0.62362,\n",
       "           0.62462,     0.62563,     0.62663,     0.62763,     0.62863,     0.62963,     0.63063,     0.63163,     0.63263,     0.63363,     0.63463,     0.63564,     0.63664,     0.63764,     0.63864,     0.63964,     0.64064,     0.64164,     0.64264,     0.64364,     0.64464,     0.64565,     0.64665,     0.64765,\n",
       "           0.64865,     0.64965,     0.65065,     0.65165,     0.65265,     0.65365,     0.65465,     0.65566,     0.65666,     0.65766,     0.65866,     0.65966,     0.66066,     0.66166,     0.66266,     0.66366,     0.66466,     0.66567,     0.66667,     0.66767,     0.66867,     0.66967,     0.67067,     0.67167,\n",
       "           0.67267,     0.67367,     0.67467,     0.67568,     0.67668,     0.67768,     0.67868,     0.67968,     0.68068,     0.68168,     0.68268,     0.68368,     0.68468,     0.68569,     0.68669,     0.68769,     0.68869,     0.68969,     0.69069,     0.69169,     0.69269,     0.69369,     0.69469,      0.6957,\n",
       "            0.6967,      0.6977,      0.6987,      0.6997,      0.7007,      0.7017,      0.7027,      0.7037,      0.7047,     0.70571,     0.70671,     0.70771,     0.70871,     0.70971,     0.71071,     0.71171,     0.71271,     0.71371,     0.71471,     0.71572,     0.71672,     0.71772,     0.71872,     0.71972,\n",
       "           0.72072,     0.72172,     0.72272,     0.72372,     0.72472,     0.72573,     0.72673,     0.72773,     0.72873,     0.72973,     0.73073,     0.73173,     0.73273,     0.73373,     0.73473,     0.73574,     0.73674,     0.73774,     0.73874,     0.73974,     0.74074,     0.74174,     0.74274,     0.74374,\n",
       "           0.74474,     0.74575,     0.74675,     0.74775,     0.74875,     0.74975,     0.75075,     0.75175,     0.75275,     0.75375,     0.75475,     0.75576,     0.75676,     0.75776,     0.75876,     0.75976,     0.76076,     0.76176,     0.76276,     0.76376,     0.76476,     0.76577,     0.76677,     0.76777,\n",
       "           0.76877,     0.76977,     0.77077,     0.77177,     0.77277,     0.77377,     0.77477,     0.77578,     0.77678,     0.77778,     0.77878,     0.77978,     0.78078,     0.78178,     0.78278,     0.78378,     0.78478,     0.78579,     0.78679,     0.78779,     0.78879,     0.78979,     0.79079,     0.79179,\n",
       "           0.79279,     0.79379,     0.79479,      0.7958,      0.7968,      0.7978,      0.7988,      0.7998,      0.8008,      0.8018,      0.8028,      0.8038,      0.8048,     0.80581,     0.80681,     0.80781,     0.80881,     0.80981,     0.81081,     0.81181,     0.81281,     0.81381,     0.81481,     0.81582,\n",
       "           0.81682,     0.81782,     0.81882,     0.81982,     0.82082,     0.82182,     0.82282,     0.82382,     0.82482,     0.82583,     0.82683,     0.82783,     0.82883,     0.82983,     0.83083,     0.83183,     0.83283,     0.83383,     0.83483,     0.83584,     0.83684,     0.83784,     0.83884,     0.83984,\n",
       "           0.84084,     0.84184,     0.84284,     0.84384,     0.84484,     0.84585,     0.84685,     0.84785,     0.84885,     0.84985,     0.85085,     0.85185,     0.85285,     0.85385,     0.85485,     0.85586,     0.85686,     0.85786,     0.85886,     0.85986,     0.86086,     0.86186,     0.86286,     0.86386,\n",
       "           0.86486,     0.86587,     0.86687,     0.86787,     0.86887,     0.86987,     0.87087,     0.87187,     0.87287,     0.87387,     0.87487,     0.87588,     0.87688,     0.87788,     0.87888,     0.87988,     0.88088,     0.88188,     0.88288,     0.88388,     0.88488,     0.88589,     0.88689,     0.88789,\n",
       "           0.88889,     0.88989,     0.89089,     0.89189,     0.89289,     0.89389,     0.89489,      0.8959,      0.8969,      0.8979,      0.8989,      0.8999,      0.9009,      0.9019,      0.9029,      0.9039,      0.9049,     0.90591,     0.90691,     0.90791,     0.90891,     0.90991,     0.91091,     0.91191,\n",
       "           0.91291,     0.91391,     0.91491,     0.91592,     0.91692,     0.91792,     0.91892,     0.91992,     0.92092,     0.92192,     0.92292,     0.92392,     0.92492,     0.92593,     0.92693,     0.92793,     0.92893,     0.92993,     0.93093,     0.93193,     0.93293,     0.93393,     0.93493,     0.93594,\n",
       "           0.93694,     0.93794,     0.93894,     0.93994,     0.94094,     0.94194,     0.94294,     0.94394,     0.94494,     0.94595,     0.94695,     0.94795,     0.94895,     0.94995,     0.95095,     0.95195,     0.95295,     0.95395,     0.95495,     0.95596,     0.95696,     0.95796,     0.95896,     0.95996,\n",
       "           0.96096,     0.96196,     0.96296,     0.96396,     0.96496,     0.96597,     0.96697,     0.96797,     0.96897,     0.96997,     0.97097,     0.97197,     0.97297,     0.97397,     0.97497,     0.97598,     0.97698,     0.97798,     0.97898,     0.97998,     0.98098,     0.98198,     0.98298,     0.98398,\n",
       "           0.98498,     0.98599,     0.98699,     0.98799,     0.98899,     0.98999,     0.99099,     0.99199,     0.99299,     0.99399,     0.99499,       0.996,       0.997,       0.998,       0.999,           1]), array([[          1,           1,           1,           1,           1,           1,           1,           1,           1,           1,           1,           1,           1,           1,           1,           1,           1,           1,           1,           1,           1,           1,           1,\n",
       "                  1,           1,           1,           1,           1,           1,           1,           1,           1,           1,           1,           1,           1,           1,           1,           1,           1,           1,           1,           1,           1,           1,           1,\n",
       "                  1,           1,           1,           1,           1,           1,           1,           1,           1,           1,           1,           1,           1,           1,           1,           1,           1,           1,           1,           1,           1,           1,           1,\n",
       "                  1,           1,           1,           1,           1,           1,           1,           1,           1,           1,           1,           1,           1,           1,           1,           1,           1,           1,           1,           1,           1,           1,           1,\n",
       "                  1,           1,           1,           1,           1,           1,           1,           1,           1,           1,           1,           1,           1,           1,           1,           1,           1,           1,           1,           1,           1,           1,     0.99896,\n",
       "            0.99896,     0.99896,     0.99896,     0.99896,     0.99896,     0.99896,     0.99896,     0.99896,     0.99896,     0.99896,     0.99896,     0.99896,     0.99896,     0.99896,     0.99896,     0.99896,     0.99896,     0.99896,     0.99896,     0.99896,     0.99896,     0.99896,     0.99896,\n",
       "            0.99896,     0.99896,     0.99896,     0.99896,     0.99896,     0.99896,     0.99896,     0.99896,     0.99896,     0.99896,     0.99896,     0.99896,     0.99896,     0.99896,     0.99896,     0.99896,     0.99896,     0.99896,     0.99896,     0.99896,     0.99896,     0.99896,     0.99896,\n",
       "            0.99896,     0.99896,     0.99896,     0.99896,     0.99896,     0.99896,     0.99896,     0.99896,     0.99896,     0.99896,     0.99896,     0.99896,     0.99896,     0.99896,     0.99896,     0.99896,     0.99896,     0.99896,     0.99896,     0.99896,     0.99896,     0.99896,     0.99896,\n",
       "            0.99896,     0.99896,     0.99896,     0.99896,     0.99896,     0.99896,     0.99896,     0.99896,     0.99896,     0.99896,     0.99896,     0.99896,     0.99896,     0.99896,     0.99896,     0.99896,     0.99896,     0.99896,     0.99896,     0.99896,     0.99896,     0.99896,     0.99896,\n",
       "            0.99896,     0.99896,     0.99896,     0.99896,     0.99896,     0.99896,     0.99896,     0.99896,     0.99896,     0.99896,     0.99896,     0.99896,     0.99896,     0.99896,     0.99896,     0.99896,     0.99896,     0.99896,     0.99896,     0.99896,     0.99896,     0.99896,     0.99896,\n",
       "            0.99896,     0.99896,     0.99896,     0.99896,     0.99896,     0.99896,     0.99896,     0.99896,     0.99896,     0.99896,     0.99896,     0.99896,     0.99896,     0.99896,     0.99896,     0.99896,     0.99896,     0.99896,     0.99896,     0.99896,     0.99896,     0.99896,     0.99896,\n",
       "            0.99896,     0.99896,     0.99896,     0.99896,     0.99896,     0.99896,     0.99896,     0.99896,     0.99896,     0.99896,     0.99896,     0.99896,     0.99896,     0.99896,     0.99896,     0.99896,     0.99896,     0.99896,     0.99896,     0.99896,     0.99896,     0.99896,     0.99896,\n",
       "            0.99896,     0.99896,     0.99896,     0.99896,     0.99896,     0.99896,     0.99896,     0.99896,     0.99896,     0.99896,     0.99896,     0.99896,     0.99896,     0.99896,     0.99896,     0.99896,     0.99896,     0.99896,     0.99896,     0.99896,     0.99896,     0.99896,     0.99896,\n",
       "            0.99896,     0.99896,     0.99896,     0.99896,     0.99896,     0.99896,     0.99896,     0.99896,     0.99896,     0.99896,     0.99896,     0.99896,     0.99896,     0.99896,     0.99896,     0.99896,     0.99896,     0.99896,     0.99896,     0.99896,     0.99896,     0.99896,     0.99896,\n",
       "            0.99896,     0.99896,     0.99896,     0.99896,     0.99896,     0.99896,     0.99896,     0.99896,     0.99896,     0.99896,     0.99896,     0.99896,     0.99896,     0.99896,     0.99896,     0.99896,     0.99896,     0.99896,     0.99896,     0.99896,     0.99896,     0.99896,     0.99896,\n",
       "            0.99896,     0.99896,     0.99896,     0.99896,     0.99896,     0.99896,     0.99896,     0.99896,     0.99896,     0.99896,     0.99896,     0.99896,     0.99896,     0.99896,     0.99896,     0.99896,     0.99896,     0.99896,     0.99896,     0.99896,     0.99896,     0.99896,     0.99896,\n",
       "            0.99896,     0.99896,     0.99896,     0.99896,     0.99896,     0.99896,     0.99896,     0.99896,     0.99896,     0.99896,     0.99896,     0.99896,     0.99896,     0.99896,     0.99896,     0.99896,     0.99896,     0.99896,     0.99896,     0.99896,     0.99896,     0.99896,     0.99896,\n",
       "            0.99896,     0.99896,     0.99896,     0.99896,     0.99896,     0.99896,     0.99896,     0.99896,     0.99896,     0.99896,     0.99896,     0.99896,     0.99896,     0.99896,     0.99896,     0.99896,     0.99896,     0.99896,     0.99896,     0.99896,     0.99896,     0.99896,     0.99896,\n",
       "            0.99896,     0.99896,     0.99896,     0.99896,     0.99896,     0.99896,     0.99896,     0.99896,     0.99896,     0.99896,     0.99896,     0.99896,     0.99896,     0.99896,     0.99896,     0.99896,     0.99896,     0.99896,     0.99896,     0.99896,     0.99896,     0.99896,     0.99896,\n",
       "            0.99896,     0.99896,     0.99896,     0.99896,     0.99896,     0.99896,     0.99896,     0.99896,     0.99896,     0.99896,     0.99896,     0.99896,     0.99896,     0.99896,     0.99896,     0.99896,     0.99896,     0.99896,     0.99896,     0.99896,     0.99896,     0.99896,     0.99896,\n",
       "            0.99896,     0.99896,     0.99896,     0.99896,     0.99896,     0.99896,     0.99896,     0.99896,     0.99896,     0.99896,     0.99896,     0.99896,     0.99896,     0.99896,     0.99896,     0.99896,     0.99896,     0.99896,     0.99896,     0.99896,     0.99896,     0.99896,     0.99896,\n",
       "            0.99896,     0.99896,     0.99896,     0.99896,     0.99896,     0.99896,     0.99896,     0.99896,     0.99896,     0.99896,     0.99896,     0.99896,     0.99896,     0.99896,     0.99896,     0.99896,     0.99896,     0.99896,     0.99896,     0.99896,     0.99896,     0.99896,     0.99896,\n",
       "            0.99896,     0.99896,     0.99896,     0.99896,     0.99896,     0.99896,     0.99896,     0.99896,     0.99896,     0.99896,     0.99896,     0.99896,     0.99896,     0.99896,     0.99896,     0.99896,     0.99896,     0.99896,     0.99896,     0.99896,     0.99896,     0.99896,     0.99896,\n",
       "            0.99896,     0.99896,     0.99896,     0.99896,     0.99896,     0.99896,     0.99896,     0.99896,     0.99896,     0.99896,     0.99896,     0.99896,     0.99896,     0.99896,     0.99896,     0.99896,     0.99896,     0.99896,     0.99896,     0.99896,     0.99896,     0.99896,     0.99896,\n",
       "            0.99896,     0.99896,     0.99896,     0.99896,     0.99896,     0.99896,     0.99896,     0.99896,     0.99896,     0.99896,     0.99896,     0.99896,     0.99896,     0.99896,     0.99896,     0.99896,     0.99896,     0.99896,     0.99896,     0.99896,     0.99896,     0.99896,     0.99896,\n",
       "            0.99896,     0.99896,     0.99896,     0.99896,     0.99896,     0.99896,     0.99896,     0.99896,     0.99896,     0.99896,     0.99896,     0.99896,     0.99896,     0.99896,     0.99896,     0.99896,     0.99896,     0.99896,     0.99896,     0.99896,     0.99896,     0.99896,     0.99896,\n",
       "            0.99896,     0.99896,     0.99896,     0.99896,     0.99896,     0.99896,     0.99896,     0.99896,     0.99896,     0.99896,     0.99896,     0.99896,     0.99896,     0.99896,     0.99896,     0.99896,     0.99896,     0.99896,     0.99896,     0.99896,     0.99896,     0.99896,     0.99896,\n",
       "            0.99896,     0.99896,     0.99896,     0.99896,     0.99896,     0.99896,     0.99896,     0.99896,     0.99896,     0.99896,     0.99896,     0.99896,     0.99896,     0.99896,     0.99896,     0.99896,     0.99896,     0.99896,     0.99896,     0.99896,     0.99896,     0.99896,     0.99896,\n",
       "            0.99896,     0.99896,     0.99896,     0.99896,     0.99896,     0.99896,     0.99896,     0.99896,     0.99896,     0.99896,     0.99896,     0.99896,     0.99896,     0.99896,     0.99896,     0.99896,     0.99896,     0.99896,     0.99896,     0.99896,     0.99896,     0.99896,     0.99896,\n",
       "            0.99896,     0.99896,     0.99896,     0.99896,     0.99896,     0.99896,     0.99896,     0.99896,     0.99896,     0.99896,     0.99896,     0.99896,     0.99896,     0.99896,     0.99896,     0.99896,     0.99896,     0.99896,     0.99896,     0.99896,     0.99896,     0.99896,     0.99896,\n",
       "            0.99896,     0.99896,     0.99896,     0.99896,     0.99896,     0.99896,     0.99896,     0.99896,     0.99896,     0.99896,     0.99896,     0.99896,     0.99896,     0.99896,     0.99896,     0.99896,     0.99896,     0.99896,     0.99896,     0.99896,     0.99896,     0.99896,     0.99896,\n",
       "            0.99896,     0.99896,     0.99896,     0.99896,     0.99896,     0.99896,     0.99896,     0.99896,     0.99896,     0.99896,     0.99896,     0.99896,     0.99896,     0.99896,     0.99896,     0.99896,     0.99896,     0.99896,     0.99896,     0.99896,     0.99896,     0.99896,     0.99896,\n",
       "            0.99896,     0.99896,     0.99896,     0.99896,     0.99896,     0.99896,     0.99896,     0.99896,     0.99896,     0.99896,     0.99896,     0.99896,     0.99896,     0.99896,     0.99896,     0.99896,     0.99896,     0.99896,     0.99896,     0.99896,     0.99896,     0.99896,     0.99896,\n",
       "            0.99896,     0.99896,     0.99896,     0.99896,     0.99896,     0.99896,     0.99896,     0.99896,     0.99896,     0.99896,     0.99896,     0.99896,     0.99896,     0.99896,     0.99896,     0.99896,     0.99896,     0.99896,     0.99896,     0.99896,     0.99896,     0.99896,     0.99896,\n",
       "            0.99896,     0.99896,     0.99896,     0.99896,     0.99896,     0.99896,     0.99896,     0.99896,     0.99896,     0.99896,     0.99896,     0.99896,     0.99896,     0.99896,     0.99896,     0.99896,     0.99896,     0.99896,     0.99896,     0.99896,     0.99896,     0.99896,     0.99896,\n",
       "            0.99896,     0.99896,     0.99896,     0.99896,     0.99896,     0.99896,     0.99896,     0.99896,     0.99896,     0.99896,     0.99896,     0.99896,     0.99896,     0.99896,     0.99896,     0.99896,     0.99896,     0.99896,     0.99896,     0.99896,     0.99896,     0.99896,     0.99896,\n",
       "            0.99896,     0.99896,     0.99896,     0.99896,     0.99896,     0.99896,     0.99896,     0.99896,     0.99896,     0.99896,     0.99896,     0.99896,     0.99896,     0.99896,     0.99896,     0.99896,     0.99896,     0.99896,     0.99896,     0.99896,     0.99896,     0.99896,     0.99896,\n",
       "            0.99896,     0.99896,     0.99896,     0.99896,     0.99896,     0.99896,     0.99896,     0.99896,     0.99896,     0.99896,     0.99896,     0.99896,     0.99896,     0.99896,     0.99896,     0.99896,     0.99896,     0.99896,     0.99896,     0.99896,     0.99896,     0.99896,     0.99896,\n",
       "            0.99896,     0.99896,     0.99896,     0.99896,     0.99896,     0.99896,     0.99896,     0.99896,     0.99896,     0.99896,     0.99896,     0.99896,     0.99896,     0.99896,     0.99896,     0.99896,     0.99896,     0.99896,     0.99896,     0.99896,     0.99896,     0.99896,     0.99896,\n",
       "            0.99896,     0.99896,     0.99896,     0.99896,     0.99896,     0.99896,     0.99896,     0.99896,     0.99896,     0.99896,     0.99896,     0.99896,     0.99896,     0.99896,     0.99896,     0.99896,     0.99896,     0.99896,     0.99896,     0.99896,     0.99896,     0.99896,     0.99896,\n",
       "            0.99896,     0.99896,     0.99896,     0.99896,     0.99896,     0.99896,     0.99896,     0.99896,     0.99896,     0.99896,     0.99896,     0.99896,     0.99896,     0.99896,     0.99896,     0.99896,     0.99896,     0.99896,     0.99896,     0.99896,     0.99896,     0.99896,     0.99896,\n",
       "            0.99896,     0.99896,     0.99896,     0.99896,     0.99896,     0.99896,     0.99896,     0.99896,     0.99896,     0.99896,     0.99896,     0.99896,     0.99896,     0.99896,     0.99896,     0.99896,     0.99896,     0.99794,     0.99794,     0.99794,     0.99794,     0.99794,     0.99794,\n",
       "            0.99794,     0.99696,     0.99696,     0.99696,     0.99696,     0.99696,     0.99696,     0.99696,     0.99696,     0.99696,     0.99696,     0.99696,     0.99696,     0.99696,     0.99696,     0.99696,     0.99696,     0.99696,     0.99596,     0.99396,     0.99396,     0.99297,     0.99297,\n",
       "            0.99199,     0.99199,     0.99101,     0.97736,     0.97642,     0.78594,     0.62875,     0.47156,     0.31437,     0.15719,           0]]), 'Recall', 'Precision'], [array([          0,    0.001001,    0.002002,    0.003003,    0.004004,    0.005005,    0.006006,    0.007007,    0.008008,    0.009009,     0.01001,    0.011011,    0.012012,    0.013013,    0.014014,    0.015015,    0.016016,    0.017017,    0.018018,    0.019019,     0.02002,    0.021021,    0.022022,    0.023023,\n",
       "          0.024024,    0.025025,    0.026026,    0.027027,    0.028028,    0.029029,     0.03003,    0.031031,    0.032032,    0.033033,    0.034034,    0.035035,    0.036036,    0.037037,    0.038038,    0.039039,     0.04004,    0.041041,    0.042042,    0.043043,    0.044044,    0.045045,    0.046046,    0.047047,\n",
       "          0.048048,    0.049049,     0.05005,    0.051051,    0.052052,    0.053053,    0.054054,    0.055055,    0.056056,    0.057057,    0.058058,    0.059059,     0.06006,    0.061061,    0.062062,    0.063063,    0.064064,    0.065065,    0.066066,    0.067067,    0.068068,    0.069069,     0.07007,    0.071071,\n",
       "          0.072072,    0.073073,    0.074074,    0.075075,    0.076076,    0.077077,    0.078078,    0.079079,     0.08008,    0.081081,    0.082082,    0.083083,    0.084084,    0.085085,    0.086086,    0.087087,    0.088088,    0.089089,     0.09009,    0.091091,    0.092092,    0.093093,    0.094094,    0.095095,\n",
       "          0.096096,    0.097097,    0.098098,    0.099099,      0.1001,      0.1011,      0.1021,      0.1031,      0.1041,     0.10511,     0.10611,     0.10711,     0.10811,     0.10911,     0.11011,     0.11111,     0.11211,     0.11311,     0.11411,     0.11512,     0.11612,     0.11712,     0.11812,     0.11912,\n",
       "           0.12012,     0.12112,     0.12212,     0.12312,     0.12412,     0.12513,     0.12613,     0.12713,     0.12813,     0.12913,     0.13013,     0.13113,     0.13213,     0.13313,     0.13413,     0.13514,     0.13614,     0.13714,     0.13814,     0.13914,     0.14014,     0.14114,     0.14214,     0.14314,\n",
       "           0.14414,     0.14515,     0.14615,     0.14715,     0.14815,     0.14915,     0.15015,     0.15115,     0.15215,     0.15315,     0.15415,     0.15516,     0.15616,     0.15716,     0.15816,     0.15916,     0.16016,     0.16116,     0.16216,     0.16316,     0.16416,     0.16517,     0.16617,     0.16717,\n",
       "           0.16817,     0.16917,     0.17017,     0.17117,     0.17217,     0.17317,     0.17417,     0.17518,     0.17618,     0.17718,     0.17818,     0.17918,     0.18018,     0.18118,     0.18218,     0.18318,     0.18418,     0.18519,     0.18619,     0.18719,     0.18819,     0.18919,     0.19019,     0.19119,\n",
       "           0.19219,     0.19319,     0.19419,      0.1952,      0.1962,      0.1972,      0.1982,      0.1992,      0.2002,      0.2012,      0.2022,      0.2032,      0.2042,     0.20521,     0.20621,     0.20721,     0.20821,     0.20921,     0.21021,     0.21121,     0.21221,     0.21321,     0.21421,     0.21522,\n",
       "           0.21622,     0.21722,     0.21822,     0.21922,     0.22022,     0.22122,     0.22222,     0.22322,     0.22422,     0.22523,     0.22623,     0.22723,     0.22823,     0.22923,     0.23023,     0.23123,     0.23223,     0.23323,     0.23423,     0.23524,     0.23624,     0.23724,     0.23824,     0.23924,\n",
       "           0.24024,     0.24124,     0.24224,     0.24324,     0.24424,     0.24525,     0.24625,     0.24725,     0.24825,     0.24925,     0.25025,     0.25125,     0.25225,     0.25325,     0.25425,     0.25526,     0.25626,     0.25726,     0.25826,     0.25926,     0.26026,     0.26126,     0.26226,     0.26326,\n",
       "           0.26426,     0.26527,     0.26627,     0.26727,     0.26827,     0.26927,     0.27027,     0.27127,     0.27227,     0.27327,     0.27427,     0.27528,     0.27628,     0.27728,     0.27828,     0.27928,     0.28028,     0.28128,     0.28228,     0.28328,     0.28428,     0.28529,     0.28629,     0.28729,\n",
       "           0.28829,     0.28929,     0.29029,     0.29129,     0.29229,     0.29329,     0.29429,      0.2953,      0.2963,      0.2973,      0.2983,      0.2993,      0.3003,      0.3013,      0.3023,      0.3033,      0.3043,     0.30531,     0.30631,     0.30731,     0.30831,     0.30931,     0.31031,     0.31131,\n",
       "           0.31231,     0.31331,     0.31431,     0.31532,     0.31632,     0.31732,     0.31832,     0.31932,     0.32032,     0.32132,     0.32232,     0.32332,     0.32432,     0.32533,     0.32633,     0.32733,     0.32833,     0.32933,     0.33033,     0.33133,     0.33233,     0.33333,     0.33433,     0.33534,\n",
       "           0.33634,     0.33734,     0.33834,     0.33934,     0.34034,     0.34134,     0.34234,     0.34334,     0.34434,     0.34535,     0.34635,     0.34735,     0.34835,     0.34935,     0.35035,     0.35135,     0.35235,     0.35335,     0.35435,     0.35536,     0.35636,     0.35736,     0.35836,     0.35936,\n",
       "           0.36036,     0.36136,     0.36236,     0.36336,     0.36436,     0.36537,     0.36637,     0.36737,     0.36837,     0.36937,     0.37037,     0.37137,     0.37237,     0.37337,     0.37437,     0.37538,     0.37638,     0.37738,     0.37838,     0.37938,     0.38038,     0.38138,     0.38238,     0.38338,\n",
       "           0.38438,     0.38539,     0.38639,     0.38739,     0.38839,     0.38939,     0.39039,     0.39139,     0.39239,     0.39339,     0.39439,      0.3954,      0.3964,      0.3974,      0.3984,      0.3994,      0.4004,      0.4014,      0.4024,      0.4034,      0.4044,     0.40541,     0.40641,     0.40741,\n",
       "           0.40841,     0.40941,     0.41041,     0.41141,     0.41241,     0.41341,     0.41441,     0.41542,     0.41642,     0.41742,     0.41842,     0.41942,     0.42042,     0.42142,     0.42242,     0.42342,     0.42442,     0.42543,     0.42643,     0.42743,     0.42843,     0.42943,     0.43043,     0.43143,\n",
       "           0.43243,     0.43343,     0.43443,     0.43544,     0.43644,     0.43744,     0.43844,     0.43944,     0.44044,     0.44144,     0.44244,     0.44344,     0.44444,     0.44545,     0.44645,     0.44745,     0.44845,     0.44945,     0.45045,     0.45145,     0.45245,     0.45345,     0.45445,     0.45546,\n",
       "           0.45646,     0.45746,     0.45846,     0.45946,     0.46046,     0.46146,     0.46246,     0.46346,     0.46446,     0.46547,     0.46647,     0.46747,     0.46847,     0.46947,     0.47047,     0.47147,     0.47247,     0.47347,     0.47447,     0.47548,     0.47648,     0.47748,     0.47848,     0.47948,\n",
       "           0.48048,     0.48148,     0.48248,     0.48348,     0.48448,     0.48549,     0.48649,     0.48749,     0.48849,     0.48949,     0.49049,     0.49149,     0.49249,     0.49349,     0.49449,      0.4955,      0.4965,      0.4975,      0.4985,      0.4995,      0.5005,      0.5015,      0.5025,      0.5035,\n",
       "            0.5045,     0.50551,     0.50651,     0.50751,     0.50851,     0.50951,     0.51051,     0.51151,     0.51251,     0.51351,     0.51451,     0.51552,     0.51652,     0.51752,     0.51852,     0.51952,     0.52052,     0.52152,     0.52252,     0.52352,     0.52452,     0.52553,     0.52653,     0.52753,\n",
       "           0.52853,     0.52953,     0.53053,     0.53153,     0.53253,     0.53353,     0.53453,     0.53554,     0.53654,     0.53754,     0.53854,     0.53954,     0.54054,     0.54154,     0.54254,     0.54354,     0.54454,     0.54555,     0.54655,     0.54755,     0.54855,     0.54955,     0.55055,     0.55155,\n",
       "           0.55255,     0.55355,     0.55455,     0.55556,     0.55656,     0.55756,     0.55856,     0.55956,     0.56056,     0.56156,     0.56256,     0.56356,     0.56456,     0.56557,     0.56657,     0.56757,     0.56857,     0.56957,     0.57057,     0.57157,     0.57257,     0.57357,     0.57457,     0.57558,\n",
       "           0.57658,     0.57758,     0.57858,     0.57958,     0.58058,     0.58158,     0.58258,     0.58358,     0.58458,     0.58559,     0.58659,     0.58759,     0.58859,     0.58959,     0.59059,     0.59159,     0.59259,     0.59359,     0.59459,      0.5956,      0.5966,      0.5976,      0.5986,      0.5996,\n",
       "            0.6006,      0.6016,      0.6026,      0.6036,      0.6046,     0.60561,     0.60661,     0.60761,     0.60861,     0.60961,     0.61061,     0.61161,     0.61261,     0.61361,     0.61461,     0.61562,     0.61662,     0.61762,     0.61862,     0.61962,     0.62062,     0.62162,     0.62262,     0.62362,\n",
       "           0.62462,     0.62563,     0.62663,     0.62763,     0.62863,     0.62963,     0.63063,     0.63163,     0.63263,     0.63363,     0.63463,     0.63564,     0.63664,     0.63764,     0.63864,     0.63964,     0.64064,     0.64164,     0.64264,     0.64364,     0.64464,     0.64565,     0.64665,     0.64765,\n",
       "           0.64865,     0.64965,     0.65065,     0.65165,     0.65265,     0.65365,     0.65465,     0.65566,     0.65666,     0.65766,     0.65866,     0.65966,     0.66066,     0.66166,     0.66266,     0.66366,     0.66466,     0.66567,     0.66667,     0.66767,     0.66867,     0.66967,     0.67067,     0.67167,\n",
       "           0.67267,     0.67367,     0.67467,     0.67568,     0.67668,     0.67768,     0.67868,     0.67968,     0.68068,     0.68168,     0.68268,     0.68368,     0.68468,     0.68569,     0.68669,     0.68769,     0.68869,     0.68969,     0.69069,     0.69169,     0.69269,     0.69369,     0.69469,      0.6957,\n",
       "            0.6967,      0.6977,      0.6987,      0.6997,      0.7007,      0.7017,      0.7027,      0.7037,      0.7047,     0.70571,     0.70671,     0.70771,     0.70871,     0.70971,     0.71071,     0.71171,     0.71271,     0.71371,     0.71471,     0.71572,     0.71672,     0.71772,     0.71872,     0.71972,\n",
       "           0.72072,     0.72172,     0.72272,     0.72372,     0.72472,     0.72573,     0.72673,     0.72773,     0.72873,     0.72973,     0.73073,     0.73173,     0.73273,     0.73373,     0.73473,     0.73574,     0.73674,     0.73774,     0.73874,     0.73974,     0.74074,     0.74174,     0.74274,     0.74374,\n",
       "           0.74474,     0.74575,     0.74675,     0.74775,     0.74875,     0.74975,     0.75075,     0.75175,     0.75275,     0.75375,     0.75475,     0.75576,     0.75676,     0.75776,     0.75876,     0.75976,     0.76076,     0.76176,     0.76276,     0.76376,     0.76476,     0.76577,     0.76677,     0.76777,\n",
       "           0.76877,     0.76977,     0.77077,     0.77177,     0.77277,     0.77377,     0.77477,     0.77578,     0.77678,     0.77778,     0.77878,     0.77978,     0.78078,     0.78178,     0.78278,     0.78378,     0.78478,     0.78579,     0.78679,     0.78779,     0.78879,     0.78979,     0.79079,     0.79179,\n",
       "           0.79279,     0.79379,     0.79479,      0.7958,      0.7968,      0.7978,      0.7988,      0.7998,      0.8008,      0.8018,      0.8028,      0.8038,      0.8048,     0.80581,     0.80681,     0.80781,     0.80881,     0.80981,     0.81081,     0.81181,     0.81281,     0.81381,     0.81481,     0.81582,\n",
       "           0.81682,     0.81782,     0.81882,     0.81982,     0.82082,     0.82182,     0.82282,     0.82382,     0.82482,     0.82583,     0.82683,     0.82783,     0.82883,     0.82983,     0.83083,     0.83183,     0.83283,     0.83383,     0.83483,     0.83584,     0.83684,     0.83784,     0.83884,     0.83984,\n",
       "           0.84084,     0.84184,     0.84284,     0.84384,     0.84484,     0.84585,     0.84685,     0.84785,     0.84885,     0.84985,     0.85085,     0.85185,     0.85285,     0.85385,     0.85485,     0.85586,     0.85686,     0.85786,     0.85886,     0.85986,     0.86086,     0.86186,     0.86286,     0.86386,\n",
       "           0.86486,     0.86587,     0.86687,     0.86787,     0.86887,     0.86987,     0.87087,     0.87187,     0.87287,     0.87387,     0.87487,     0.87588,     0.87688,     0.87788,     0.87888,     0.87988,     0.88088,     0.88188,     0.88288,     0.88388,     0.88488,     0.88589,     0.88689,     0.88789,\n",
       "           0.88889,     0.88989,     0.89089,     0.89189,     0.89289,     0.89389,     0.89489,      0.8959,      0.8969,      0.8979,      0.8989,      0.8999,      0.9009,      0.9019,      0.9029,      0.9039,      0.9049,     0.90591,     0.90691,     0.90791,     0.90891,     0.90991,     0.91091,     0.91191,\n",
       "           0.91291,     0.91391,     0.91491,     0.91592,     0.91692,     0.91792,     0.91892,     0.91992,     0.92092,     0.92192,     0.92292,     0.92392,     0.92492,     0.92593,     0.92693,     0.92793,     0.92893,     0.92993,     0.93093,     0.93193,     0.93293,     0.93393,     0.93493,     0.93594,\n",
       "           0.93694,     0.93794,     0.93894,     0.93994,     0.94094,     0.94194,     0.94294,     0.94394,     0.94494,     0.94595,     0.94695,     0.94795,     0.94895,     0.94995,     0.95095,     0.95195,     0.95295,     0.95395,     0.95495,     0.95596,     0.95696,     0.95796,     0.95896,     0.95996,\n",
       "           0.96096,     0.96196,     0.96296,     0.96396,     0.96496,     0.96597,     0.96697,     0.96797,     0.96897,     0.96997,     0.97097,     0.97197,     0.97297,     0.97397,     0.97497,     0.97598,     0.97698,     0.97798,     0.97898,     0.97998,     0.98098,     0.98198,     0.98298,     0.98398,\n",
       "           0.98498,     0.98599,     0.98699,     0.98799,     0.98899,     0.98999,     0.99099,     0.99199,     0.99299,     0.99399,     0.99499,       0.996,       0.997,       0.998,       0.999,           1]), array([[     0.9674,      0.9674,     0.97754,     0.98221,     0.98416,     0.98502,     0.98502,      0.9855,     0.98605,     0.98711,     0.98759,     0.98779,       0.988,     0.98848,     0.98869,     0.98887,     0.98907,     0.98957,      0.9897,     0.98984,     0.98997,     0.99022,     0.99059,\n",
       "            0.99147,     0.99106,     0.99113,     0.99119,     0.99125,     0.99132,     0.99138,     0.99145,     0.99148,     0.99139,     0.99131,     0.99122,     0.99114,     0.99105,     0.99083,     0.99053,     0.99064,     0.99074,     0.99085,     0.99095,     0.99076,     0.99047,     0.99042,\n",
       "            0.99037,     0.99032,     0.99027,     0.99022,     0.99017,     0.99011,     0.99006,     0.99001,     0.98997,     0.98999,        0.99,     0.99001,     0.99003,     0.99004,     0.99006,     0.99007,     0.99008,      0.9901,     0.99011,     0.99013,     0.99014,     0.99015,     0.99017,\n",
       "            0.99018,      0.9902,     0.99021,     0.99022,     0.99024,     0.99025,     0.99027,     0.99028,     0.99029,     0.99031,     0.99032,     0.99034,     0.99035,     0.99036,     0.99038,     0.99039,     0.99041,     0.99042,     0.99043,     0.99045,     0.99046,     0.99046,     0.99045,\n",
       "            0.99044,     0.99042,     0.99041,      0.9904,     0.99039,     0.99038,     0.99037,     0.99036,     0.99034,     0.99033,     0.99032,     0.99031,      0.9903,     0.99029,     0.99027,     0.99026,     0.99025,     0.99024,     0.99023,     0.99022,     0.99021,     0.99019,     0.99018,\n",
       "            0.99017,     0.99016,     0.99015,     0.99014,     0.99012,     0.99011,      0.9901,     0.99009,     0.99008,     0.99007,     0.99006,     0.99004,     0.99003,     0.99002,     0.99001,        0.99,     0.98999,     0.98997,     0.98996,     0.98995,     0.98993,     0.98991,     0.98989,\n",
       "            0.98988,     0.98986,     0.98984,     0.98982,     0.98981,     0.98979,     0.98977,     0.98975,     0.98974,     0.98972,      0.9897,     0.98968,     0.98967,     0.98965,     0.98963,     0.98961,      0.9896,     0.98958,     0.98956,     0.98954,     0.98953,     0.98951,     0.98949,\n",
       "            0.98947,     0.98946,      0.9896,     0.98979,     0.98996,     0.99004,     0.99013,     0.99021,     0.99029,     0.99038,     0.99044,     0.99035,     0.99027,     0.99019,     0.99011,     0.99003,     0.98995,     0.98995,     0.98996,     0.98997,     0.98998,        0.99,     0.99001,\n",
       "            0.99002,     0.99003,     0.99004,     0.99005,     0.99007,     0.99008,     0.99009,      0.9901,     0.99011,     0.99012,     0.99013,     0.99015,     0.99016,     0.99017,     0.99018,     0.99019,      0.9902,     0.99021,     0.99023,     0.99024,     0.99025,     0.99026,     0.99027,\n",
       "            0.99028,     0.99029,     0.99031,     0.99032,     0.99033,     0.99034,     0.99035,     0.99036,     0.99037,     0.99039,      0.9904,     0.99041,     0.99042,     0.99043,      0.9903,     0.99004,     0.98992,      0.9899,     0.98989,     0.98987,     0.98985,     0.98983,     0.98982,\n",
       "             0.9898,     0.98978,     0.98977,     0.98975,     0.98973,     0.98971,      0.9897,     0.98968,     0.98966,     0.98965,     0.98963,     0.98961,     0.98959,     0.98958,     0.98956,     0.98954,     0.98953,     0.98951,     0.98949,     0.98948,     0.98946,     0.98944,     0.98942,\n",
       "            0.98942,     0.98941,      0.9894,      0.9894,     0.98939,     0.98938,     0.98938,     0.98937,     0.98936,     0.98936,     0.98935,     0.98934,     0.98934,     0.98933,     0.98932,     0.98932,     0.98931,      0.9893,      0.9893,     0.98929,     0.98928,     0.98928,     0.98927,\n",
       "            0.98926,     0.98926,     0.98925,     0.98924,     0.98924,     0.98923,     0.98922,     0.98922,     0.98921,      0.9892,      0.9892,     0.98919,     0.98918,     0.98918,     0.98917,     0.98916,     0.98916,     0.98915,     0.98914,     0.98914,     0.98913,     0.98912,     0.98912,\n",
       "            0.98911,      0.9891,      0.9891,     0.98909,     0.98908,     0.98908,     0.98907,     0.98906,     0.98906,     0.98905,     0.98904,     0.98904,     0.98903,     0.98902,     0.98902,     0.98901,       0.989,       0.989,     0.98899,     0.98898,     0.98898,     0.98897,     0.98896,\n",
       "            0.98896,     0.98895,     0.98894,     0.98894,     0.98893,     0.98892,     0.98892,     0.98891,      0.9889,      0.9889,     0.98889,     0.98888,     0.98888,     0.98887,     0.98886,     0.98885,     0.98885,     0.98884,     0.98883,     0.98882,     0.98882,     0.98881,      0.9888,\n",
       "             0.9888,     0.98879,     0.98878,     0.98877,     0.98877,     0.98876,     0.98875,     0.98875,     0.98874,     0.98873,     0.98872,     0.98872,     0.98871,      0.9887,     0.98869,     0.98869,     0.98868,     0.98867,     0.98867,     0.98866,     0.98865,     0.98864,     0.98864,\n",
       "            0.98863,     0.98862,     0.98861,     0.98861,      0.9886,     0.98859,     0.98859,     0.98858,     0.98857,     0.98856,     0.98856,     0.98855,     0.98854,     0.98854,     0.98853,     0.98852,     0.98851,     0.98851,      0.9885,     0.98849,     0.98848,     0.98848,     0.98847,\n",
       "            0.98846,     0.98846,     0.98845,     0.98844,     0.98843,     0.98843,     0.98842,     0.98841,     0.98841,     0.98839,     0.98838,     0.98837,     0.98835,     0.98834,     0.98833,     0.98831,      0.9883,     0.98828,     0.98827,     0.98826,     0.98824,     0.98823,     0.98821,\n",
       "             0.9882,     0.98819,     0.98817,     0.98816,     0.98815,     0.98813,     0.98812,      0.9881,     0.98809,     0.98808,     0.98806,     0.98805,     0.98803,     0.98802,     0.98801,     0.98799,     0.98798,     0.98796,     0.98795,     0.98794,     0.98792,     0.98791,      0.9879,\n",
       "            0.98735,     0.98731,     0.98726,     0.98722,     0.98718,     0.98713,     0.98709,     0.98705,       0.987,     0.98696,     0.98691,     0.98687,     0.98684,     0.98682,     0.98679,     0.98677,     0.98674,     0.98672,     0.98669,     0.98667,     0.98664,     0.98662,     0.98659,\n",
       "            0.98657,     0.98654,     0.98652,     0.98649,     0.98647,     0.98644,     0.98641,     0.98639,     0.98636,     0.98584,     0.98582,     0.98581,      0.9858,     0.98579,     0.98578,     0.98577,     0.98576,     0.98574,     0.98573,     0.98572,     0.98571,      0.9857,     0.98569,\n",
       "            0.98568,     0.98566,     0.98565,     0.98564,     0.98563,     0.98562,     0.98561,      0.9856,     0.98558,     0.98557,     0.98556,     0.98555,     0.98554,     0.98553,     0.98552,      0.9855,     0.98549,     0.98548,     0.98547,     0.98546,     0.98545,     0.98544,     0.98542,\n",
       "            0.98541,      0.9854,     0.98539,     0.98538,     0.98537,     0.98536,     0.98534,     0.98533,      0.9853,     0.98526,     0.98522,     0.98518,     0.98514,     0.98509,     0.98505,     0.98501,     0.98497,     0.98493,     0.98489,     0.98485,     0.98481,     0.98474,     0.98468,\n",
       "            0.98461,     0.98454,     0.98448,     0.98441,     0.98435,      0.9843,     0.98428,     0.98426,     0.98424,     0.98422,      0.9842,     0.98418,     0.98416,     0.98414,     0.98412,      0.9841,     0.98408,     0.98406,     0.98404,     0.98402,       0.984,     0.98398,     0.98396,\n",
       "            0.98394,     0.98392,      0.9839,     0.98388,     0.98386,     0.98384,     0.98382,      0.9838,     0.98378,     0.98376,     0.98373,     0.98371,     0.98369,     0.98367,     0.98364,     0.98362,      0.9836,     0.98358,     0.98355,     0.98353,     0.98351,     0.98349,     0.98346,\n",
       "            0.98344,     0.98342,      0.9834,     0.98337,     0.98335,     0.98333,     0.98331,     0.98328,     0.98325,      0.9832,     0.98315,      0.9831,     0.98305,     0.98301,     0.98296,     0.98291,     0.98286,     0.98281,     0.98277,     0.98274,     0.98272,     0.98269,     0.98267,\n",
       "            0.98265,     0.98263,      0.9826,     0.98258,     0.98256,     0.98254,     0.98251,     0.98249,     0.98247,     0.98245,     0.98242,      0.9824,     0.98238,     0.98236,     0.98233,     0.98231,     0.98229,     0.98227,     0.98224,     0.98217,      0.9821,     0.98202,     0.98195,\n",
       "            0.98187,     0.98179,     0.98173,     0.98175,     0.98177,     0.98179,     0.98182,     0.98184,     0.98186,     0.98188,     0.98191,     0.98193,     0.98195,     0.98197,     0.98199,     0.98202,     0.98204,     0.98206,     0.98208,     0.98211,     0.98213,     0.98215,     0.98217,\n",
       "            0.98219,     0.98222,      0.9822,     0.98215,     0.98211,     0.98207,     0.98203,     0.98198,     0.98194,      0.9819,     0.98186,     0.98182,     0.98177,     0.98173,     0.98169,     0.98165,     0.98161,     0.98157,     0.98153,     0.98149,     0.98145,     0.98141,     0.98138,\n",
       "            0.98134,      0.9813,     0.98126,     0.98122,     0.98118,     0.98113,     0.98108,     0.98104,     0.98099,     0.98095,      0.9809,     0.98085,     0.98081,     0.98076,     0.98071,     0.98066,     0.98056,     0.98045,     0.98035,     0.98024,     0.98015,     0.98012,     0.98009,\n",
       "            0.98007,     0.98004,     0.98001,     0.97998,     0.97996,     0.97993,      0.9799,     0.97987,     0.97985,     0.97982,     0.97979,     0.97977,     0.97974,     0.97971,     0.97968,     0.97966,     0.97963,     0.97959,     0.97956,     0.97952,     0.97949,     0.97945,     0.97941,\n",
       "            0.97938,     0.97934,     0.97931,     0.97927,     0.97924,      0.9792,     0.97917,     0.97913,     0.97897,     0.97871,     0.97865,     0.97874,     0.97883,     0.97893,     0.97902,     0.97909,     0.97905,     0.97902,     0.97899,     0.97896,     0.97892,     0.97889,     0.97886,\n",
       "            0.97883,     0.97879,     0.97876,     0.97873,      0.9787,     0.97866,     0.97863,      0.9786,     0.97856,     0.97849,     0.97841,     0.97833,     0.97826,     0.97818,      0.9781,     0.97801,     0.97785,      0.9777,     0.97755,     0.97722,     0.97698,     0.97691,     0.97684,\n",
       "            0.97678,     0.97671,     0.97664,     0.97658,     0.97651,     0.97642,     0.97633,     0.97623,     0.97613,     0.97603,     0.97591,     0.97569,     0.97548,     0.97515,     0.97489,     0.97483,     0.97477,     0.97471,     0.97465,     0.97459,     0.97453,     0.97447,     0.97441,\n",
       "            0.97435,     0.97429,     0.97423,     0.97417,     0.97411,     0.97405,     0.97399,     0.97393,     0.97387,     0.97344,     0.97223,     0.97208,     0.97192,     0.97177,     0.97117,     0.97105,     0.97093,     0.97081,     0.97069,     0.97064,     0.97058,     0.97053,     0.97048,\n",
       "            0.97042,     0.97037,     0.97031,     0.97026,      0.9702,     0.97012,     0.96994,     0.96975,     0.96927,     0.96906,       0.969,     0.96895,     0.96889,     0.96884,     0.96879,     0.96873,     0.96868,     0.96862,     0.96854,     0.96818,     0.96735,     0.96662,     0.96566,\n",
       "            0.96534,     0.96515,     0.96497,     0.96399,     0.96333,     0.96293,     0.96263,     0.96244,     0.96226,     0.96152,      0.9613,     0.96108,     0.95946,     0.95927,     0.95909,     0.95881,     0.95815,     0.95779,     0.95752,     0.95708,     0.95659,     0.95637,     0.95591,\n",
       "            0.95523,     0.95148,     0.95097,     0.95012,     0.94993,     0.94974,     0.94914,     0.94855,     0.94576,     0.94463,     0.94394,     0.94366,     0.94209,     0.94004,     0.93881,     0.93774,     0.93488,      0.9332,     0.93291,     0.92754,     0.92678,      0.9227,     0.91802,\n",
       "            0.91211,     0.90613,     0.90251,     0.89825,     0.89089,     0.88592,     0.87777,     0.87078,     0.86627,     0.85913,     0.85059,     0.84325,     0.83242,      0.8186,     0.80731,     0.79216,     0.78757,     0.76929,     0.75602,     0.74416,     0.73221,     0.70639,      0.6959,\n",
       "            0.67026,     0.65462,     0.64271,     0.61976,     0.59109,     0.57494,     0.54707,     0.53522,     0.49457,     0.47368,     0.45322,     0.41683,     0.37993,     0.35559,     0.32146,      0.3039,     0.27904,     0.26385,     0.23954,     0.20456,     0.19349,     0.16859,     0.13346,\n",
       "            0.11845,     0.10229,    0.091514,    0.090269,    0.078316,     0.06521,    0.058868,    0.056935,    0.049307,    0.045923,    0.043921,     0.04037,    0.039385,    0.035656,    0.032709,    0.028783,    0.020932,    0.018922,    0.017633,    0.017185,    0.016737,    0.016289,    0.013758,\n",
       "           0.011799,    0.010447,   0.0094363,   0.0086237,   0.0071793,   0.0045422,   0.0033952,   0.0025777,           0,           0,           0,           0,           0,           0,           0,           0,           0,           0,           0,           0,           0,           0,           0,\n",
       "                  0,           0,           0,           0,           0,           0,           0,           0,           0,           0,           0,           0,           0,           0,           0,           0,           0,           0,           0,           0,           0,           0,           0,\n",
       "                  0,           0,           0,           0,           0,           0,           0,           0,           0,           0,           0]]), 'Confidence', 'F1'], [array([          0,    0.001001,    0.002002,    0.003003,    0.004004,    0.005005,    0.006006,    0.007007,    0.008008,    0.009009,     0.01001,    0.011011,    0.012012,    0.013013,    0.014014,    0.015015,    0.016016,    0.017017,    0.018018,    0.019019,     0.02002,    0.021021,    0.022022,    0.023023,\n",
       "          0.024024,    0.025025,    0.026026,    0.027027,    0.028028,    0.029029,     0.03003,    0.031031,    0.032032,    0.033033,    0.034034,    0.035035,    0.036036,    0.037037,    0.038038,    0.039039,     0.04004,    0.041041,    0.042042,    0.043043,    0.044044,    0.045045,    0.046046,    0.047047,\n",
       "          0.048048,    0.049049,     0.05005,    0.051051,    0.052052,    0.053053,    0.054054,    0.055055,    0.056056,    0.057057,    0.058058,    0.059059,     0.06006,    0.061061,    0.062062,    0.063063,    0.064064,    0.065065,    0.066066,    0.067067,    0.068068,    0.069069,     0.07007,    0.071071,\n",
       "          0.072072,    0.073073,    0.074074,    0.075075,    0.076076,    0.077077,    0.078078,    0.079079,     0.08008,    0.081081,    0.082082,    0.083083,    0.084084,    0.085085,    0.086086,    0.087087,    0.088088,    0.089089,     0.09009,    0.091091,    0.092092,    0.093093,    0.094094,    0.095095,\n",
       "          0.096096,    0.097097,    0.098098,    0.099099,      0.1001,      0.1011,      0.1021,      0.1031,      0.1041,     0.10511,     0.10611,     0.10711,     0.10811,     0.10911,     0.11011,     0.11111,     0.11211,     0.11311,     0.11411,     0.11512,     0.11612,     0.11712,     0.11812,     0.11912,\n",
       "           0.12012,     0.12112,     0.12212,     0.12312,     0.12412,     0.12513,     0.12613,     0.12713,     0.12813,     0.12913,     0.13013,     0.13113,     0.13213,     0.13313,     0.13413,     0.13514,     0.13614,     0.13714,     0.13814,     0.13914,     0.14014,     0.14114,     0.14214,     0.14314,\n",
       "           0.14414,     0.14515,     0.14615,     0.14715,     0.14815,     0.14915,     0.15015,     0.15115,     0.15215,     0.15315,     0.15415,     0.15516,     0.15616,     0.15716,     0.15816,     0.15916,     0.16016,     0.16116,     0.16216,     0.16316,     0.16416,     0.16517,     0.16617,     0.16717,\n",
       "           0.16817,     0.16917,     0.17017,     0.17117,     0.17217,     0.17317,     0.17417,     0.17518,     0.17618,     0.17718,     0.17818,     0.17918,     0.18018,     0.18118,     0.18218,     0.18318,     0.18418,     0.18519,     0.18619,     0.18719,     0.18819,     0.18919,     0.19019,     0.19119,\n",
       "           0.19219,     0.19319,     0.19419,      0.1952,      0.1962,      0.1972,      0.1982,      0.1992,      0.2002,      0.2012,      0.2022,      0.2032,      0.2042,     0.20521,     0.20621,     0.20721,     0.20821,     0.20921,     0.21021,     0.21121,     0.21221,     0.21321,     0.21421,     0.21522,\n",
       "           0.21622,     0.21722,     0.21822,     0.21922,     0.22022,     0.22122,     0.22222,     0.22322,     0.22422,     0.22523,     0.22623,     0.22723,     0.22823,     0.22923,     0.23023,     0.23123,     0.23223,     0.23323,     0.23423,     0.23524,     0.23624,     0.23724,     0.23824,     0.23924,\n",
       "           0.24024,     0.24124,     0.24224,     0.24324,     0.24424,     0.24525,     0.24625,     0.24725,     0.24825,     0.24925,     0.25025,     0.25125,     0.25225,     0.25325,     0.25425,     0.25526,     0.25626,     0.25726,     0.25826,     0.25926,     0.26026,     0.26126,     0.26226,     0.26326,\n",
       "           0.26426,     0.26527,     0.26627,     0.26727,     0.26827,     0.26927,     0.27027,     0.27127,     0.27227,     0.27327,     0.27427,     0.27528,     0.27628,     0.27728,     0.27828,     0.27928,     0.28028,     0.28128,     0.28228,     0.28328,     0.28428,     0.28529,     0.28629,     0.28729,\n",
       "           0.28829,     0.28929,     0.29029,     0.29129,     0.29229,     0.29329,     0.29429,      0.2953,      0.2963,      0.2973,      0.2983,      0.2993,      0.3003,      0.3013,      0.3023,      0.3033,      0.3043,     0.30531,     0.30631,     0.30731,     0.30831,     0.30931,     0.31031,     0.31131,\n",
       "           0.31231,     0.31331,     0.31431,     0.31532,     0.31632,     0.31732,     0.31832,     0.31932,     0.32032,     0.32132,     0.32232,     0.32332,     0.32432,     0.32533,     0.32633,     0.32733,     0.32833,     0.32933,     0.33033,     0.33133,     0.33233,     0.33333,     0.33433,     0.33534,\n",
       "           0.33634,     0.33734,     0.33834,     0.33934,     0.34034,     0.34134,     0.34234,     0.34334,     0.34434,     0.34535,     0.34635,     0.34735,     0.34835,     0.34935,     0.35035,     0.35135,     0.35235,     0.35335,     0.35435,     0.35536,     0.35636,     0.35736,     0.35836,     0.35936,\n",
       "           0.36036,     0.36136,     0.36236,     0.36336,     0.36436,     0.36537,     0.36637,     0.36737,     0.36837,     0.36937,     0.37037,     0.37137,     0.37237,     0.37337,     0.37437,     0.37538,     0.37638,     0.37738,     0.37838,     0.37938,     0.38038,     0.38138,     0.38238,     0.38338,\n",
       "           0.38438,     0.38539,     0.38639,     0.38739,     0.38839,     0.38939,     0.39039,     0.39139,     0.39239,     0.39339,     0.39439,      0.3954,      0.3964,      0.3974,      0.3984,      0.3994,      0.4004,      0.4014,      0.4024,      0.4034,      0.4044,     0.40541,     0.40641,     0.40741,\n",
       "           0.40841,     0.40941,     0.41041,     0.41141,     0.41241,     0.41341,     0.41441,     0.41542,     0.41642,     0.41742,     0.41842,     0.41942,     0.42042,     0.42142,     0.42242,     0.42342,     0.42442,     0.42543,     0.42643,     0.42743,     0.42843,     0.42943,     0.43043,     0.43143,\n",
       "           0.43243,     0.43343,     0.43443,     0.43544,     0.43644,     0.43744,     0.43844,     0.43944,     0.44044,     0.44144,     0.44244,     0.44344,     0.44444,     0.44545,     0.44645,     0.44745,     0.44845,     0.44945,     0.45045,     0.45145,     0.45245,     0.45345,     0.45445,     0.45546,\n",
       "           0.45646,     0.45746,     0.45846,     0.45946,     0.46046,     0.46146,     0.46246,     0.46346,     0.46446,     0.46547,     0.46647,     0.46747,     0.46847,     0.46947,     0.47047,     0.47147,     0.47247,     0.47347,     0.47447,     0.47548,     0.47648,     0.47748,     0.47848,     0.47948,\n",
       "           0.48048,     0.48148,     0.48248,     0.48348,     0.48448,     0.48549,     0.48649,     0.48749,     0.48849,     0.48949,     0.49049,     0.49149,     0.49249,     0.49349,     0.49449,      0.4955,      0.4965,      0.4975,      0.4985,      0.4995,      0.5005,      0.5015,      0.5025,      0.5035,\n",
       "            0.5045,     0.50551,     0.50651,     0.50751,     0.50851,     0.50951,     0.51051,     0.51151,     0.51251,     0.51351,     0.51451,     0.51552,     0.51652,     0.51752,     0.51852,     0.51952,     0.52052,     0.52152,     0.52252,     0.52352,     0.52452,     0.52553,     0.52653,     0.52753,\n",
       "           0.52853,     0.52953,     0.53053,     0.53153,     0.53253,     0.53353,     0.53453,     0.53554,     0.53654,     0.53754,     0.53854,     0.53954,     0.54054,     0.54154,     0.54254,     0.54354,     0.54454,     0.54555,     0.54655,     0.54755,     0.54855,     0.54955,     0.55055,     0.55155,\n",
       "           0.55255,     0.55355,     0.55455,     0.55556,     0.55656,     0.55756,     0.55856,     0.55956,     0.56056,     0.56156,     0.56256,     0.56356,     0.56456,     0.56557,     0.56657,     0.56757,     0.56857,     0.56957,     0.57057,     0.57157,     0.57257,     0.57357,     0.57457,     0.57558,\n",
       "           0.57658,     0.57758,     0.57858,     0.57958,     0.58058,     0.58158,     0.58258,     0.58358,     0.58458,     0.58559,     0.58659,     0.58759,     0.58859,     0.58959,     0.59059,     0.59159,     0.59259,     0.59359,     0.59459,      0.5956,      0.5966,      0.5976,      0.5986,      0.5996,\n",
       "            0.6006,      0.6016,      0.6026,      0.6036,      0.6046,     0.60561,     0.60661,     0.60761,     0.60861,     0.60961,     0.61061,     0.61161,     0.61261,     0.61361,     0.61461,     0.61562,     0.61662,     0.61762,     0.61862,     0.61962,     0.62062,     0.62162,     0.62262,     0.62362,\n",
       "           0.62462,     0.62563,     0.62663,     0.62763,     0.62863,     0.62963,     0.63063,     0.63163,     0.63263,     0.63363,     0.63463,     0.63564,     0.63664,     0.63764,     0.63864,     0.63964,     0.64064,     0.64164,     0.64264,     0.64364,     0.64464,     0.64565,     0.64665,     0.64765,\n",
       "           0.64865,     0.64965,     0.65065,     0.65165,     0.65265,     0.65365,     0.65465,     0.65566,     0.65666,     0.65766,     0.65866,     0.65966,     0.66066,     0.66166,     0.66266,     0.66366,     0.66466,     0.66567,     0.66667,     0.66767,     0.66867,     0.66967,     0.67067,     0.67167,\n",
       "           0.67267,     0.67367,     0.67467,     0.67568,     0.67668,     0.67768,     0.67868,     0.67968,     0.68068,     0.68168,     0.68268,     0.68368,     0.68468,     0.68569,     0.68669,     0.68769,     0.68869,     0.68969,     0.69069,     0.69169,     0.69269,     0.69369,     0.69469,      0.6957,\n",
       "            0.6967,      0.6977,      0.6987,      0.6997,      0.7007,      0.7017,      0.7027,      0.7037,      0.7047,     0.70571,     0.70671,     0.70771,     0.70871,     0.70971,     0.71071,     0.71171,     0.71271,     0.71371,     0.71471,     0.71572,     0.71672,     0.71772,     0.71872,     0.71972,\n",
       "           0.72072,     0.72172,     0.72272,     0.72372,     0.72472,     0.72573,     0.72673,     0.72773,     0.72873,     0.72973,     0.73073,     0.73173,     0.73273,     0.73373,     0.73473,     0.73574,     0.73674,     0.73774,     0.73874,     0.73974,     0.74074,     0.74174,     0.74274,     0.74374,\n",
       "           0.74474,     0.74575,     0.74675,     0.74775,     0.74875,     0.74975,     0.75075,     0.75175,     0.75275,     0.75375,     0.75475,     0.75576,     0.75676,     0.75776,     0.75876,     0.75976,     0.76076,     0.76176,     0.76276,     0.76376,     0.76476,     0.76577,     0.76677,     0.76777,\n",
       "           0.76877,     0.76977,     0.77077,     0.77177,     0.77277,     0.77377,     0.77477,     0.77578,     0.77678,     0.77778,     0.77878,     0.77978,     0.78078,     0.78178,     0.78278,     0.78378,     0.78478,     0.78579,     0.78679,     0.78779,     0.78879,     0.78979,     0.79079,     0.79179,\n",
       "           0.79279,     0.79379,     0.79479,      0.7958,      0.7968,      0.7978,      0.7988,      0.7998,      0.8008,      0.8018,      0.8028,      0.8038,      0.8048,     0.80581,     0.80681,     0.80781,     0.80881,     0.80981,     0.81081,     0.81181,     0.81281,     0.81381,     0.81481,     0.81582,\n",
       "           0.81682,     0.81782,     0.81882,     0.81982,     0.82082,     0.82182,     0.82282,     0.82382,     0.82482,     0.82583,     0.82683,     0.82783,     0.82883,     0.82983,     0.83083,     0.83183,     0.83283,     0.83383,     0.83483,     0.83584,     0.83684,     0.83784,     0.83884,     0.83984,\n",
       "           0.84084,     0.84184,     0.84284,     0.84384,     0.84484,     0.84585,     0.84685,     0.84785,     0.84885,     0.84985,     0.85085,     0.85185,     0.85285,     0.85385,     0.85485,     0.85586,     0.85686,     0.85786,     0.85886,     0.85986,     0.86086,     0.86186,     0.86286,     0.86386,\n",
       "           0.86486,     0.86587,     0.86687,     0.86787,     0.86887,     0.86987,     0.87087,     0.87187,     0.87287,     0.87387,     0.87487,     0.87588,     0.87688,     0.87788,     0.87888,     0.87988,     0.88088,     0.88188,     0.88288,     0.88388,     0.88488,     0.88589,     0.88689,     0.88789,\n",
       "           0.88889,     0.88989,     0.89089,     0.89189,     0.89289,     0.89389,     0.89489,      0.8959,      0.8969,      0.8979,      0.8989,      0.8999,      0.9009,      0.9019,      0.9029,      0.9039,      0.9049,     0.90591,     0.90691,     0.90791,     0.90891,     0.90991,     0.91091,     0.91191,\n",
       "           0.91291,     0.91391,     0.91491,     0.91592,     0.91692,     0.91792,     0.91892,     0.91992,     0.92092,     0.92192,     0.92292,     0.92392,     0.92492,     0.92593,     0.92693,     0.92793,     0.92893,     0.92993,     0.93093,     0.93193,     0.93293,     0.93393,     0.93493,     0.93594,\n",
       "           0.93694,     0.93794,     0.93894,     0.93994,     0.94094,     0.94194,     0.94294,     0.94394,     0.94494,     0.94595,     0.94695,     0.94795,     0.94895,     0.94995,     0.95095,     0.95195,     0.95295,     0.95395,     0.95495,     0.95596,     0.95696,     0.95796,     0.95896,     0.95996,\n",
       "           0.96096,     0.96196,     0.96296,     0.96396,     0.96496,     0.96597,     0.96697,     0.96797,     0.96897,     0.96997,     0.97097,     0.97197,     0.97297,     0.97397,     0.97497,     0.97598,     0.97698,     0.97798,     0.97898,     0.97998,     0.98098,     0.98198,     0.98298,     0.98398,\n",
       "           0.98498,     0.98599,     0.98699,     0.98799,     0.98899,     0.98999,     0.99099,     0.99199,     0.99299,     0.99399,     0.99499,       0.996,       0.997,       0.998,       0.999,           1]), array([[    0.94218,     0.94218,     0.96163,      0.9707,     0.97451,     0.97642,     0.97718,     0.97908,     0.98018,     0.98227,     0.98321,     0.98362,     0.98403,     0.98498,     0.98541,     0.98576,     0.98616,     0.98716,     0.98742,     0.98768,     0.98794,     0.98844,     0.98918,\n",
       "            0.99093,     0.99112,     0.99125,     0.99138,     0.99151,     0.99164,     0.99177,     0.99189,     0.99199,     0.99199,     0.99199,     0.99199,     0.99199,     0.99198,     0.99198,     0.99207,     0.99228,     0.99249,      0.9927,     0.99291,     0.99297,     0.99296,     0.99296,\n",
       "            0.99296,     0.99296,     0.99296,     0.99296,     0.99296,     0.99296,     0.99296,     0.99296,     0.99296,     0.99299,     0.99302,     0.99305,     0.99307,      0.9931,     0.99313,     0.99316,     0.99319,     0.99322,     0.99324,     0.99327,      0.9933,     0.99333,     0.99336,\n",
       "            0.99338,     0.99341,     0.99344,     0.99347,      0.9935,     0.99352,     0.99355,     0.99358,     0.99361,     0.99364,     0.99367,     0.99369,     0.99372,     0.99375,     0.99378,     0.99381,     0.99383,     0.99386,     0.99389,     0.99392,     0.99395,     0.99396,     0.99396,\n",
       "            0.99396,     0.99396,     0.99396,     0.99396,     0.99396,     0.99396,     0.99396,     0.99396,     0.99396,     0.99396,     0.99396,     0.99396,     0.99396,     0.99396,     0.99396,     0.99396,     0.99396,     0.99395,     0.99395,     0.99395,     0.99395,     0.99395,     0.99395,\n",
       "            0.99395,     0.99395,     0.99395,     0.99395,     0.99395,     0.99395,     0.99395,     0.99395,     0.99395,     0.99395,     0.99395,     0.99395,     0.99395,     0.99395,     0.99395,     0.99395,     0.99395,     0.99395,     0.99395,     0.99395,     0.99395,     0.99395,     0.99395,\n",
       "            0.99395,     0.99395,     0.99395,     0.99395,     0.99395,     0.99395,     0.99395,     0.99395,     0.99395,     0.99395,     0.99395,     0.99395,     0.99395,     0.99395,     0.99395,     0.99395,     0.99395,     0.99395,     0.99395,     0.99395,     0.99395,     0.99395,     0.99395,\n",
       "            0.99395,     0.99395,     0.99425,     0.99462,     0.99497,     0.99514,     0.99531,     0.99548,     0.99564,     0.99581,     0.99596,     0.99595,     0.99595,     0.99595,     0.99595,     0.99595,     0.99595,     0.99597,       0.996,     0.99602,     0.99604,     0.99607,     0.99609,\n",
       "            0.99611,     0.99614,     0.99616,     0.99618,     0.99621,     0.99623,     0.99625,     0.99628,      0.9963,     0.99632,     0.99634,     0.99637,     0.99639,     0.99641,     0.99644,     0.99646,     0.99648,     0.99651,     0.99653,     0.99655,     0.99658,      0.9966,     0.99662,\n",
       "            0.99665,     0.99667,     0.99669,     0.99672,     0.99674,     0.99676,     0.99679,     0.99681,     0.99683,     0.99686,     0.99688,      0.9969,     0.99693,     0.99695,     0.99696,     0.99696,     0.99696,     0.99696,     0.99696,     0.99696,     0.99696,     0.99696,     0.99696,\n",
       "            0.99696,     0.99696,     0.99696,     0.99696,     0.99696,     0.99696,     0.99696,     0.99696,     0.99696,     0.99696,     0.99696,     0.99696,     0.99696,     0.99696,     0.99696,     0.99696,     0.99695,     0.99695,     0.99695,     0.99695,     0.99695,     0.99695,     0.99695,\n",
       "            0.99695,     0.99695,     0.99695,     0.99695,     0.99695,     0.99695,     0.99695,     0.99695,     0.99695,     0.99695,     0.99695,     0.99695,     0.99695,     0.99695,     0.99695,     0.99695,     0.99695,     0.99695,     0.99695,     0.99695,     0.99695,     0.99695,     0.99695,\n",
       "            0.99695,     0.99695,     0.99695,     0.99695,     0.99695,     0.99695,     0.99695,     0.99695,     0.99695,     0.99695,     0.99695,     0.99695,     0.99695,     0.99695,     0.99695,     0.99695,     0.99695,     0.99695,     0.99695,     0.99695,     0.99695,     0.99695,     0.99695,\n",
       "            0.99695,     0.99695,     0.99695,     0.99695,     0.99695,     0.99695,     0.99695,     0.99695,     0.99695,     0.99695,     0.99695,     0.99695,     0.99695,     0.99695,     0.99695,     0.99695,     0.99695,     0.99695,     0.99695,     0.99695,     0.99695,     0.99695,     0.99695,\n",
       "            0.99695,     0.99695,     0.99695,     0.99695,     0.99695,     0.99695,     0.99695,     0.99695,     0.99695,     0.99695,     0.99695,     0.99695,     0.99695,     0.99695,     0.99695,     0.99695,     0.99695,     0.99695,     0.99695,     0.99695,     0.99695,     0.99695,     0.99695,\n",
       "            0.99695,     0.99695,     0.99695,     0.99695,     0.99695,     0.99695,     0.99695,     0.99695,     0.99695,     0.99695,     0.99695,     0.99695,     0.99695,     0.99695,     0.99695,     0.99695,     0.99695,     0.99695,     0.99695,     0.99695,     0.99695,     0.99695,     0.99695,\n",
       "            0.99695,     0.99695,     0.99695,     0.99695,     0.99695,     0.99695,     0.99695,     0.99695,     0.99695,     0.99695,     0.99695,     0.99695,     0.99695,     0.99695,     0.99695,     0.99695,     0.99695,     0.99695,     0.99695,     0.99695,     0.99695,     0.99695,     0.99695,\n",
       "            0.99695,     0.99695,     0.99695,     0.99695,     0.99695,     0.99695,     0.99695,     0.99695,     0.99695,     0.99695,     0.99695,     0.99695,     0.99695,     0.99695,     0.99695,     0.99695,     0.99695,     0.99695,     0.99695,     0.99695,     0.99695,     0.99695,     0.99695,\n",
       "            0.99695,     0.99695,     0.99695,     0.99695,     0.99695,     0.99695,     0.99695,     0.99695,     0.99695,     0.99695,     0.99695,     0.99695,     0.99695,     0.99695,     0.99695,     0.99695,     0.99695,     0.99695,     0.99695,     0.99695,     0.99695,     0.99695,     0.99695,\n",
       "            0.99694,     0.99694,     0.99694,     0.99694,     0.99694,     0.99694,     0.99694,     0.99694,     0.99694,     0.99694,     0.99694,     0.99694,     0.99694,     0.99694,     0.99694,     0.99694,     0.99694,     0.99694,     0.99694,     0.99694,     0.99694,     0.99694,     0.99694,\n",
       "            0.99694,     0.99694,     0.99694,     0.99694,     0.99694,     0.99694,     0.99694,     0.99694,     0.99694,     0.99693,     0.99693,     0.99693,     0.99693,     0.99693,     0.99693,     0.99693,     0.99693,     0.99693,     0.99693,     0.99693,     0.99693,     0.99693,     0.99693,\n",
       "            0.99693,     0.99693,     0.99693,     0.99693,     0.99693,     0.99693,     0.99693,     0.99693,     0.99693,     0.99693,     0.99693,     0.99693,     0.99693,     0.99693,     0.99693,     0.99693,     0.99693,     0.99693,     0.99693,     0.99693,     0.99693,     0.99693,     0.99693,\n",
       "            0.99693,     0.99693,     0.99693,     0.99693,     0.99693,     0.99693,     0.99693,     0.99693,     0.99693,     0.99693,     0.99693,     0.99693,     0.99693,     0.99693,     0.99693,     0.99693,     0.99693,     0.99693,     0.99693,     0.99693,     0.99693,     0.99693,     0.99693,\n",
       "            0.99692,     0.99692,     0.99692,     0.99692,     0.99692,     0.99692,     0.99692,     0.99692,     0.99692,     0.99692,     0.99692,     0.99692,     0.99692,     0.99692,     0.99692,     0.99692,     0.99692,     0.99692,     0.99692,     0.99692,     0.99692,     0.99692,     0.99692,\n",
       "            0.99692,     0.99692,     0.99692,     0.99692,     0.99692,     0.99692,     0.99692,     0.99692,     0.99692,     0.99692,     0.99692,     0.99692,     0.99692,     0.99692,     0.99692,     0.99692,     0.99692,     0.99692,     0.99692,     0.99692,     0.99692,     0.99692,     0.99692,\n",
       "            0.99692,     0.99692,     0.99692,     0.99692,     0.99692,     0.99692,     0.99692,     0.99692,     0.99692,     0.99692,     0.99692,     0.99692,     0.99692,     0.99692,     0.99691,     0.99691,     0.99691,     0.99691,     0.99691,     0.99691,     0.99691,     0.99691,     0.99691,\n",
       "            0.99691,     0.99691,     0.99691,     0.99691,     0.99691,     0.99691,     0.99691,     0.99691,     0.99691,     0.99691,     0.99691,     0.99691,     0.99691,     0.99691,     0.99691,     0.99691,     0.99691,     0.99691,     0.99691,     0.99691,     0.99691,     0.99691,     0.99691,\n",
       "            0.99691,     0.99691,     0.99691,     0.99696,       0.997,     0.99705,     0.99709,     0.99714,     0.99719,     0.99723,     0.99728,     0.99732,     0.99737,     0.99742,     0.99746,     0.99751,     0.99755,      0.9976,     0.99764,     0.99769,     0.99774,     0.99778,     0.99783,\n",
       "            0.99787,     0.99792,     0.99794,     0.99794,     0.99794,     0.99794,     0.99794,     0.99794,     0.99793,     0.99793,     0.99793,     0.99793,     0.99793,     0.99793,     0.99793,     0.99793,     0.99793,     0.99793,     0.99793,     0.99793,     0.99793,     0.99793,     0.99793,\n",
       "            0.99793,     0.99793,     0.99793,     0.99793,     0.99793,     0.99793,     0.99793,     0.99793,     0.99793,     0.99793,     0.99793,     0.99793,     0.99793,     0.99793,     0.99793,     0.99793,     0.99793,     0.99793,     0.99793,     0.99793,     0.99793,     0.99793,     0.99793,\n",
       "            0.99793,     0.99793,     0.99793,     0.99793,     0.99793,     0.99793,     0.99793,     0.99793,     0.99793,     0.99793,     0.99793,     0.99793,     0.99793,     0.99793,     0.99793,     0.99793,     0.99793,     0.99793,     0.99792,     0.99792,     0.99792,     0.99792,     0.99792,\n",
       "            0.99792,     0.99792,     0.99792,     0.99792,     0.99792,     0.99792,     0.99792,     0.99792,     0.99792,     0.99792,     0.99803,     0.99823,     0.99842,     0.99861,     0.99881,     0.99896,     0.99896,     0.99896,     0.99896,     0.99896,     0.99896,     0.99896,     0.99896,\n",
       "            0.99896,     0.99896,     0.99896,     0.99896,     0.99896,     0.99896,     0.99896,     0.99896,     0.99896,     0.99896,     0.99896,     0.99896,     0.99896,     0.99896,     0.99896,     0.99896,     0.99896,     0.99896,     0.99896,     0.99896,     0.99896,     0.99895,     0.99895,\n",
       "            0.99895,     0.99895,     0.99895,     0.99895,     0.99895,     0.99895,     0.99895,     0.99895,     0.99895,     0.99895,     0.99895,     0.99895,     0.99895,     0.99895,     0.99895,     0.99895,     0.99895,     0.99895,     0.99895,     0.99895,     0.99895,     0.99895,     0.99895,\n",
       "            0.99895,     0.99895,     0.99895,     0.99895,     0.99895,     0.99895,     0.99895,     0.99895,     0.99895,     0.99895,     0.99895,     0.99894,     0.99894,     0.99894,     0.99894,     0.99894,     0.99894,     0.99894,     0.99894,     0.99894,     0.99894,     0.99894,     0.99894,\n",
       "            0.99894,     0.99894,     0.99894,     0.99894,     0.99894,     0.99894,     0.99894,     0.99894,     0.99894,     0.99894,     0.99894,     0.99894,     0.99894,     0.99894,     0.99894,     0.99894,     0.99894,     0.99894,     0.99894,     0.99894,     0.99893,     0.99893,     0.99893,\n",
       "            0.99893,     0.99893,     0.99893,     0.99893,     0.99893,     0.99893,     0.99892,     0.99892,     0.99892,     0.99892,     0.99892,     0.99892,     0.99892,     0.99892,     0.99892,     0.99892,     0.99891,     0.99891,     0.99891,     0.99891,     0.99891,     0.99891,     0.99891,\n",
       "            0.99891,      0.9989,      0.9989,      0.9989,      0.9989,      0.9989,      0.9989,     0.99889,     0.99889,     0.99889,     0.99888,     0.99888,     0.99888,     0.99887,     0.99887,     0.99887,     0.99886,     0.99886,     0.99886,     0.99885,     0.99884,     0.99883,     0.99882,\n",
       "            0.99881,      0.9988,     0.99879,     0.99878,     0.99876,     0.99875,     0.99872,     0.99871,     0.99869,     0.99868,     0.99865,     0.99863,      0.9986,     0.99856,     0.99853,     0.99848,     0.99846,      0.9984,     0.99836,     0.99832,     0.99827,     0.99817,     0.99813,\n",
       "            0.99802,     0.99795,     0.99789,     0.99778,     0.99762,     0.99753,     0.99735,     0.99727,     0.99697,     0.99679,      0.9966,     0.99622,     0.99576,      0.9954,     0.99481,     0.99446,     0.99388,     0.99347,     0.99271,     0.99498,           1,           1,           1,\n",
       "                  1,           1,           1,           1,           1,           1,           1,           1,           1,           1,           1,           1,           1,           1,           1,           1,           1,           1,           1,           1,           1,           1,           1,\n",
       "                  1,           1,           1,           1,           1,           1,           1,           1,           1,           1,           1,           1,           1,           1,           1,           1,           1,           1,           1,           1,           1,           1,           1,\n",
       "                  1,           1,           1,           1,           1,           1,           1,           1,           1,           1,           1,           1,           1,           1,           1,           1,           1,           1,           1,           1,           1,           1,           1,\n",
       "                  1,           1,           1,           1,           1,           1,           1,           1,           1,           1,           1]]), 'Confidence', 'Precision'], [array([          0,    0.001001,    0.002002,    0.003003,    0.004004,    0.005005,    0.006006,    0.007007,    0.008008,    0.009009,     0.01001,    0.011011,    0.012012,    0.013013,    0.014014,    0.015015,    0.016016,    0.017017,    0.018018,    0.019019,     0.02002,    0.021021,    0.022022,    0.023023,\n",
       "          0.024024,    0.025025,    0.026026,    0.027027,    0.028028,    0.029029,     0.03003,    0.031031,    0.032032,    0.033033,    0.034034,    0.035035,    0.036036,    0.037037,    0.038038,    0.039039,     0.04004,    0.041041,    0.042042,    0.043043,    0.044044,    0.045045,    0.046046,    0.047047,\n",
       "          0.048048,    0.049049,     0.05005,    0.051051,    0.052052,    0.053053,    0.054054,    0.055055,    0.056056,    0.057057,    0.058058,    0.059059,     0.06006,    0.061061,    0.062062,    0.063063,    0.064064,    0.065065,    0.066066,    0.067067,    0.068068,    0.069069,     0.07007,    0.071071,\n",
       "          0.072072,    0.073073,    0.074074,    0.075075,    0.076076,    0.077077,    0.078078,    0.079079,     0.08008,    0.081081,    0.082082,    0.083083,    0.084084,    0.085085,    0.086086,    0.087087,    0.088088,    0.089089,     0.09009,    0.091091,    0.092092,    0.093093,    0.094094,    0.095095,\n",
       "          0.096096,    0.097097,    0.098098,    0.099099,      0.1001,      0.1011,      0.1021,      0.1031,      0.1041,     0.10511,     0.10611,     0.10711,     0.10811,     0.10911,     0.11011,     0.11111,     0.11211,     0.11311,     0.11411,     0.11512,     0.11612,     0.11712,     0.11812,     0.11912,\n",
       "           0.12012,     0.12112,     0.12212,     0.12312,     0.12412,     0.12513,     0.12613,     0.12713,     0.12813,     0.12913,     0.13013,     0.13113,     0.13213,     0.13313,     0.13413,     0.13514,     0.13614,     0.13714,     0.13814,     0.13914,     0.14014,     0.14114,     0.14214,     0.14314,\n",
       "           0.14414,     0.14515,     0.14615,     0.14715,     0.14815,     0.14915,     0.15015,     0.15115,     0.15215,     0.15315,     0.15415,     0.15516,     0.15616,     0.15716,     0.15816,     0.15916,     0.16016,     0.16116,     0.16216,     0.16316,     0.16416,     0.16517,     0.16617,     0.16717,\n",
       "           0.16817,     0.16917,     0.17017,     0.17117,     0.17217,     0.17317,     0.17417,     0.17518,     0.17618,     0.17718,     0.17818,     0.17918,     0.18018,     0.18118,     0.18218,     0.18318,     0.18418,     0.18519,     0.18619,     0.18719,     0.18819,     0.18919,     0.19019,     0.19119,\n",
       "           0.19219,     0.19319,     0.19419,      0.1952,      0.1962,      0.1972,      0.1982,      0.1992,      0.2002,      0.2012,      0.2022,      0.2032,      0.2042,     0.20521,     0.20621,     0.20721,     0.20821,     0.20921,     0.21021,     0.21121,     0.21221,     0.21321,     0.21421,     0.21522,\n",
       "           0.21622,     0.21722,     0.21822,     0.21922,     0.22022,     0.22122,     0.22222,     0.22322,     0.22422,     0.22523,     0.22623,     0.22723,     0.22823,     0.22923,     0.23023,     0.23123,     0.23223,     0.23323,     0.23423,     0.23524,     0.23624,     0.23724,     0.23824,     0.23924,\n",
       "           0.24024,     0.24124,     0.24224,     0.24324,     0.24424,     0.24525,     0.24625,     0.24725,     0.24825,     0.24925,     0.25025,     0.25125,     0.25225,     0.25325,     0.25425,     0.25526,     0.25626,     0.25726,     0.25826,     0.25926,     0.26026,     0.26126,     0.26226,     0.26326,\n",
       "           0.26426,     0.26527,     0.26627,     0.26727,     0.26827,     0.26927,     0.27027,     0.27127,     0.27227,     0.27327,     0.27427,     0.27528,     0.27628,     0.27728,     0.27828,     0.27928,     0.28028,     0.28128,     0.28228,     0.28328,     0.28428,     0.28529,     0.28629,     0.28729,\n",
       "           0.28829,     0.28929,     0.29029,     0.29129,     0.29229,     0.29329,     0.29429,      0.2953,      0.2963,      0.2973,      0.2983,      0.2993,      0.3003,      0.3013,      0.3023,      0.3033,      0.3043,     0.30531,     0.30631,     0.30731,     0.30831,     0.30931,     0.31031,     0.31131,\n",
       "           0.31231,     0.31331,     0.31431,     0.31532,     0.31632,     0.31732,     0.31832,     0.31932,     0.32032,     0.32132,     0.32232,     0.32332,     0.32432,     0.32533,     0.32633,     0.32733,     0.32833,     0.32933,     0.33033,     0.33133,     0.33233,     0.33333,     0.33433,     0.33534,\n",
       "           0.33634,     0.33734,     0.33834,     0.33934,     0.34034,     0.34134,     0.34234,     0.34334,     0.34434,     0.34535,     0.34635,     0.34735,     0.34835,     0.34935,     0.35035,     0.35135,     0.35235,     0.35335,     0.35435,     0.35536,     0.35636,     0.35736,     0.35836,     0.35936,\n",
       "           0.36036,     0.36136,     0.36236,     0.36336,     0.36436,     0.36537,     0.36637,     0.36737,     0.36837,     0.36937,     0.37037,     0.37137,     0.37237,     0.37337,     0.37437,     0.37538,     0.37638,     0.37738,     0.37838,     0.37938,     0.38038,     0.38138,     0.38238,     0.38338,\n",
       "           0.38438,     0.38539,     0.38639,     0.38739,     0.38839,     0.38939,     0.39039,     0.39139,     0.39239,     0.39339,     0.39439,      0.3954,      0.3964,      0.3974,      0.3984,      0.3994,      0.4004,      0.4014,      0.4024,      0.4034,      0.4044,     0.40541,     0.40641,     0.40741,\n",
       "           0.40841,     0.40941,     0.41041,     0.41141,     0.41241,     0.41341,     0.41441,     0.41542,     0.41642,     0.41742,     0.41842,     0.41942,     0.42042,     0.42142,     0.42242,     0.42342,     0.42442,     0.42543,     0.42643,     0.42743,     0.42843,     0.42943,     0.43043,     0.43143,\n",
       "           0.43243,     0.43343,     0.43443,     0.43544,     0.43644,     0.43744,     0.43844,     0.43944,     0.44044,     0.44144,     0.44244,     0.44344,     0.44444,     0.44545,     0.44645,     0.44745,     0.44845,     0.44945,     0.45045,     0.45145,     0.45245,     0.45345,     0.45445,     0.45546,\n",
       "           0.45646,     0.45746,     0.45846,     0.45946,     0.46046,     0.46146,     0.46246,     0.46346,     0.46446,     0.46547,     0.46647,     0.46747,     0.46847,     0.46947,     0.47047,     0.47147,     0.47247,     0.47347,     0.47447,     0.47548,     0.47648,     0.47748,     0.47848,     0.47948,\n",
       "           0.48048,     0.48148,     0.48248,     0.48348,     0.48448,     0.48549,     0.48649,     0.48749,     0.48849,     0.48949,     0.49049,     0.49149,     0.49249,     0.49349,     0.49449,      0.4955,      0.4965,      0.4975,      0.4985,      0.4995,      0.5005,      0.5015,      0.5025,      0.5035,\n",
       "            0.5045,     0.50551,     0.50651,     0.50751,     0.50851,     0.50951,     0.51051,     0.51151,     0.51251,     0.51351,     0.51451,     0.51552,     0.51652,     0.51752,     0.51852,     0.51952,     0.52052,     0.52152,     0.52252,     0.52352,     0.52452,     0.52553,     0.52653,     0.52753,\n",
       "           0.52853,     0.52953,     0.53053,     0.53153,     0.53253,     0.53353,     0.53453,     0.53554,     0.53654,     0.53754,     0.53854,     0.53954,     0.54054,     0.54154,     0.54254,     0.54354,     0.54454,     0.54555,     0.54655,     0.54755,     0.54855,     0.54955,     0.55055,     0.55155,\n",
       "           0.55255,     0.55355,     0.55455,     0.55556,     0.55656,     0.55756,     0.55856,     0.55956,     0.56056,     0.56156,     0.56256,     0.56356,     0.56456,     0.56557,     0.56657,     0.56757,     0.56857,     0.56957,     0.57057,     0.57157,     0.57257,     0.57357,     0.57457,     0.57558,\n",
       "           0.57658,     0.57758,     0.57858,     0.57958,     0.58058,     0.58158,     0.58258,     0.58358,     0.58458,     0.58559,     0.58659,     0.58759,     0.58859,     0.58959,     0.59059,     0.59159,     0.59259,     0.59359,     0.59459,      0.5956,      0.5966,      0.5976,      0.5986,      0.5996,\n",
       "            0.6006,      0.6016,      0.6026,      0.6036,      0.6046,     0.60561,     0.60661,     0.60761,     0.60861,     0.60961,     0.61061,     0.61161,     0.61261,     0.61361,     0.61461,     0.61562,     0.61662,     0.61762,     0.61862,     0.61962,     0.62062,     0.62162,     0.62262,     0.62362,\n",
       "           0.62462,     0.62563,     0.62663,     0.62763,     0.62863,     0.62963,     0.63063,     0.63163,     0.63263,     0.63363,     0.63463,     0.63564,     0.63664,     0.63764,     0.63864,     0.63964,     0.64064,     0.64164,     0.64264,     0.64364,     0.64464,     0.64565,     0.64665,     0.64765,\n",
       "           0.64865,     0.64965,     0.65065,     0.65165,     0.65265,     0.65365,     0.65465,     0.65566,     0.65666,     0.65766,     0.65866,     0.65966,     0.66066,     0.66166,     0.66266,     0.66366,     0.66466,     0.66567,     0.66667,     0.66767,     0.66867,     0.66967,     0.67067,     0.67167,\n",
       "           0.67267,     0.67367,     0.67467,     0.67568,     0.67668,     0.67768,     0.67868,     0.67968,     0.68068,     0.68168,     0.68268,     0.68368,     0.68468,     0.68569,     0.68669,     0.68769,     0.68869,     0.68969,     0.69069,     0.69169,     0.69269,     0.69369,     0.69469,      0.6957,\n",
       "            0.6967,      0.6977,      0.6987,      0.6997,      0.7007,      0.7017,      0.7027,      0.7037,      0.7047,     0.70571,     0.70671,     0.70771,     0.70871,     0.70971,     0.71071,     0.71171,     0.71271,     0.71371,     0.71471,     0.71572,     0.71672,     0.71772,     0.71872,     0.71972,\n",
       "           0.72072,     0.72172,     0.72272,     0.72372,     0.72472,     0.72573,     0.72673,     0.72773,     0.72873,     0.72973,     0.73073,     0.73173,     0.73273,     0.73373,     0.73473,     0.73574,     0.73674,     0.73774,     0.73874,     0.73974,     0.74074,     0.74174,     0.74274,     0.74374,\n",
       "           0.74474,     0.74575,     0.74675,     0.74775,     0.74875,     0.74975,     0.75075,     0.75175,     0.75275,     0.75375,     0.75475,     0.75576,     0.75676,     0.75776,     0.75876,     0.75976,     0.76076,     0.76176,     0.76276,     0.76376,     0.76476,     0.76577,     0.76677,     0.76777,\n",
       "           0.76877,     0.76977,     0.77077,     0.77177,     0.77277,     0.77377,     0.77477,     0.77578,     0.77678,     0.77778,     0.77878,     0.77978,     0.78078,     0.78178,     0.78278,     0.78378,     0.78478,     0.78579,     0.78679,     0.78779,     0.78879,     0.78979,     0.79079,     0.79179,\n",
       "           0.79279,     0.79379,     0.79479,      0.7958,      0.7968,      0.7978,      0.7988,      0.7998,      0.8008,      0.8018,      0.8028,      0.8038,      0.8048,     0.80581,     0.80681,     0.80781,     0.80881,     0.80981,     0.81081,     0.81181,     0.81281,     0.81381,     0.81481,     0.81582,\n",
       "           0.81682,     0.81782,     0.81882,     0.81982,     0.82082,     0.82182,     0.82282,     0.82382,     0.82482,     0.82583,     0.82683,     0.82783,     0.82883,     0.82983,     0.83083,     0.83183,     0.83283,     0.83383,     0.83483,     0.83584,     0.83684,     0.83784,     0.83884,     0.83984,\n",
       "           0.84084,     0.84184,     0.84284,     0.84384,     0.84484,     0.84585,     0.84685,     0.84785,     0.84885,     0.84985,     0.85085,     0.85185,     0.85285,     0.85385,     0.85485,     0.85586,     0.85686,     0.85786,     0.85886,     0.85986,     0.86086,     0.86186,     0.86286,     0.86386,\n",
       "           0.86486,     0.86587,     0.86687,     0.86787,     0.86887,     0.86987,     0.87087,     0.87187,     0.87287,     0.87387,     0.87487,     0.87588,     0.87688,     0.87788,     0.87888,     0.87988,     0.88088,     0.88188,     0.88288,     0.88388,     0.88488,     0.88589,     0.88689,     0.88789,\n",
       "           0.88889,     0.88989,     0.89089,     0.89189,     0.89289,     0.89389,     0.89489,      0.8959,      0.8969,      0.8979,      0.8989,      0.8999,      0.9009,      0.9019,      0.9029,      0.9039,      0.9049,     0.90591,     0.90691,     0.90791,     0.90891,     0.90991,     0.91091,     0.91191,\n",
       "           0.91291,     0.91391,     0.91491,     0.91592,     0.91692,     0.91792,     0.91892,     0.91992,     0.92092,     0.92192,     0.92292,     0.92392,     0.92492,     0.92593,     0.92693,     0.92793,     0.92893,     0.92993,     0.93093,     0.93193,     0.93293,     0.93393,     0.93493,     0.93594,\n",
       "           0.93694,     0.93794,     0.93894,     0.93994,     0.94094,     0.94194,     0.94294,     0.94394,     0.94494,     0.94595,     0.94695,     0.94795,     0.94895,     0.94995,     0.95095,     0.95195,     0.95295,     0.95395,     0.95495,     0.95596,     0.95696,     0.95796,     0.95896,     0.95996,\n",
       "           0.96096,     0.96196,     0.96296,     0.96396,     0.96496,     0.96597,     0.96697,     0.96797,     0.96897,     0.96997,     0.97097,     0.97197,     0.97297,     0.97397,     0.97497,     0.97598,     0.97698,     0.97798,     0.97898,     0.97998,     0.98098,     0.98198,     0.98298,     0.98398,\n",
       "           0.98498,     0.98599,     0.98699,     0.98799,     0.98899,     0.98999,     0.99099,     0.99199,     0.99299,     0.99399,     0.99499,       0.996,       0.997,       0.998,       0.999,           1]), array([[      0.994,       0.994,       0.994,       0.994,       0.994,     0.99377,       0.993,       0.992,       0.992,       0.992,       0.992,       0.992,       0.992,       0.992,       0.992,       0.992,       0.992,       0.992,       0.992,       0.992,       0.992,       0.992,       0.992,\n",
       "              0.992,       0.991,       0.991,       0.991,       0.991,       0.991,       0.991,       0.991,     0.99096,     0.99079,     0.99063,     0.99046,     0.99029,     0.99012,     0.98968,       0.989,       0.989,       0.989,       0.989,       0.989,     0.98856,     0.98799,     0.98789,\n",
       "            0.98779,     0.98769,     0.98759,     0.98749,     0.98739,     0.98729,     0.98719,     0.98708,       0.987,       0.987,       0.987,       0.987,       0.987,       0.987,       0.987,       0.987,       0.987,       0.987,       0.987,       0.987,       0.987,       0.987,       0.987,\n",
       "              0.987,       0.987,       0.987,       0.987,       0.987,       0.987,       0.987,       0.987,       0.987,       0.987,       0.987,       0.987,       0.987,       0.987,       0.987,       0.987,       0.987,       0.987,       0.987,       0.987,       0.987,     0.98699,     0.98696,\n",
       "            0.98694,     0.98692,     0.98689,     0.98687,     0.98685,     0.98683,      0.9868,     0.98678,     0.98676,     0.98674,     0.98671,     0.98669,     0.98667,     0.98664,     0.98662,      0.9866,     0.98658,     0.98655,     0.98653,     0.98651,     0.98648,     0.98646,     0.98644,\n",
       "            0.98642,     0.98639,     0.98637,     0.98635,     0.98633,      0.9863,     0.98628,     0.98626,     0.98623,     0.98621,     0.98619,     0.98617,     0.98614,     0.98612,      0.9861,     0.98607,     0.98605,     0.98603,     0.98601,     0.98598,     0.98594,     0.98591,     0.98587,\n",
       "            0.98584,      0.9858,     0.98577,     0.98573,      0.9857,     0.98566,     0.98563,     0.98559,     0.98556,     0.98553,     0.98549,     0.98546,     0.98542,     0.98539,     0.98535,     0.98532,     0.98528,     0.98525,     0.98521,     0.98518,     0.98515,     0.98511,     0.98508,\n",
       "            0.98504,     0.98501,       0.985,       0.985,       0.985,       0.985,       0.985,       0.985,       0.985,       0.985,     0.98498,     0.98482,     0.98465,     0.98449,     0.98433,     0.98417,     0.98401,       0.984,       0.984,       0.984,       0.984,       0.984,       0.984,\n",
       "              0.984,       0.984,       0.984,       0.984,       0.984,       0.984,       0.984,       0.984,       0.984,       0.984,       0.984,       0.984,       0.984,       0.984,       0.984,       0.984,       0.984,       0.984,       0.984,       0.984,       0.984,       0.984,       0.984,\n",
       "              0.984,       0.984,       0.984,       0.984,       0.984,       0.984,       0.984,       0.984,       0.984,       0.984,       0.984,       0.984,       0.984,       0.984,     0.98373,     0.98322,     0.98298,     0.98295,     0.98291,     0.98288,     0.98285,     0.98281,     0.98278,\n",
       "            0.98275,     0.98271,     0.98268,     0.98264,     0.98261,     0.98258,     0.98254,     0.98251,     0.98248,     0.98244,     0.98241,     0.98238,     0.98234,     0.98231,     0.98228,     0.98224,     0.98221,     0.98217,     0.98214,     0.98211,     0.98207,     0.98204,     0.98201,\n",
       "            0.98199,     0.98198,     0.98196,     0.98195,     0.98194,     0.98192,     0.98191,      0.9819,     0.98189,     0.98187,     0.98186,     0.98185,     0.98183,     0.98182,     0.98181,     0.98179,     0.98178,     0.98177,     0.98176,     0.98174,     0.98173,     0.98172,      0.9817,\n",
       "            0.98169,     0.98168,     0.98166,     0.98165,     0.98164,     0.98162,     0.98161,      0.9816,     0.98159,     0.98157,     0.98156,     0.98155,     0.98153,     0.98152,     0.98151,     0.98149,     0.98148,     0.98147,     0.98146,     0.98144,     0.98143,     0.98142,      0.9814,\n",
       "            0.98139,     0.98138,     0.98136,     0.98135,     0.98134,     0.98133,     0.98131,      0.9813,     0.98129,     0.98127,     0.98126,     0.98125,     0.98123,     0.98122,     0.98121,      0.9812,     0.98118,     0.98117,     0.98116,     0.98114,     0.98113,     0.98112,      0.9811,\n",
       "            0.98109,     0.98108,     0.98107,     0.98105,     0.98104,     0.98103,     0.98101,       0.981,     0.98099,     0.98097,     0.98096,     0.98094,     0.98093,     0.98092,      0.9809,     0.98089,     0.98087,     0.98086,     0.98084,     0.98083,     0.98082,      0.9808,     0.98079,\n",
       "            0.98077,     0.98076,     0.98074,     0.98073,     0.98072,      0.9807,     0.98069,     0.98067,     0.98066,     0.98065,     0.98063,     0.98062,      0.9806,     0.98059,     0.98057,     0.98056,     0.98055,     0.98053,     0.98052,      0.9805,     0.98049,     0.98048,     0.98046,\n",
       "            0.98045,     0.98043,     0.98042,      0.9804,     0.98039,     0.98038,     0.98036,     0.98035,     0.98033,     0.98032,     0.98031,     0.98029,     0.98028,     0.98026,     0.98025,     0.98023,     0.98022,     0.98021,     0.98019,     0.98018,     0.98016,     0.98015,     0.98013,\n",
       "            0.98012,     0.98011,     0.98009,     0.98008,     0.98006,     0.98005,     0.98004,     0.98002,     0.98001,     0.97999,     0.97996,     0.97993,     0.97991,     0.97988,     0.97985,     0.97982,      0.9798,     0.97977,     0.97974,     0.97971,     0.97969,     0.97966,     0.97963,\n",
       "            0.97961,     0.97958,     0.97955,     0.97952,      0.9795,     0.97947,     0.97944,     0.97942,     0.97939,     0.97936,     0.97933,     0.97931,     0.97928,     0.97925,     0.97923,      0.9792,     0.97917,     0.97914,     0.97912,     0.97909,     0.97906,     0.97904,     0.97901,\n",
       "            0.97794,     0.97786,     0.97777,     0.97769,      0.9776,     0.97752,     0.97743,     0.97734,     0.97726,     0.97717,     0.97709,       0.977,     0.97695,      0.9769,     0.97685,      0.9768,     0.97675,     0.97671,     0.97666,     0.97661,     0.97656,     0.97651,     0.97646,\n",
       "            0.97641,     0.97636,     0.97631,     0.97626,     0.97621,     0.97616,     0.97611,     0.97606,     0.97601,     0.97498,     0.97496,     0.97494,     0.97492,     0.97489,     0.97487,     0.97485,     0.97483,     0.97481,     0.97478,     0.97476,     0.97474,     0.97472,     0.97469,\n",
       "            0.97467,     0.97465,     0.97463,     0.97461,     0.97458,     0.97456,     0.97454,     0.97452,     0.97449,     0.97447,     0.97445,     0.97443,      0.9744,     0.97438,     0.97436,     0.97434,     0.97432,     0.97429,     0.97427,     0.97425,     0.97423,      0.9742,     0.97418,\n",
       "            0.97416,     0.97414,     0.97411,     0.97409,     0.97407,     0.97405,     0.97403,       0.974,     0.97393,     0.97385,     0.97378,      0.9737,     0.97362,     0.97354,     0.97346,     0.97338,      0.9733,     0.97322,     0.97315,     0.97307,     0.97298,     0.97285,     0.97272,\n",
       "             0.9726,     0.97247,     0.97234,     0.97221,     0.97208,     0.97199,     0.97195,     0.97191,     0.97187,     0.97183,     0.97179,     0.97175,     0.97172,     0.97168,     0.97164,      0.9716,     0.97156,     0.97152,     0.97148,     0.97144,     0.97141,     0.97137,     0.97133,\n",
       "            0.97129,     0.97125,     0.97121,     0.97117,     0.97114,      0.9711,     0.97106,     0.97102,     0.97098,     0.97093,     0.97089,     0.97085,      0.9708,     0.97076,     0.97072,     0.97067,     0.97063,     0.97059,     0.97054,      0.9705,     0.97045,     0.97041,     0.97037,\n",
       "            0.97032,     0.97028,     0.97024,     0.97019,     0.97015,     0.97011,     0.97006,     0.97002,     0.96995,     0.96985,     0.96976,     0.96967,     0.96957,     0.96948,     0.96939,     0.96929,      0.9692,     0.96911,     0.96901,     0.96896,     0.96892,     0.96888,     0.96883,\n",
       "            0.96879,     0.96875,      0.9687,     0.96866,     0.96861,     0.96857,     0.96853,     0.96848,     0.96844,      0.9684,     0.96835,     0.96831,     0.96827,     0.96822,     0.96818,     0.96813,     0.96809,     0.96805,       0.968,     0.96787,     0.96772,     0.96757,     0.96743,\n",
       "            0.96728,     0.96713,       0.967,       0.967,       0.967,       0.967,       0.967,       0.967,       0.967,       0.967,       0.967,       0.967,       0.967,       0.967,       0.967,       0.967,       0.967,       0.967,       0.967,       0.967,       0.967,       0.967,       0.967,\n",
       "              0.967,       0.967,     0.96695,     0.96686,     0.96678,      0.9667,     0.96662,     0.96654,     0.96645,     0.96637,     0.96629,     0.96621,     0.96613,     0.96604,     0.96597,     0.96589,     0.96581,     0.96574,     0.96566,     0.96559,     0.96551,     0.96543,     0.96536,\n",
       "            0.96528,     0.96521,     0.96513,     0.96505,     0.96497,     0.96489,      0.9648,     0.96471,     0.96462,     0.96453,     0.96444,     0.96435,     0.96426,     0.96417,     0.96408,     0.96399,     0.96378,     0.96358,     0.96337,     0.96317,     0.96299,     0.96294,     0.96289,\n",
       "            0.96283,     0.96278,     0.96273,     0.96267,     0.96262,     0.96257,     0.96252,     0.96246,     0.96241,     0.96236,     0.96231,     0.96225,      0.9622,     0.96215,      0.9621,     0.96204,     0.96199,     0.96192,     0.96185,     0.96178,     0.96172,     0.96165,     0.96158,\n",
       "            0.96151,     0.96144,     0.96137,     0.96131,     0.96124,     0.96117,      0.9611,     0.96103,     0.96073,     0.96022,        0.96,        0.96,        0.96,        0.96,        0.96,     0.95999,     0.95992,     0.95986,      0.9598,     0.95974,     0.95968,     0.95961,     0.95955,\n",
       "            0.95949,     0.95943,     0.95937,      0.9593,     0.95924,     0.95918,     0.95912,     0.95905,     0.95898,     0.95884,     0.95869,     0.95854,      0.9584,     0.95825,      0.9581,     0.95792,     0.95762,     0.95733,     0.95704,      0.9564,     0.95595,     0.95582,     0.95569,\n",
       "            0.95556,     0.95544,     0.95531,     0.95518,     0.95505,     0.95489,      0.9547,     0.95451,     0.95433,     0.95414,      0.9539,     0.95349,     0.95308,     0.95245,     0.95196,     0.95185,     0.95173,     0.95162,     0.95151,     0.95139,     0.95128,     0.95116,     0.95105,\n",
       "            0.95094,     0.95082,     0.95071,      0.9506,     0.95048,     0.95037,     0.95025,     0.95014,     0.95003,     0.94921,     0.94691,     0.94662,     0.94632,     0.94603,     0.94491,     0.94468,     0.94445,     0.94422,       0.944,      0.9439,     0.94379,     0.94369,     0.94359,\n",
       "            0.94349,     0.94338,     0.94328,     0.94318,     0.94308,     0.94291,     0.94257,     0.94223,     0.94131,     0.94091,     0.94081,     0.94071,     0.94061,      0.9405,      0.9404,      0.9403,      0.9402,     0.94009,     0.93994,     0.93925,     0.93771,     0.93633,     0.93454,\n",
       "            0.93393,     0.93358,     0.93324,     0.93141,     0.93018,     0.92944,     0.92888,     0.92853,     0.92819,     0.92682,     0.92641,       0.926,     0.92299,     0.92265,     0.92231,     0.92181,     0.92059,     0.91993,     0.91941,     0.91861,     0.91771,      0.9173,     0.91646,\n",
       "             0.9152,     0.90836,     0.90744,     0.90588,     0.90553,     0.90519,     0.90411,     0.90303,     0.89801,     0.89596,     0.89473,     0.89421,      0.8914,     0.88776,     0.88557,     0.88366,     0.87861,     0.87564,     0.87513,     0.86573,     0.86441,     0.85736,     0.84931,\n",
       "            0.83926,     0.82921,     0.82316,     0.81611,     0.80406,     0.79601,     0.78296,     0.77191,     0.76486,     0.75381,     0.74076,     0.72971,     0.71366,     0.69361,     0.67756,     0.65651,     0.65023,      0.6257,     0.60836,     0.59315,     0.57813,      0.5466,     0.53416,\n",
       "            0.50455,     0.48706,       0.474,     0.44948,     0.41995,     0.40385,      0.3769,     0.36575,     0.32885,     0.31065,      0.2933,     0.26355,     0.23475,     0.21645,      0.1917,     0.17935,      0.1623,     0.15213,      0.1362,       0.114,      0.1071,    0.092054,    0.071502,\n",
       "           0.062954,    0.053904,    0.047951,    0.047268,    0.040754,    0.033704,    0.030327,    0.029302,    0.025277,    0.023501,    0.022453,    0.020601,    0.020088,    0.018152,    0.016627,    0.014602,    0.010577,   0.0095516,   0.0088948,    0.008667,   0.0084392,   0.0082114,   0.0069264,\n",
       "          0.0059343,   0.0052509,   0.0047405,   0.0043305,   0.0036026,   0.0022763,   0.0017005,   0.0012905,           0,           0,           0,           0,           0,           0,           0,           0,           0,           0,           0,           0,           0,           0,           0,\n",
       "                  0,           0,           0,           0,           0,           0,           0,           0,           0,           0,           0,           0,           0,           0,           0,           0,           0,           0,           0,           0,           0,           0,           0,\n",
       "                  0,           0,           0,           0,           0,           0,           0,           0,           0,           0,           0]]), 'Confidence', 'Recall']]\n",
       "fitness: 1.7591075022334324\n",
       "keys: ['metrics/precision(B)', 'metrics/recall(B)', 'metrics/mAP50(B)', 'metrics/mAP50-95(B)', 'metrics/precision(M)', 'metrics/recall(M)', 'metrics/mAP50(M)', 'metrics/mAP50-95(M)']\n",
       "maps: array([     1.7337])\n",
       "names: {0: 'plates'}\n",
       "plot: True\n",
       "results_dict: {'metrics/precision(B)': 0.9934404505153401, 'metrics/recall(B)': 0.987, 'metrics/mAP50(B)': 0.993964400321368, 'metrics/mAP50-95(B)': 0.8689827844161891, 'metrics/precision(M)': 0.9934404505153401, 'metrics/recall(M)': 0.987, 'metrics/mAP50(M)': 0.993964400321368, 'metrics/mAP50-95(M)': 0.8647001291050984, 'fitness': 1.7591075022334324}\n",
       "save_dir: PosixPath('runs/segment/train3')\n",
       "seg: ultralytics.utils.metrics.Metric object\n",
       "speed: {'preprocess': 0.08909845352172852, 'inference': 0.4728834629058838, 'loss': 0.00038170814514160156, 'postprocess': 0.7845430374145508}\n",
       "task: 'segment'"
      ]
     },
     "execution_count": 49,
     "metadata": {},
     "output_type": "execute_result"
    }
   ],
   "source": [
    "from ultralytics import YOLO\n",
    "model_seg=YOLO(\"/root/autodl-tmp/ultralytics/apply/yolov8n-seg.pt\",task =\"segment\") ## 必须配置 task\n",
    "model_seg.train(data=\"plate_seg.yaml\",epochs=100)"
   ]
  },
  {
   "cell_type": "code",
   "execution_count": null,
   "id": "5644f21b-4c82-4a42-b709-2d690d406d43",
   "metadata": {},
   "outputs": [],
   "source": []
  },
  {
   "cell_type": "markdown",
   "id": "7d80319c-e2b7-45d2-bbe6-e585d67c9bad",
   "metadata": {},
   "source": [
    "##  predict\n"
   ]
  },
  {
   "cell_type": "code",
   "execution_count": null,
   "id": "fc0a1669-a8a9-47c4-924f-f541cb1bbbee",
   "metadata": {},
   "outputs": [],
   "source": [
    "\n",
    "from ultralytics import YOLO\n",
    "model_plate=YOLO(model='./runs/segment/train3/weights/best.pt'\n",
    "               ,task=\"segment\")\n",
    "results=model_plate(\"./images/train/00395833333333-90_268-243&427_357&462-357&460_243&462_244&428_356&427-0_0_3_24_24_24_32_33-145-17.jpg\")\n",
    "\n",
    "for result in results:\n",
    "    orig_img=result.orig_img\n",
    "    boxes=result.boxes\n",
    "    masks=result.masks\n"
   ]
  },
  {
   "cell_type": "code",
   "execution_count": null,
   "id": "46a3df21-513c-4220-b4aa-5a43b7190152",
   "metadata": {},
   "outputs": [],
   "source": []
  },
  {
   "cell_type": "code",
   "execution_count": null,
   "id": "e50b6851-d74c-439c-8c71-1b321603c232",
   "metadata": {},
   "outputs": [],
   "source": []
  },
  {
   "cell_type": "code",
   "execution_count": 3,
   "id": "ee3de953-e6ab-4e5a-8b4e-4f66ce9b8f48",
   "metadata": {},
   "outputs": [
    {
     "name": "stdout",
     "output_type": "stream",
     "text": [
      "240.37502\n",
      "240.37502\n",
      "361.8125\n",
      "361.8125\n"
     ]
    }
   ],
   "source": [
    "for data in masks.xy[0]:\n",
    "    print(data[0])"
   ]
  },
  {
   "cell_type": "code",
   "execution_count": 4,
   "id": "e3dbd764-c3b5-471f-8fd8-cc75a5c67d12",
   "metadata": {},
   "outputs": [
    {
     "name": "stdout",
     "output_type": "stream",
     "text": [
      "424.125\n",
      "465.8125\n",
      "465.8125\n",
      "424.125\n"
     ]
    }
   ],
   "source": [
    "for data in masks.xy[0]:\n",
    "    print(data[1])"
   ]
  },
  {
   "cell_type": "code",
   "execution_count": 5,
   "id": "4d19f8f7-6658-46a2-9ca2-3b00e9dfb21a",
   "metadata": {},
   "outputs": [
    {
     "name": "stdout",
     "output_type": "stream",
     "text": [
      "[240.37502, 240.37502, 361.8125, 361.8125] [424.125, 465.8125, 465.8125, 424.125]\n"
     ]
    },
    {
     "data": {
      "image/png": "[encoded data removed]",
      "text/plain": [
       "<Figure size 640x480 with 1 Axes>"
      ]
     },
     "metadata": {},
     "output_type": "display_data"
    }
   ],
   "source": [
    "import cv2\n",
    "import matplotlib.pyplot as plt\n",
    "\n",
    "#以下为花瓶对应坐标\n",
    "## 处理获取想要的目标格式：\n",
    "image=cv2.imread(\"/root/autodl-tmp/ultralytics/apply/plate_ocr/images/train/00395833333333-90_268-243&427_357&462-357&460_243&462_244&428_356&427-0_0_3_24_24_24_32_33-145-17.jpg\")\n",
    "#得到每一个横坐标\n",
    "bb_w=[240.37502\n",
    ",240.37502\n",
    ",361.8125\n",
    ",361.8125]\n",
    "#得到每一纵坐标\n",
    "bb_h=[424.125\n",
    ",465.8125\n",
    ",465.8125\n",
    ",424.125]\n",
    "print(bb_w,bb_h)\n",
    "\n",
    "import cv2\n",
    "plt.imshow(cv2.cvtColor(image, cv2.COLOR_BGR2RGB))\n",
    "\n",
    "for i in range(len(bb_w)):\n",
    "    #绘制圆点\n",
    "    plt.scatter(bb_w[i],bb_h[i],marker='o', c='r')\n",
    "plt.show()"
   ]
  },
  {
   "cell_type": "code",
   "execution_count": null,
   "id": "924bcd6a-92af-41cd-b39c-e7387f9faad1",
   "metadata": {},
   "outputs": [],
   "source": [
    "plt.show()"
   ]
  },
  {
   "cell_type": "code",
   "execution_count": null,
   "id": "92901c18-adcc-4275-8ab4-1e2e8b640b0b",
   "metadata": {},
   "outputs": [],
   "source": []
  },
  {
   "cell_type": "markdown",
   "id": "9d0b42b0-fe67-4e47-b0e2-74f273291261",
   "metadata": {},
   "source": [
    "## Export"
   ]
  },
  {
   "cell_type": "code",
   "execution_count": 6,
   "id": "9d84a339-541f-4624-8ded-5de906107f1e",
   "metadata": {},
   "outputs": [
    {
     "name": "stdout",
     "output_type": "stream",
     "text": [
      "Ultralytics YOLOv8.2.70 🚀 Python-3.9.19 torch-2.2.2+cu121 CPU (Intel Xeon Platinum 8481C)\n",
      "\n",
      "\u001b[34m\u001b[1mPyTorch:\u001b[0m starting from '/root/autodl-tmp/ultralytics/apply/plate_ocr/runs/segment/train3/weights/best.pt' with input shape (1, 3, 640, 640) BCHW and output shape(s) ((1, 37, 8400), (1, 32, 160, 160)) (6.5 MB)\n",
      "\n",
      "\u001b[34m\u001b[1mONNX:\u001b[0m starting export with onnx 1.16.2 opset 17...\n",
      "\u001b[34m\u001b[1mONNX:\u001b[0m export success ✅ 0.7s, saved as '/root/autodl-tmp/ultralytics/apply/plate_ocr/runs/segment/train3/weights/best.onnx' (12.6 MB)\n",
      "\n",
      "Export complete (2.4s)\n",
      "Results saved to \u001b[1m/root/autodl-tmp/ultralytics/apply/plate_ocr/runs/segment/train3/weights\u001b[0m\n",
      "Predict:         yolo predict task=segment model=/root/autodl-tmp/ultralytics/apply/plate_ocr/runs/segment/train3/weights/best.onnx imgsz=640  \n",
      "Validate:        yolo val task=segment model=/root/autodl-tmp/ultralytics/apply/plate_ocr/runs/segment/train3/weights/best.onnx imgsz=640 data=plate_seg.yaml  \n",
      "Visualize:       https://netron.app\n"
     ]
    },
    {
     "data": {
      "text/plain": [
       "'/root/autodl-tmp/ultralytics/apply/plate_ocr/runs/segment/train3/weights/best.onnx'"
      ]
     },
     "execution_count": 6,
     "metadata": {},
     "output_type": "execute_result"
    }
   ],
   "source": [
    "model_plate.export(format=\"onnx\")"
   ]
  },
  {
   "cell_type": "code",
   "execution_count": null,
   "id": "df79c710-7750-4077-92d5-ffec60a7217d",
   "metadata": {},
   "outputs": [],
   "source": []
  },
  {
   "cell_type": "code",
   "execution_count": null,
   "id": "5e1505f7-d68f-4d63-a9c3-0b6277d9cb2e",
   "metadata": {},
   "outputs": [],
   "source": []
  },
  {
   "cell_type": "code",
   "execution_count": null,
   "id": "b78f02f3-8d28-41fb-bbb0-b0533d6b31dd",
   "metadata": {},
   "outputs": [],
   "source": []
  }
 ],
 "metadata": {
  "kernelspec": {
   "display_name": "Python [conda env:ultra]",
   "language": "python",
   "name": "conda-env-ultra-py"
  },
  "language_info": {
   "codemirror_mode": {
    "name": "ipython",
    "version": 3
   },
   "file_extension": ".py",
   "mimetype": "text/x-python",
   "name": "python",
   "nbconvert_exporter": "python",
   "pygments_lexer": "ipython3",
   "version": "3.9.19"
  }
 },
 "nbformat": 4,
 "nbformat_minor": 5
}
